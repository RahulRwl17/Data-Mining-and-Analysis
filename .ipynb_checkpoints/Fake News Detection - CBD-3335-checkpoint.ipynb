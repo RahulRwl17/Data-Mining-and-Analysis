{
 "cells": [
  {
   "cell_type": "markdown",
   "id": "1ad3d026",
   "metadata": {},
   "source": [
    "# Fake News Detection using NLP Techniques and Machine Learning Model."
   ]
  },
  {
   "cell_type": "markdown",
   "id": "67abf006",
   "metadata": {},
   "source": [
    "## Ajay Rajput (c0871742), Rahul Rawal (c0871230), Dhru Prajapati (c0867085)"
   ]
  },
  {
   "cell_type": "code",
   "execution_count": null,
   "id": "226fb1d8",
   "metadata": {},
   "outputs": [],
   "source": []
  },
  {
   "cell_type": "code",
   "execution_count": null,
   "id": "d869d522",
   "metadata": {},
   "outputs": [],
   "source": []
  },
  {
   "cell_type": "markdown",
   "id": "d2b0c1bf",
   "metadata": {},
   "source": [
    "## (1.) Importing Required Libraries"
   ]
  },
  {
   "cell_type": "code",
   "execution_count": 1,
   "id": "70021984",
   "metadata": {},
   "outputs": [],
   "source": [
    "import pandas as pd\n",
    "import numpy as np\n",
    "import seaborn as sns"
   ]
  },
  {
   "cell_type": "markdown",
   "id": "cb0c9d4b",
   "metadata": {},
   "source": [
    "## (2.) Loading Dataset"
   ]
  },
  {
   "cell_type": "code",
   "execution_count": 2,
   "id": "d3ef523b",
   "metadata": {},
   "outputs": [],
   "source": [
    "pd.set_option('display.max_colwidth', 100)\n",
    "\n",
    "true_news_df = pd.read_csv('True.csv')\n",
    "fake_news_df = pd.read_csv('Fake.csv')"
   ]
  },
  {
   "cell_type": "code",
   "execution_count": 3,
   "id": "215c263e",
   "metadata": {},
   "outputs": [
    {
     "data": {
      "text/html": [
       "<div>\n",
       "<style scoped>\n",
       "    .dataframe tbody tr th:only-of-type {\n",
       "        vertical-align: middle;\n",
       "    }\n",
       "\n",
       "    .dataframe tbody tr th {\n",
       "        vertical-align: top;\n",
       "    }\n",
       "\n",
       "    .dataframe thead th {\n",
       "        text-align: right;\n",
       "    }\n",
       "</style>\n",
       "<table border=\"1\" class=\"dataframe\">\n",
       "  <thead>\n",
       "    <tr style=\"text-align: right;\">\n",
       "      <th></th>\n",
       "      <th>title</th>\n",
       "      <th>text</th>\n",
       "      <th>subject</th>\n",
       "      <th>date</th>\n",
       "    </tr>\n",
       "  </thead>\n",
       "  <tbody>\n",
       "    <tr>\n",
       "      <th>0</th>\n",
       "      <td>As U.S. budget fight looms, Republicans flip their fiscal script</td>\n",
       "      <td>WASHINGTON (Reuters) - The head of a conservative Republican faction in the U.S. Congress, who v...</td>\n",
       "      <td>politicsNews</td>\n",
       "      <td>December 31, 2017</td>\n",
       "    </tr>\n",
       "    <tr>\n",
       "      <th>1</th>\n",
       "      <td>U.S. military to accept transgender recruits on Monday: Pentagon</td>\n",
       "      <td>WASHINGTON (Reuters) - Transgender people will be allowed for the first time to enlist in the U....</td>\n",
       "      <td>politicsNews</td>\n",
       "      <td>December 29, 2017</td>\n",
       "    </tr>\n",
       "    <tr>\n",
       "      <th>2</th>\n",
       "      <td>Senior U.S. Republican senator: 'Let Mr. Mueller do his job'</td>\n",
       "      <td>WASHINGTON (Reuters) - The special counsel investigation of links between Russia and President T...</td>\n",
       "      <td>politicsNews</td>\n",
       "      <td>December 31, 2017</td>\n",
       "    </tr>\n",
       "    <tr>\n",
       "      <th>3</th>\n",
       "      <td>FBI Russia probe helped by Australian diplomat tip-off: NYT</td>\n",
       "      <td>WASHINGTON (Reuters) - Trump campaign adviser George Papadopoulos told an Australian diplomat in...</td>\n",
       "      <td>politicsNews</td>\n",
       "      <td>December 30, 2017</td>\n",
       "    </tr>\n",
       "    <tr>\n",
       "      <th>4</th>\n",
       "      <td>Trump wants Postal Service to charge 'much more' for Amazon shipments</td>\n",
       "      <td>SEATTLE/WASHINGTON (Reuters) - President Donald Trump called on the U.S. Postal Service on Frida...</td>\n",
       "      <td>politicsNews</td>\n",
       "      <td>December 29, 2017</td>\n",
       "    </tr>\n",
       "    <tr>\n",
       "      <th>5</th>\n",
       "      <td>White House, Congress prepare for talks on spending, immigration</td>\n",
       "      <td>WEST PALM BEACH, Fla./WASHINGTON (Reuters) - The White House said on Friday it was set to kick o...</td>\n",
       "      <td>politicsNews</td>\n",
       "      <td>December 29, 2017</td>\n",
       "    </tr>\n",
       "    <tr>\n",
       "      <th>6</th>\n",
       "      <td>Trump says Russia probe will be fair, but timeline unclear: NYT</td>\n",
       "      <td>WEST PALM BEACH, Fla (Reuters) - President Donald Trump said on Thursday he believes he will be ...</td>\n",
       "      <td>politicsNews</td>\n",
       "      <td>December 29, 2017</td>\n",
       "    </tr>\n",
       "    <tr>\n",
       "      <th>7</th>\n",
       "      <td>Factbox: Trump on Twitter (Dec 29) - Approval rating, Amazon</td>\n",
       "      <td>The following statements were posted to the verified Twitter accounts of U.S. President Donald T...</td>\n",
       "      <td>politicsNews</td>\n",
       "      <td>December 29, 2017</td>\n",
       "    </tr>\n",
       "    <tr>\n",
       "      <th>8</th>\n",
       "      <td>Trump on Twitter (Dec 28) - Global Warming</td>\n",
       "      <td>The following statements were posted to the verified Twitter accounts of U.S. President Donald T...</td>\n",
       "      <td>politicsNews</td>\n",
       "      <td>December 29, 2017</td>\n",
       "    </tr>\n",
       "    <tr>\n",
       "      <th>9</th>\n",
       "      <td>Alabama official to certify Senator-elect Jones today despite challenge: CNN</td>\n",
       "      <td>WASHINGTON (Reuters) - Alabama Secretary of State John Merrill said he will certify Democratic S...</td>\n",
       "      <td>politicsNews</td>\n",
       "      <td>December 28, 2017</td>\n",
       "    </tr>\n",
       "  </tbody>\n",
       "</table>\n",
       "</div>"
      ],
      "text/plain": [
       "                                                                          title  \\\n",
       "0              As U.S. budget fight looms, Republicans flip their fiscal script   \n",
       "1              U.S. military to accept transgender recruits on Monday: Pentagon   \n",
       "2                  Senior U.S. Republican senator: 'Let Mr. Mueller do his job'   \n",
       "3                   FBI Russia probe helped by Australian diplomat tip-off: NYT   \n",
       "4         Trump wants Postal Service to charge 'much more' for Amazon shipments   \n",
       "5              White House, Congress prepare for talks on spending, immigration   \n",
       "6               Trump says Russia probe will be fair, but timeline unclear: NYT   \n",
       "7                  Factbox: Trump on Twitter (Dec 29) - Approval rating, Amazon   \n",
       "8                                    Trump on Twitter (Dec 28) - Global Warming   \n",
       "9  Alabama official to certify Senator-elect Jones today despite challenge: CNN   \n",
       "\n",
       "                                                                                                  text  \\\n",
       "0  WASHINGTON (Reuters) - The head of a conservative Republican faction in the U.S. Congress, who v...   \n",
       "1  WASHINGTON (Reuters) - Transgender people will be allowed for the first time to enlist in the U....   \n",
       "2  WASHINGTON (Reuters) - The special counsel investigation of links between Russia and President T...   \n",
       "3  WASHINGTON (Reuters) - Trump campaign adviser George Papadopoulos told an Australian diplomat in...   \n",
       "4  SEATTLE/WASHINGTON (Reuters) - President Donald Trump called on the U.S. Postal Service on Frida...   \n",
       "5  WEST PALM BEACH, Fla./WASHINGTON (Reuters) - The White House said on Friday it was set to kick o...   \n",
       "6  WEST PALM BEACH, Fla (Reuters) - President Donald Trump said on Thursday he believes he will be ...   \n",
       "7  The following statements were posted to the verified Twitter accounts of U.S. President Donald T...   \n",
       "8  The following statements were posted to the verified Twitter accounts of U.S. President Donald T...   \n",
       "9  WASHINGTON (Reuters) - Alabama Secretary of State John Merrill said he will certify Democratic S...   \n",
       "\n",
       "        subject                date  \n",
       "0  politicsNews  December 31, 2017   \n",
       "1  politicsNews  December 29, 2017   \n",
       "2  politicsNews  December 31, 2017   \n",
       "3  politicsNews  December 30, 2017   \n",
       "4  politicsNews  December 29, 2017   \n",
       "5  politicsNews  December 29, 2017   \n",
       "6  politicsNews  December 29, 2017   \n",
       "7  politicsNews  December 29, 2017   \n",
       "8  politicsNews  December 29, 2017   \n",
       "9  politicsNews  December 28, 2017   "
      ]
     },
     "execution_count": 3,
     "metadata": {},
     "output_type": "execute_result"
    }
   ],
   "source": [
    "true_news_df.head(10)"
   ]
  },
  {
   "cell_type": "code",
   "execution_count": 4,
   "id": "d6b9f371",
   "metadata": {},
   "outputs": [
    {
     "data": {
      "text/html": [
       "<div>\n",
       "<style scoped>\n",
       "    .dataframe tbody tr th:only-of-type {\n",
       "        vertical-align: middle;\n",
       "    }\n",
       "\n",
       "    .dataframe tbody tr th {\n",
       "        vertical-align: top;\n",
       "    }\n",
       "\n",
       "    .dataframe thead th {\n",
       "        text-align: right;\n",
       "    }\n",
       "</style>\n",
       "<table border=\"1\" class=\"dataframe\">\n",
       "  <thead>\n",
       "    <tr style=\"text-align: right;\">\n",
       "      <th></th>\n",
       "      <th>title</th>\n",
       "      <th>text</th>\n",
       "      <th>subject</th>\n",
       "      <th>date</th>\n",
       "    </tr>\n",
       "  </thead>\n",
       "  <tbody>\n",
       "    <tr>\n",
       "      <th>0</th>\n",
       "      <td>Donald Trump Sends Out Embarrassing New Year’s Eve Message; This is Disturbing</td>\n",
       "      <td>Donald Trump just couldn t wish all Americans a Happy New Year and leave it at that. Instead, he...</td>\n",
       "      <td>News</td>\n",
       "      <td>December 31, 2017</td>\n",
       "    </tr>\n",
       "    <tr>\n",
       "      <th>1</th>\n",
       "      <td>Drunk Bragging Trump Staffer Started Russian Collusion Investigation</td>\n",
       "      <td>House Intelligence Committee Chairman Devin Nunes is going to have a bad day. He s been under th...</td>\n",
       "      <td>News</td>\n",
       "      <td>December 31, 2017</td>\n",
       "    </tr>\n",
       "    <tr>\n",
       "      <th>2</th>\n",
       "      <td>Sheriff David Clarke Becomes An Internet Joke For Threatening To Poke People ‘In The Eye’</td>\n",
       "      <td>On Friday, it was revealed that former Milwaukee Sheriff David Clarke, who was being considered ...</td>\n",
       "      <td>News</td>\n",
       "      <td>December 30, 2017</td>\n",
       "    </tr>\n",
       "    <tr>\n",
       "      <th>3</th>\n",
       "      <td>Trump Is So Obsessed He Even Has Obama’s Name Coded Into His Website (IMAGES)</td>\n",
       "      <td>On Christmas day, Donald Trump announced that he would  be back to work  the following day, but ...</td>\n",
       "      <td>News</td>\n",
       "      <td>December 29, 2017</td>\n",
       "    </tr>\n",
       "    <tr>\n",
       "      <th>4</th>\n",
       "      <td>Pope Francis Just Called Out Donald Trump During His Christmas Speech</td>\n",
       "      <td>Pope Francis used his annual Christmas Day message to rebuke Donald Trump without even mentionin...</td>\n",
       "      <td>News</td>\n",
       "      <td>December 25, 2017</td>\n",
       "    </tr>\n",
       "    <tr>\n",
       "      <th>5</th>\n",
       "      <td>Racist Alabama Cops Brutalize Black Boy While He Is In Handcuffs (GRAPHIC IMAGES)</td>\n",
       "      <td>The number of cases of cops brutalizing and killing people of color seems to see no end. Now, we...</td>\n",
       "      <td>News</td>\n",
       "      <td>December 25, 2017</td>\n",
       "    </tr>\n",
       "    <tr>\n",
       "      <th>6</th>\n",
       "      <td>Fresh Off The Golf Course, Trump Lashes Out At FBI Deputy Director And James Comey</td>\n",
       "      <td>Donald Trump spent a good portion of his day at his golf club, marking the 84th day he s done so...</td>\n",
       "      <td>News</td>\n",
       "      <td>December 23, 2017</td>\n",
       "    </tr>\n",
       "    <tr>\n",
       "      <th>7</th>\n",
       "      <td>Trump Said Some INSANELY Racist Stuff Inside The Oval Office, And Witnesses Back It Up</td>\n",
       "      <td>In the wake of yet another court decision that derailed Donald Trump s plan to bar Muslims from ...</td>\n",
       "      <td>News</td>\n",
       "      <td>December 23, 2017</td>\n",
       "    </tr>\n",
       "    <tr>\n",
       "      <th>8</th>\n",
       "      <td>Former CIA Director Slams Trump Over UN Bullying, Openly Suggests He’s Acting Like A Dictator (...</td>\n",
       "      <td>Many people have raised the alarm regarding the fact that Donald Trump is dangerously close to b...</td>\n",
       "      <td>News</td>\n",
       "      <td>December 22, 2017</td>\n",
       "    </tr>\n",
       "    <tr>\n",
       "      <th>9</th>\n",
       "      <td>WATCH: Brand-New Pro-Trump Ad Features So Much A** Kissing It Will Make You Sick</td>\n",
       "      <td>Just when you might have thought we d get a break from watching people kiss Donald Trump s ass a...</td>\n",
       "      <td>News</td>\n",
       "      <td>December 21, 2017</td>\n",
       "    </tr>\n",
       "  </tbody>\n",
       "</table>\n",
       "</div>"
      ],
      "text/plain": [
       "                                                                                                 title  \\\n",
       "0                       Donald Trump Sends Out Embarrassing New Year’s Eve Message; This is Disturbing   \n",
       "1                                 Drunk Bragging Trump Staffer Started Russian Collusion Investigation   \n",
       "2            Sheriff David Clarke Becomes An Internet Joke For Threatening To Poke People ‘In The Eye’   \n",
       "3                        Trump Is So Obsessed He Even Has Obama’s Name Coded Into His Website (IMAGES)   \n",
       "4                                Pope Francis Just Called Out Donald Trump During His Christmas Speech   \n",
       "5                    Racist Alabama Cops Brutalize Black Boy While He Is In Handcuffs (GRAPHIC IMAGES)   \n",
       "6                   Fresh Off The Golf Course, Trump Lashes Out At FBI Deputy Director And James Comey   \n",
       "7               Trump Said Some INSANELY Racist Stuff Inside The Oval Office, And Witnesses Back It Up   \n",
       "8   Former CIA Director Slams Trump Over UN Bullying, Openly Suggests He’s Acting Like A Dictator (...   \n",
       "9                     WATCH: Brand-New Pro-Trump Ad Features So Much A** Kissing It Will Make You Sick   \n",
       "\n",
       "                                                                                                  text  \\\n",
       "0  Donald Trump just couldn t wish all Americans a Happy New Year and leave it at that. Instead, he...   \n",
       "1  House Intelligence Committee Chairman Devin Nunes is going to have a bad day. He s been under th...   \n",
       "2  On Friday, it was revealed that former Milwaukee Sheriff David Clarke, who was being considered ...   \n",
       "3  On Christmas day, Donald Trump announced that he would  be back to work  the following day, but ...   \n",
       "4  Pope Francis used his annual Christmas Day message to rebuke Donald Trump without even mentionin...   \n",
       "5  The number of cases of cops brutalizing and killing people of color seems to see no end. Now, we...   \n",
       "6  Donald Trump spent a good portion of his day at his golf club, marking the 84th day he s done so...   \n",
       "7  In the wake of yet another court decision that derailed Donald Trump s plan to bar Muslims from ...   \n",
       "8  Many people have raised the alarm regarding the fact that Donald Trump is dangerously close to b...   \n",
       "9  Just when you might have thought we d get a break from watching people kiss Donald Trump s ass a...   \n",
       "\n",
       "  subject               date  \n",
       "0    News  December 31, 2017  \n",
       "1    News  December 31, 2017  \n",
       "2    News  December 30, 2017  \n",
       "3    News  December 29, 2017  \n",
       "4    News  December 25, 2017  \n",
       "5    News  December 25, 2017  \n",
       "6    News  December 23, 2017  \n",
       "7    News  December 23, 2017  \n",
       "8    News  December 22, 2017  \n",
       "9    News  December 21, 2017  "
      ]
     },
     "execution_count": 4,
     "metadata": {},
     "output_type": "execute_result"
    }
   ],
   "source": [
    "fake_news_df.head(10)"
   ]
  },
  {
   "cell_type": "code",
   "execution_count": null,
   "id": "567e145e",
   "metadata": {},
   "outputs": [],
   "source": []
  },
  {
   "cell_type": "markdown",
   "id": "abe7d8e1",
   "metadata": {},
   "source": [
    "### (i.) Shapes of both datasets"
   ]
  },
  {
   "cell_type": "code",
   "execution_count": 5,
   "id": "2b0ce16e",
   "metadata": {},
   "outputs": [
    {
     "name": "stdout",
     "output_type": "stream",
     "text": [
      "Fake News:  (23481, 4)\n",
      "True News:  (21417, 4)\n"
     ]
    }
   ],
   "source": [
    "print(\"Fake News: \",fake_news_df.shape)\n",
    "print(\"True News: \",true_news_df.shape)"
   ]
  },
  {
   "cell_type": "code",
   "execution_count": null,
   "id": "24112b72",
   "metadata": {},
   "outputs": [],
   "source": []
  },
  {
   "cell_type": "markdown",
   "id": "2dcb8fba",
   "metadata": {},
   "source": [
    "### (ii.) Exploring Datatypes and Data Description"
   ]
  },
  {
   "cell_type": "code",
   "execution_count": 6,
   "id": "47c32e67",
   "metadata": {},
   "outputs": [
    {
     "name": "stdout",
     "output_type": "stream",
     "text": [
      "<class 'pandas.core.frame.DataFrame'>\n",
      "RangeIndex: 23481 entries, 0 to 23480\n",
      "Data columns (total 4 columns):\n",
      " #   Column   Non-Null Count  Dtype \n",
      "---  ------   --------------  ----- \n",
      " 0   title    23481 non-null  object\n",
      " 1   text     23481 non-null  object\n",
      " 2   subject  23481 non-null  object\n",
      " 3   date     23481 non-null  object\n",
      "dtypes: object(4)\n",
      "memory usage: 733.9+ KB\n"
     ]
    }
   ],
   "source": [
    "## Data Types and Null Values...\n",
    "\n",
    "fake_news_df.info()"
   ]
  },
  {
   "cell_type": "code",
   "execution_count": 7,
   "id": "8a07578c",
   "metadata": {},
   "outputs": [
    {
     "name": "stdout",
     "output_type": "stream",
     "text": [
      "<class 'pandas.core.frame.DataFrame'>\n",
      "RangeIndex: 21417 entries, 0 to 21416\n",
      "Data columns (total 4 columns):\n",
      " #   Column   Non-Null Count  Dtype \n",
      "---  ------   --------------  ----- \n",
      " 0   title    21417 non-null  object\n",
      " 1   text     21417 non-null  object\n",
      " 2   subject  21417 non-null  object\n",
      " 3   date     21417 non-null  object\n",
      "dtypes: object(4)\n",
      "memory usage: 669.4+ KB\n"
     ]
    }
   ],
   "source": [
    "## Data Types and Null Values...\n",
    "\n",
    "true_news_df.info()"
   ]
  },
  {
   "cell_type": "code",
   "execution_count": null,
   "id": "e939ac0b",
   "metadata": {},
   "outputs": [],
   "source": []
  },
  {
   "cell_type": "markdown",
   "id": "868aaeb4",
   "metadata": {},
   "source": [
    "### (iii.) Fake News Description"
   ]
  },
  {
   "cell_type": "code",
   "execution_count": 8,
   "id": "2ee57bf3",
   "metadata": {},
   "outputs": [
    {
     "data": {
      "text/html": [
       "<div>\n",
       "<style scoped>\n",
       "    .dataframe tbody tr th:only-of-type {\n",
       "        vertical-align: middle;\n",
       "    }\n",
       "\n",
       "    .dataframe tbody tr th {\n",
       "        vertical-align: top;\n",
       "    }\n",
       "\n",
       "    .dataframe thead th {\n",
       "        text-align: right;\n",
       "    }\n",
       "</style>\n",
       "<table border=\"1\" class=\"dataframe\">\n",
       "  <thead>\n",
       "    <tr style=\"text-align: right;\">\n",
       "      <th></th>\n",
       "      <th>title</th>\n",
       "      <th>text</th>\n",
       "      <th>subject</th>\n",
       "      <th>date</th>\n",
       "    </tr>\n",
       "  </thead>\n",
       "  <tbody>\n",
       "    <tr>\n",
       "      <th>count</th>\n",
       "      <td>23481</td>\n",
       "      <td>23481</td>\n",
       "      <td>23481</td>\n",
       "      <td>23481</td>\n",
       "    </tr>\n",
       "    <tr>\n",
       "      <th>unique</th>\n",
       "      <td>17903</td>\n",
       "      <td>17455</td>\n",
       "      <td>6</td>\n",
       "      <td>1681</td>\n",
       "    </tr>\n",
       "    <tr>\n",
       "      <th>top</th>\n",
       "      <td>MEDIA IGNORES Time That Bill Clinton FIRED His FBI Director On Day Before Vince Foster Was Found...</td>\n",
       "      <td></td>\n",
       "      <td>News</td>\n",
       "      <td>May 10, 2017</td>\n",
       "    </tr>\n",
       "    <tr>\n",
       "      <th>freq</th>\n",
       "      <td>6</td>\n",
       "      <td>626</td>\n",
       "      <td>9050</td>\n",
       "      <td>46</td>\n",
       "    </tr>\n",
       "  </tbody>\n",
       "</table>\n",
       "</div>"
      ],
      "text/plain": [
       "                                                                                                      title  \\\n",
       "count                                                                                                 23481   \n",
       "unique                                                                                                17903   \n",
       "top     MEDIA IGNORES Time That Bill Clinton FIRED His FBI Director On Day Before Vince Foster Was Found...   \n",
       "freq                                                                                                      6   \n",
       "\n",
       "         text subject          date  \n",
       "count   23481   23481         23481  \n",
       "unique  17455       6          1681  \n",
       "top              News  May 10, 2017  \n",
       "freq      626    9050            46  "
      ]
     },
     "execution_count": 8,
     "metadata": {},
     "output_type": "execute_result"
    }
   ],
   "source": [
    "fake_news_df.describe()"
   ]
  },
  {
   "cell_type": "code",
   "execution_count": null,
   "id": "d9058a17",
   "metadata": {},
   "outputs": [],
   "source": []
  },
  {
   "cell_type": "markdown",
   "id": "bf2629b7",
   "metadata": {},
   "source": [
    "### (iv.) True News Description"
   ]
  },
  {
   "cell_type": "code",
   "execution_count": 9,
   "id": "eb8e0784",
   "metadata": {},
   "outputs": [
    {
     "data": {
      "text/html": [
       "<div>\n",
       "<style scoped>\n",
       "    .dataframe tbody tr th:only-of-type {\n",
       "        vertical-align: middle;\n",
       "    }\n",
       "\n",
       "    .dataframe tbody tr th {\n",
       "        vertical-align: top;\n",
       "    }\n",
       "\n",
       "    .dataframe thead th {\n",
       "        text-align: right;\n",
       "    }\n",
       "</style>\n",
       "<table border=\"1\" class=\"dataframe\">\n",
       "  <thead>\n",
       "    <tr style=\"text-align: right;\">\n",
       "      <th></th>\n",
       "      <th>title</th>\n",
       "      <th>text</th>\n",
       "      <th>subject</th>\n",
       "      <th>date</th>\n",
       "    </tr>\n",
       "  </thead>\n",
       "  <tbody>\n",
       "    <tr>\n",
       "      <th>count</th>\n",
       "      <td>21417</td>\n",
       "      <td>21417</td>\n",
       "      <td>21417</td>\n",
       "      <td>21417</td>\n",
       "    </tr>\n",
       "    <tr>\n",
       "      <th>unique</th>\n",
       "      <td>20826</td>\n",
       "      <td>21192</td>\n",
       "      <td>2</td>\n",
       "      <td>716</td>\n",
       "    </tr>\n",
       "    <tr>\n",
       "      <th>top</th>\n",
       "      <td>Factbox: Trump fills top jobs for his administration</td>\n",
       "      <td>(Reuters) - Highlights for U.S. President Donald Trump’s administration on Thursday: The United ...</td>\n",
       "      <td>politicsNews</td>\n",
       "      <td>December 20, 2017</td>\n",
       "    </tr>\n",
       "    <tr>\n",
       "      <th>freq</th>\n",
       "      <td>14</td>\n",
       "      <td>8</td>\n",
       "      <td>11272</td>\n",
       "      <td>182</td>\n",
       "    </tr>\n",
       "  </tbody>\n",
       "</table>\n",
       "</div>"
      ],
      "text/plain": [
       "                                                       title  \\\n",
       "count                                                  21417   \n",
       "unique                                                 20826   \n",
       "top     Factbox: Trump fills top jobs for his administration   \n",
       "freq                                                      14   \n",
       "\n",
       "                                                                                                       text  \\\n",
       "count                                                                                                 21417   \n",
       "unique                                                                                                21192   \n",
       "top     (Reuters) - Highlights for U.S. President Donald Trump’s administration on Thursday: The United ...   \n",
       "freq                                                                                                      8   \n",
       "\n",
       "             subject                date  \n",
       "count          21417               21417  \n",
       "unique             2                 716  \n",
       "top     politicsNews  December 20, 2017   \n",
       "freq           11272                 182  "
      ]
     },
     "execution_count": 9,
     "metadata": {},
     "output_type": "execute_result"
    }
   ],
   "source": [
    "true_news_df.describe()"
   ]
  },
  {
   "cell_type": "code",
   "execution_count": null,
   "id": "7af8dc80",
   "metadata": {},
   "outputs": [],
   "source": []
  },
  {
   "cell_type": "markdown",
   "id": "3e8d3804",
   "metadata": {},
   "source": [
    "### (v.) Unique Subjects "
   ]
  },
  {
   "cell_type": "code",
   "execution_count": 10,
   "id": "89a4be75",
   "metadata": {},
   "outputs": [
    {
     "name": "stdout",
     "output_type": "stream",
     "text": [
      "Fake News Subjects: ['News' 'politics' 'Government News' 'left-news' 'US_News' 'Middle-east']\n",
      "True News Subjects: ['politicsNews' 'worldnews']\n"
     ]
    }
   ],
   "source": [
    "\n",
    "print(\"Fake News Subjects:\", fake_news_df['subject'].unique())\n",
    "print(\"True News Subjects:\", true_news_df['subject'].unique())\n"
   ]
  },
  {
   "cell_type": "code",
   "execution_count": null,
   "id": "7169c995",
   "metadata": {},
   "outputs": [],
   "source": []
  },
  {
   "cell_type": "markdown",
   "id": "b28e251d",
   "metadata": {},
   "source": [
    "### (vi.) Dropping Null Values"
   ]
  },
  {
   "cell_type": "markdown",
   "id": "8bb31976",
   "metadata": {},
   "source": [
    "From below description it is clear that we do not have any null values in the dataset, meaning that feature in each row contains\n",
    "some values."
   ]
  },
  {
   "cell_type": "code",
   "execution_count": 11,
   "id": "f1e52e0f",
   "metadata": {},
   "outputs": [
    {
     "data": {
      "text/plain": [
       "title      0\n",
       "text       0\n",
       "subject    0\n",
       "date       0\n",
       "dtype: int64"
      ]
     },
     "execution_count": 11,
     "metadata": {},
     "output_type": "execute_result"
    }
   ],
   "source": [
    "fake_news_df.isnull().sum()"
   ]
  },
  {
   "cell_type": "code",
   "execution_count": 12,
   "id": "1c5d8df3",
   "metadata": {},
   "outputs": [
    {
     "data": {
      "text/plain": [
       "title      0\n",
       "text       0\n",
       "subject    0\n",
       "date       0\n",
       "dtype: int64"
      ]
     },
     "execution_count": 12,
     "metadata": {},
     "output_type": "execute_result"
    }
   ],
   "source": [
    "true_news_df.isnull().sum()"
   ]
  },
  {
   "cell_type": "markdown",
   "id": "3e14c9a6",
   "metadata": {},
   "source": [
    "### (vii.) Droping Duplicate Values"
   ]
  },
  {
   "cell_type": "code",
   "execution_count": 13,
   "id": "a60a202d",
   "metadata": {},
   "outputs": [
    {
     "data": {
      "text/html": [
       "<div>\n",
       "<style scoped>\n",
       "    .dataframe tbody tr th:only-of-type {\n",
       "        vertical-align: middle;\n",
       "    }\n",
       "\n",
       "    .dataframe tbody tr th {\n",
       "        vertical-align: top;\n",
       "    }\n",
       "\n",
       "    .dataframe thead th {\n",
       "        text-align: right;\n",
       "    }\n",
       "</style>\n",
       "<table border=\"1\" class=\"dataframe\">\n",
       "  <thead>\n",
       "    <tr style=\"text-align: right;\">\n",
       "      <th></th>\n",
       "      <th>title</th>\n",
       "      <th>text</th>\n",
       "      <th>subject</th>\n",
       "      <th>date</th>\n",
       "    </tr>\n",
       "  </thead>\n",
       "  <tbody>\n",
       "    <tr>\n",
       "      <th>0</th>\n",
       "      <td>Donald Trump Sends Out Embarrassing New Year’s Eve Message; This is Disturbing</td>\n",
       "      <td>Donald Trump just couldn t wish all Americans a Happy New Year and leave it at that. Instead, he...</td>\n",
       "      <td>News</td>\n",
       "      <td>December 31, 2017</td>\n",
       "    </tr>\n",
       "    <tr>\n",
       "      <th>1</th>\n",
       "      <td>Drunk Bragging Trump Staffer Started Russian Collusion Investigation</td>\n",
       "      <td>House Intelligence Committee Chairman Devin Nunes is going to have a bad day. He s been under th...</td>\n",
       "      <td>News</td>\n",
       "      <td>December 31, 2017</td>\n",
       "    </tr>\n",
       "    <tr>\n",
       "      <th>2</th>\n",
       "      <td>Sheriff David Clarke Becomes An Internet Joke For Threatening To Poke People ‘In The Eye’</td>\n",
       "      <td>On Friday, it was revealed that former Milwaukee Sheriff David Clarke, who was being considered ...</td>\n",
       "      <td>News</td>\n",
       "      <td>December 30, 2017</td>\n",
       "    </tr>\n",
       "    <tr>\n",
       "      <th>3</th>\n",
       "      <td>Trump Is So Obsessed He Even Has Obama’s Name Coded Into His Website (IMAGES)</td>\n",
       "      <td>On Christmas day, Donald Trump announced that he would  be back to work  the following day, but ...</td>\n",
       "      <td>News</td>\n",
       "      <td>December 29, 2017</td>\n",
       "    </tr>\n",
       "    <tr>\n",
       "      <th>4</th>\n",
       "      <td>Pope Francis Just Called Out Donald Trump During His Christmas Speech</td>\n",
       "      <td>Pope Francis used his annual Christmas Day message to rebuke Donald Trump without even mentionin...</td>\n",
       "      <td>News</td>\n",
       "      <td>December 25, 2017</td>\n",
       "    </tr>\n",
       "    <tr>\n",
       "      <th>...</th>\n",
       "      <td>...</td>\n",
       "      <td>...</td>\n",
       "      <td>...</td>\n",
       "      <td>...</td>\n",
       "    </tr>\n",
       "    <tr>\n",
       "      <th>23476</th>\n",
       "      <td>McPain: John McCain Furious That Iran Treated US Sailors Well</td>\n",
       "      <td>21st Century Wire says As 21WIRE reported earlier this week, the unlikely  mishap  of two US Nav...</td>\n",
       "      <td>Middle-east</td>\n",
       "      <td>January 16, 2016</td>\n",
       "    </tr>\n",
       "    <tr>\n",
       "      <th>23477</th>\n",
       "      <td>JUSTICE? Yahoo Settles E-mail Privacy Class-action: $4M for Lawyers, $0 for Users</td>\n",
       "      <td>21st Century Wire says It s a familiar theme. Whenever there is a dispute or a change of law, an...</td>\n",
       "      <td>Middle-east</td>\n",
       "      <td>January 16, 2016</td>\n",
       "    </tr>\n",
       "    <tr>\n",
       "      <th>23478</th>\n",
       "      <td>Sunnistan: US and Allied ‘Safe Zone’ Plan to Take Territorial Booty in Northern Syria</td>\n",
       "      <td>Patrick Henningsen  21st Century WireRemember when the Obama Administration told the world how i...</td>\n",
       "      <td>Middle-east</td>\n",
       "      <td>January 15, 2016</td>\n",
       "    </tr>\n",
       "    <tr>\n",
       "      <th>23479</th>\n",
       "      <td>How to Blow $700 Million: Al Jazeera America Finally Calls it Quits</td>\n",
       "      <td>21st Century Wire says Al Jazeera America will go down in history as one of the biggest failures...</td>\n",
       "      <td>Middle-east</td>\n",
       "      <td>January 14, 2016</td>\n",
       "    </tr>\n",
       "    <tr>\n",
       "      <th>23480</th>\n",
       "      <td>10 U.S. Navy Sailors Held by Iranian Military – Signs of a Neocon Political Stunt</td>\n",
       "      <td>21st Century Wire says As 21WIRE predicted in its new year s look ahead, we have a new  hostage ...</td>\n",
       "      <td>Middle-east</td>\n",
       "      <td>January 12, 2016</td>\n",
       "    </tr>\n",
       "  </tbody>\n",
       "</table>\n",
       "<p>23478 rows × 4 columns</p>\n",
       "</div>"
      ],
      "text/plain": [
       "                                                                                            title  \\\n",
       "0                  Donald Trump Sends Out Embarrassing New Year’s Eve Message; This is Disturbing   \n",
       "1                            Drunk Bragging Trump Staffer Started Russian Collusion Investigation   \n",
       "2       Sheriff David Clarke Becomes An Internet Joke For Threatening To Poke People ‘In The Eye’   \n",
       "3                   Trump Is So Obsessed He Even Has Obama’s Name Coded Into His Website (IMAGES)   \n",
       "4                           Pope Francis Just Called Out Donald Trump During His Christmas Speech   \n",
       "...                                                                                           ...   \n",
       "23476                               McPain: John McCain Furious That Iran Treated US Sailors Well   \n",
       "23477           JUSTICE? Yahoo Settles E-mail Privacy Class-action: $4M for Lawyers, $0 for Users   \n",
       "23478       Sunnistan: US and Allied ‘Safe Zone’ Plan to Take Territorial Booty in Northern Syria   \n",
       "23479                         How to Blow $700 Million: Al Jazeera America Finally Calls it Quits   \n",
       "23480           10 U.S. Navy Sailors Held by Iranian Military – Signs of a Neocon Political Stunt   \n",
       "\n",
       "                                                                                                      text  \\\n",
       "0      Donald Trump just couldn t wish all Americans a Happy New Year and leave it at that. Instead, he...   \n",
       "1      House Intelligence Committee Chairman Devin Nunes is going to have a bad day. He s been under th...   \n",
       "2      On Friday, it was revealed that former Milwaukee Sheriff David Clarke, who was being considered ...   \n",
       "3      On Christmas day, Donald Trump announced that he would  be back to work  the following day, but ...   \n",
       "4      Pope Francis used his annual Christmas Day message to rebuke Donald Trump without even mentionin...   \n",
       "...                                                                                                    ...   \n",
       "23476  21st Century Wire says As 21WIRE reported earlier this week, the unlikely  mishap  of two US Nav...   \n",
       "23477  21st Century Wire says It s a familiar theme. Whenever there is a dispute or a change of law, an...   \n",
       "23478  Patrick Henningsen  21st Century WireRemember when the Obama Administration told the world how i...   \n",
       "23479  21st Century Wire says Al Jazeera America will go down in history as one of the biggest failures...   \n",
       "23480  21st Century Wire says As 21WIRE predicted in its new year s look ahead, we have a new  hostage ...   \n",
       "\n",
       "           subject               date  \n",
       "0             News  December 31, 2017  \n",
       "1             News  December 31, 2017  \n",
       "2             News  December 30, 2017  \n",
       "3             News  December 29, 2017  \n",
       "4             News  December 25, 2017  \n",
       "...            ...                ...  \n",
       "23476  Middle-east   January 16, 2016  \n",
       "23477  Middle-east   January 16, 2016  \n",
       "23478  Middle-east   January 15, 2016  \n",
       "23479  Middle-east   January 14, 2016  \n",
       "23480  Middle-east   January 12, 2016  \n",
       "\n",
       "[23478 rows x 4 columns]"
      ]
     },
     "execution_count": 13,
     "metadata": {},
     "output_type": "execute_result"
    }
   ],
   "source": [
    "fake_news_df.drop_duplicates()"
   ]
  },
  {
   "cell_type": "code",
   "execution_count": 14,
   "id": "ebaf5a4f",
   "metadata": {},
   "outputs": [
    {
     "data": {
      "text/html": [
       "<div>\n",
       "<style scoped>\n",
       "    .dataframe tbody tr th:only-of-type {\n",
       "        vertical-align: middle;\n",
       "    }\n",
       "\n",
       "    .dataframe tbody tr th {\n",
       "        vertical-align: top;\n",
       "    }\n",
       "\n",
       "    .dataframe thead th {\n",
       "        text-align: right;\n",
       "    }\n",
       "</style>\n",
       "<table border=\"1\" class=\"dataframe\">\n",
       "  <thead>\n",
       "    <tr style=\"text-align: right;\">\n",
       "      <th></th>\n",
       "      <th>title</th>\n",
       "      <th>text</th>\n",
       "      <th>subject</th>\n",
       "      <th>date</th>\n",
       "    </tr>\n",
       "  </thead>\n",
       "  <tbody>\n",
       "    <tr>\n",
       "      <th>0</th>\n",
       "      <td>As U.S. budget fight looms, Republicans flip their fiscal script</td>\n",
       "      <td>WASHINGTON (Reuters) - The head of a conservative Republican faction in the U.S. Congress, who v...</td>\n",
       "      <td>politicsNews</td>\n",
       "      <td>December 31, 2017</td>\n",
       "    </tr>\n",
       "    <tr>\n",
       "      <th>1</th>\n",
       "      <td>U.S. military to accept transgender recruits on Monday: Pentagon</td>\n",
       "      <td>WASHINGTON (Reuters) - Transgender people will be allowed for the first time to enlist in the U....</td>\n",
       "      <td>politicsNews</td>\n",
       "      <td>December 29, 2017</td>\n",
       "    </tr>\n",
       "    <tr>\n",
       "      <th>2</th>\n",
       "      <td>Senior U.S. Republican senator: 'Let Mr. Mueller do his job'</td>\n",
       "      <td>WASHINGTON (Reuters) - The special counsel investigation of links between Russia and President T...</td>\n",
       "      <td>politicsNews</td>\n",
       "      <td>December 31, 2017</td>\n",
       "    </tr>\n",
       "    <tr>\n",
       "      <th>3</th>\n",
       "      <td>FBI Russia probe helped by Australian diplomat tip-off: NYT</td>\n",
       "      <td>WASHINGTON (Reuters) - Trump campaign adviser George Papadopoulos told an Australian diplomat in...</td>\n",
       "      <td>politicsNews</td>\n",
       "      <td>December 30, 2017</td>\n",
       "    </tr>\n",
       "    <tr>\n",
       "      <th>4</th>\n",
       "      <td>Trump wants Postal Service to charge 'much more' for Amazon shipments</td>\n",
       "      <td>SEATTLE/WASHINGTON (Reuters) - President Donald Trump called on the U.S. Postal Service on Frida...</td>\n",
       "      <td>politicsNews</td>\n",
       "      <td>December 29, 2017</td>\n",
       "    </tr>\n",
       "    <tr>\n",
       "      <th>...</th>\n",
       "      <td>...</td>\n",
       "      <td>...</td>\n",
       "      <td>...</td>\n",
       "      <td>...</td>\n",
       "    </tr>\n",
       "    <tr>\n",
       "      <th>21412</th>\n",
       "      <td>'Fully committed' NATO backs new U.S. approach on Afghanistan</td>\n",
       "      <td>BRUSSELS (Reuters) - NATO allies on Tuesday welcomed President Donald Trump s decision to commit...</td>\n",
       "      <td>worldnews</td>\n",
       "      <td>August 22, 2017</td>\n",
       "    </tr>\n",
       "    <tr>\n",
       "      <th>21413</th>\n",
       "      <td>LexisNexis withdrew two products from Chinese market</td>\n",
       "      <td>LONDON (Reuters) - LexisNexis, a provider of legal, regulatory and business information, said on...</td>\n",
       "      <td>worldnews</td>\n",
       "      <td>August 22, 2017</td>\n",
       "    </tr>\n",
       "    <tr>\n",
       "      <th>21414</th>\n",
       "      <td>Minsk cultural hub becomes haven from authorities</td>\n",
       "      <td>MINSK (Reuters) - In the shadow of disused Soviet-era factories in Minsk, a street lined with ec...</td>\n",
       "      <td>worldnews</td>\n",
       "      <td>August 22, 2017</td>\n",
       "    </tr>\n",
       "    <tr>\n",
       "      <th>21415</th>\n",
       "      <td>Vatican upbeat on possibility of Pope Francis visiting Russia</td>\n",
       "      <td>MOSCOW (Reuters) - Vatican Secretary of State Cardinal Pietro Parolin said on Tuesday that there...</td>\n",
       "      <td>worldnews</td>\n",
       "      <td>August 22, 2017</td>\n",
       "    </tr>\n",
       "    <tr>\n",
       "      <th>21416</th>\n",
       "      <td>Indonesia to buy $1.14 billion worth of Russian jets</td>\n",
       "      <td>JAKARTA (Reuters) - Indonesia will buy 11 Sukhoi fighter jets worth $1.14 billion from Russia in...</td>\n",
       "      <td>worldnews</td>\n",
       "      <td>August 22, 2017</td>\n",
       "    </tr>\n",
       "  </tbody>\n",
       "</table>\n",
       "<p>21211 rows × 4 columns</p>\n",
       "</div>"
      ],
      "text/plain": [
       "                                                                       title  \\\n",
       "0           As U.S. budget fight looms, Republicans flip their fiscal script   \n",
       "1           U.S. military to accept transgender recruits on Monday: Pentagon   \n",
       "2               Senior U.S. Republican senator: 'Let Mr. Mueller do his job'   \n",
       "3                FBI Russia probe helped by Australian diplomat tip-off: NYT   \n",
       "4      Trump wants Postal Service to charge 'much more' for Amazon shipments   \n",
       "...                                                                      ...   \n",
       "21412          'Fully committed' NATO backs new U.S. approach on Afghanistan   \n",
       "21413                   LexisNexis withdrew two products from Chinese market   \n",
       "21414                      Minsk cultural hub becomes haven from authorities   \n",
       "21415          Vatican upbeat on possibility of Pope Francis visiting Russia   \n",
       "21416                   Indonesia to buy $1.14 billion worth of Russian jets   \n",
       "\n",
       "                                                                                                      text  \\\n",
       "0      WASHINGTON (Reuters) - The head of a conservative Republican faction in the U.S. Congress, who v...   \n",
       "1      WASHINGTON (Reuters) - Transgender people will be allowed for the first time to enlist in the U....   \n",
       "2      WASHINGTON (Reuters) - The special counsel investigation of links between Russia and President T...   \n",
       "3      WASHINGTON (Reuters) - Trump campaign adviser George Papadopoulos told an Australian diplomat in...   \n",
       "4      SEATTLE/WASHINGTON (Reuters) - President Donald Trump called on the U.S. Postal Service on Frida...   \n",
       "...                                                                                                    ...   \n",
       "21412  BRUSSELS (Reuters) - NATO allies on Tuesday welcomed President Donald Trump s decision to commit...   \n",
       "21413  LONDON (Reuters) - LexisNexis, a provider of legal, regulatory and business information, said on...   \n",
       "21414  MINSK (Reuters) - In the shadow of disused Soviet-era factories in Minsk, a street lined with ec...   \n",
       "21415  MOSCOW (Reuters) - Vatican Secretary of State Cardinal Pietro Parolin said on Tuesday that there...   \n",
       "21416  JAKARTA (Reuters) - Indonesia will buy 11 Sukhoi fighter jets worth $1.14 billion from Russia in...   \n",
       "\n",
       "            subject                date  \n",
       "0      politicsNews  December 31, 2017   \n",
       "1      politicsNews  December 29, 2017   \n",
       "2      politicsNews  December 31, 2017   \n",
       "3      politicsNews  December 30, 2017   \n",
       "4      politicsNews  December 29, 2017   \n",
       "...             ...                 ...  \n",
       "21412     worldnews    August 22, 2017   \n",
       "21413     worldnews    August 22, 2017   \n",
       "21414     worldnews    August 22, 2017   \n",
       "21415     worldnews    August 22, 2017   \n",
       "21416     worldnews    August 22, 2017   \n",
       "\n",
       "[21211 rows x 4 columns]"
      ]
     },
     "execution_count": 14,
     "metadata": {},
     "output_type": "execute_result"
    }
   ],
   "source": [
    "duplicates = true_news_df.drop_duplicates()\n",
    "\n",
    "duplicates"
   ]
  },
  {
   "cell_type": "markdown",
   "id": "059c7a6a",
   "metadata": {},
   "source": [
    "## (3.)  Adding Lables to Fake_News and True_News Datasets"
   ]
  },
  {
   "cell_type": "code",
   "execution_count": 15,
   "id": "b6217a23",
   "metadata": {},
   "outputs": [],
   "source": [
    "fake_news_df['label'] = 0\n",
    "true_news_df['label'] = 1"
   ]
  },
  {
   "cell_type": "code",
   "execution_count": 16,
   "id": "cecb6ea7",
   "metadata": {},
   "outputs": [
    {
     "data": {
      "text/html": [
       "<div>\n",
       "<style scoped>\n",
       "    .dataframe tbody tr th:only-of-type {\n",
       "        vertical-align: middle;\n",
       "    }\n",
       "\n",
       "    .dataframe tbody tr th {\n",
       "        vertical-align: top;\n",
       "    }\n",
       "\n",
       "    .dataframe thead th {\n",
       "        text-align: right;\n",
       "    }\n",
       "</style>\n",
       "<table border=\"1\" class=\"dataframe\">\n",
       "  <thead>\n",
       "    <tr style=\"text-align: right;\">\n",
       "      <th></th>\n",
       "      <th>title</th>\n",
       "      <th>text</th>\n",
       "      <th>subject</th>\n",
       "      <th>date</th>\n",
       "      <th>label</th>\n",
       "    </tr>\n",
       "  </thead>\n",
       "  <tbody>\n",
       "    <tr>\n",
       "      <th>0</th>\n",
       "      <td>Donald Trump Sends Out Embarrassing New Year’s Eve Message; This is Disturbing</td>\n",
       "      <td>Donald Trump just couldn t wish all Americans a Happy New Year and leave it at that. Instead, he...</td>\n",
       "      <td>News</td>\n",
       "      <td>December 31, 2017</td>\n",
       "      <td>0</td>\n",
       "    </tr>\n",
       "    <tr>\n",
       "      <th>1</th>\n",
       "      <td>Drunk Bragging Trump Staffer Started Russian Collusion Investigation</td>\n",
       "      <td>House Intelligence Committee Chairman Devin Nunes is going to have a bad day. He s been under th...</td>\n",
       "      <td>News</td>\n",
       "      <td>December 31, 2017</td>\n",
       "      <td>0</td>\n",
       "    </tr>\n",
       "    <tr>\n",
       "      <th>2</th>\n",
       "      <td>Sheriff David Clarke Becomes An Internet Joke For Threatening To Poke People ‘In The Eye’</td>\n",
       "      <td>On Friday, it was revealed that former Milwaukee Sheriff David Clarke, who was being considered ...</td>\n",
       "      <td>News</td>\n",
       "      <td>December 30, 2017</td>\n",
       "      <td>0</td>\n",
       "    </tr>\n",
       "    <tr>\n",
       "      <th>3</th>\n",
       "      <td>Trump Is So Obsessed He Even Has Obama’s Name Coded Into His Website (IMAGES)</td>\n",
       "      <td>On Christmas day, Donald Trump announced that he would  be back to work  the following day, but ...</td>\n",
       "      <td>News</td>\n",
       "      <td>December 29, 2017</td>\n",
       "      <td>0</td>\n",
       "    </tr>\n",
       "    <tr>\n",
       "      <th>4</th>\n",
       "      <td>Pope Francis Just Called Out Donald Trump During His Christmas Speech</td>\n",
       "      <td>Pope Francis used his annual Christmas Day message to rebuke Donald Trump without even mentionin...</td>\n",
       "      <td>News</td>\n",
       "      <td>December 25, 2017</td>\n",
       "      <td>0</td>\n",
       "    </tr>\n",
       "  </tbody>\n",
       "</table>\n",
       "</div>"
      ],
      "text/plain": [
       "                                                                                        title  \\\n",
       "0              Donald Trump Sends Out Embarrassing New Year’s Eve Message; This is Disturbing   \n",
       "1                        Drunk Bragging Trump Staffer Started Russian Collusion Investigation   \n",
       "2   Sheriff David Clarke Becomes An Internet Joke For Threatening To Poke People ‘In The Eye’   \n",
       "3               Trump Is So Obsessed He Even Has Obama’s Name Coded Into His Website (IMAGES)   \n",
       "4                       Pope Francis Just Called Out Donald Trump During His Christmas Speech   \n",
       "\n",
       "                                                                                                  text  \\\n",
       "0  Donald Trump just couldn t wish all Americans a Happy New Year and leave it at that. Instead, he...   \n",
       "1  House Intelligence Committee Chairman Devin Nunes is going to have a bad day. He s been under th...   \n",
       "2  On Friday, it was revealed that former Milwaukee Sheriff David Clarke, who was being considered ...   \n",
       "3  On Christmas day, Donald Trump announced that he would  be back to work  the following day, but ...   \n",
       "4  Pope Francis used his annual Christmas Day message to rebuke Donald Trump without even mentionin...   \n",
       "\n",
       "  subject               date  label  \n",
       "0    News  December 31, 2017      0  \n",
       "1    News  December 31, 2017      0  \n",
       "2    News  December 30, 2017      0  \n",
       "3    News  December 29, 2017      0  \n",
       "4    News  December 25, 2017      0  "
      ]
     },
     "execution_count": 16,
     "metadata": {},
     "output_type": "execute_result"
    }
   ],
   "source": [
    "fake_news_df.head()"
   ]
  },
  {
   "cell_type": "code",
   "execution_count": 17,
   "id": "390c804e",
   "metadata": {},
   "outputs": [
    {
     "data": {
      "text/html": [
       "<div>\n",
       "<style scoped>\n",
       "    .dataframe tbody tr th:only-of-type {\n",
       "        vertical-align: middle;\n",
       "    }\n",
       "\n",
       "    .dataframe tbody tr th {\n",
       "        vertical-align: top;\n",
       "    }\n",
       "\n",
       "    .dataframe thead th {\n",
       "        text-align: right;\n",
       "    }\n",
       "</style>\n",
       "<table border=\"1\" class=\"dataframe\">\n",
       "  <thead>\n",
       "    <tr style=\"text-align: right;\">\n",
       "      <th></th>\n",
       "      <th>title</th>\n",
       "      <th>text</th>\n",
       "      <th>subject</th>\n",
       "      <th>date</th>\n",
       "      <th>label</th>\n",
       "    </tr>\n",
       "  </thead>\n",
       "  <tbody>\n",
       "    <tr>\n",
       "      <th>0</th>\n",
       "      <td>As U.S. budget fight looms, Republicans flip their fiscal script</td>\n",
       "      <td>WASHINGTON (Reuters) - The head of a conservative Republican faction in the U.S. Congress, who v...</td>\n",
       "      <td>politicsNews</td>\n",
       "      <td>December 31, 2017</td>\n",
       "      <td>1</td>\n",
       "    </tr>\n",
       "    <tr>\n",
       "      <th>1</th>\n",
       "      <td>U.S. military to accept transgender recruits on Monday: Pentagon</td>\n",
       "      <td>WASHINGTON (Reuters) - Transgender people will be allowed for the first time to enlist in the U....</td>\n",
       "      <td>politicsNews</td>\n",
       "      <td>December 29, 2017</td>\n",
       "      <td>1</td>\n",
       "    </tr>\n",
       "    <tr>\n",
       "      <th>2</th>\n",
       "      <td>Senior U.S. Republican senator: 'Let Mr. Mueller do his job'</td>\n",
       "      <td>WASHINGTON (Reuters) - The special counsel investigation of links between Russia and President T...</td>\n",
       "      <td>politicsNews</td>\n",
       "      <td>December 31, 2017</td>\n",
       "      <td>1</td>\n",
       "    </tr>\n",
       "    <tr>\n",
       "      <th>3</th>\n",
       "      <td>FBI Russia probe helped by Australian diplomat tip-off: NYT</td>\n",
       "      <td>WASHINGTON (Reuters) - Trump campaign adviser George Papadopoulos told an Australian diplomat in...</td>\n",
       "      <td>politicsNews</td>\n",
       "      <td>December 30, 2017</td>\n",
       "      <td>1</td>\n",
       "    </tr>\n",
       "    <tr>\n",
       "      <th>4</th>\n",
       "      <td>Trump wants Postal Service to charge 'much more' for Amazon shipments</td>\n",
       "      <td>SEATTLE/WASHINGTON (Reuters) - President Donald Trump called on the U.S. Postal Service on Frida...</td>\n",
       "      <td>politicsNews</td>\n",
       "      <td>December 29, 2017</td>\n",
       "      <td>1</td>\n",
       "    </tr>\n",
       "  </tbody>\n",
       "</table>\n",
       "</div>"
      ],
      "text/plain": [
       "                                                                   title  \\\n",
       "0       As U.S. budget fight looms, Republicans flip their fiscal script   \n",
       "1       U.S. military to accept transgender recruits on Monday: Pentagon   \n",
       "2           Senior U.S. Republican senator: 'Let Mr. Mueller do his job'   \n",
       "3            FBI Russia probe helped by Australian diplomat tip-off: NYT   \n",
       "4  Trump wants Postal Service to charge 'much more' for Amazon shipments   \n",
       "\n",
       "                                                                                                  text  \\\n",
       "0  WASHINGTON (Reuters) - The head of a conservative Republican faction in the U.S. Congress, who v...   \n",
       "1  WASHINGTON (Reuters) - Transgender people will be allowed for the first time to enlist in the U....   \n",
       "2  WASHINGTON (Reuters) - The special counsel investigation of links between Russia and President T...   \n",
       "3  WASHINGTON (Reuters) - Trump campaign adviser George Papadopoulos told an Australian diplomat in...   \n",
       "4  SEATTLE/WASHINGTON (Reuters) - President Donald Trump called on the U.S. Postal Service on Frida...   \n",
       "\n",
       "        subject                date  label  \n",
       "0  politicsNews  December 31, 2017       1  \n",
       "1  politicsNews  December 29, 2017       1  \n",
       "2  politicsNews  December 31, 2017       1  \n",
       "3  politicsNews  December 30, 2017       1  \n",
       "4  politicsNews  December 29, 2017       1  "
      ]
     },
     "execution_count": 17,
     "metadata": {},
     "output_type": "execute_result"
    }
   ],
   "source": [
    "true_news_df.head()"
   ]
  },
  {
   "cell_type": "code",
   "execution_count": null,
   "id": "eb77374c",
   "metadata": {},
   "outputs": [],
   "source": []
  },
  {
   "cell_type": "markdown",
   "id": "3347774e",
   "metadata": {},
   "source": [
    "## (4.) Concating both the Data-Framses to make a single Dataset (Final_News)"
   ]
  },
  {
   "cell_type": "code",
   "execution_count": 18,
   "id": "ab0dfed7",
   "metadata": {},
   "outputs": [],
   "source": [
    "final_news_df = pd.concat([fake_news_df, true_news_df], axis = 0)"
   ]
  },
  {
   "cell_type": "code",
   "execution_count": 19,
   "id": "a994d6b6",
   "metadata": {},
   "outputs": [],
   "source": [
    "final_news_df = final_news_df.sample(frac= 1)"
   ]
  },
  {
   "cell_type": "code",
   "execution_count": 20,
   "id": "b593c5b2",
   "metadata": {},
   "outputs": [],
   "source": [
    "final_news_df.reset_index(inplace= True)"
   ]
  },
  {
   "cell_type": "code",
   "execution_count": 21,
   "id": "c3ce6268",
   "metadata": {},
   "outputs": [],
   "source": [
    "final_news_df.drop(final_news_df.columns[0], axis=1, inplace= True)"
   ]
  },
  {
   "cell_type": "code",
   "execution_count": 22,
   "id": "7e1f0b68",
   "metadata": {},
   "outputs": [
    {
     "data": {
      "text/html": [
       "<div>\n",
       "<style scoped>\n",
       "    .dataframe tbody tr th:only-of-type {\n",
       "        vertical-align: middle;\n",
       "    }\n",
       "\n",
       "    .dataframe tbody tr th {\n",
       "        vertical-align: top;\n",
       "    }\n",
       "\n",
       "    .dataframe thead th {\n",
       "        text-align: right;\n",
       "    }\n",
       "</style>\n",
       "<table border=\"1\" class=\"dataframe\">\n",
       "  <thead>\n",
       "    <tr style=\"text-align: right;\">\n",
       "      <th></th>\n",
       "      <th>title</th>\n",
       "      <th>text</th>\n",
       "      <th>subject</th>\n",
       "      <th>date</th>\n",
       "      <th>label</th>\n",
       "    </tr>\n",
       "  </thead>\n",
       "  <tbody>\n",
       "    <tr>\n",
       "      <th>0</th>\n",
       "      <td>Russian suspect detained after arson attacks against last tsar film</td>\n",
       "      <td>MOSCOW (Reuters) - A Russian court ordered the detention of a man on Saturday on suspicion of tr...</td>\n",
       "      <td>worldnews</td>\n",
       "      <td>September 23, 2017</td>\n",
       "      <td>1</td>\n",
       "    </tr>\n",
       "    <tr>\n",
       "      <th>1</th>\n",
       "      <td>BERNIE SANDERS Makes A Promise To All Americans That You Really Won’t Believe [Video]</td>\n",
       "      <td>This guy is crazy! The last thing Americans needs is higher taxes!</td>\n",
       "      <td>politics</td>\n",
       "      <td>Oct 18, 2015</td>\n",
       "      <td>0</td>\n",
       "    </tr>\n",
       "    <tr>\n",
       "      <th>2</th>\n",
       "      <td>Democrats in disarray on eve of convention to nominate Clinton</td>\n",
       "      <td>PHILADELPHIA (Reuters) - The head of the Democratic Party resigned on Sunday amid a furor over e...</td>\n",
       "      <td>politicsNews</td>\n",
       "      <td>July 24, 2016</td>\n",
       "      <td>1</td>\n",
       "    </tr>\n",
       "    <tr>\n",
       "      <th>3</th>\n",
       "      <td>Trump on Twitter (August 8): Opioid crisis, North Korea</td>\n",
       "      <td>The following statements were posted to the verified Twitter accounts of U.S. President Donald T...</td>\n",
       "      <td>politicsNews</td>\n",
       "      <td>August 8, 2017</td>\n",
       "      <td>1</td>\n",
       "    </tr>\n",
       "    <tr>\n",
       "      <th>4</th>\n",
       "      <td>BREAKING: Biden Won’t Run…Is It Because Biden And Obama Can’t Risk Repercussions Of Exposing Hil...</td>\n",
       "      <td>This announcement seems to indicate that the Obama regime already knows Hillary is going to be w...</td>\n",
       "      <td>Government News</td>\n",
       "      <td>Oct 21, 2015</td>\n",
       "      <td>0</td>\n",
       "    </tr>\n",
       "    <tr>\n",
       "      <th>...</th>\n",
       "      <td>...</td>\n",
       "      <td>...</td>\n",
       "      <td>...</td>\n",
       "      <td>...</td>\n",
       "      <td>...</td>\n",
       "    </tr>\n",
       "    <tr>\n",
       "      <th>44893</th>\n",
       "      <td>The Battle against Islamic State</td>\n",
       "      <td>(Reuters) - It was an awkward coalition riven by political and sectarian differences, facing an ...</td>\n",
       "      <td>worldnews</td>\n",
       "      <td>December 4, 2017</td>\n",
       "      <td>1</td>\n",
       "    </tr>\n",
       "    <tr>\n",
       "      <th>44894</th>\n",
       "      <td>HILLARY IS FURIOUS OVER EMAIL HACKS…Openly Threatens War With Russia…Media Is SILENT [VIDEO]</td>\n",
       "      <td>But the media s concerned Trump is the threat to our national security with his  reckless words....</td>\n",
       "      <td>politics</td>\n",
       "      <td>Sep 3, 2016</td>\n",
       "      <td>0</td>\n",
       "    </tr>\n",
       "    <tr>\n",
       "      <th>44895</th>\n",
       "      <td>Miami Mayor Doesn’t Know History: Blames Hurricane Irma On Climate Change</td>\n",
       "      <td>Miami s mayor decided to jump into the discussion about whether climate change is the reason for...</td>\n",
       "      <td>politics</td>\n",
       "      <td>Sep 9, 2017</td>\n",
       "      <td>0</td>\n",
       "    </tr>\n",
       "    <tr>\n",
       "      <th>44896</th>\n",
       "      <td>UK foreign secretary says Hariri should return to Lebanon</td>\n",
       "      <td>BEIRUT (Reuters) - British Foreign Secretary Boris Johnson said on Sunday he hopes Saad al-Harir...</td>\n",
       "      <td>worldnews</td>\n",
       "      <td>November 12, 2017</td>\n",
       "      <td>1</td>\n",
       "    </tr>\n",
       "    <tr>\n",
       "      <th>44897</th>\n",
       "      <td>WATCH: G.W. BUSH Gushes Over Kimmel’s Anti-Trump Oscar’s Monologue…Refused To Speak Out Against ...</td>\n",
       "      <td>George W. Bush heaped praise on Jimmy Kimmel for his anti-Trump opening monologue at the Oscars ...</td>\n",
       "      <td>politics</td>\n",
       "      <td>Mar 3, 2017</td>\n",
       "      <td>0</td>\n",
       "    </tr>\n",
       "  </tbody>\n",
       "</table>\n",
       "<p>44898 rows × 5 columns</p>\n",
       "</div>"
      ],
      "text/plain": [
       "                                                                                                     title  \\\n",
       "0                                      Russian suspect detained after arson attacks against last tsar film   \n",
       "1                    BERNIE SANDERS Makes A Promise To All Americans That You Really Won’t Believe [Video]   \n",
       "2                                           Democrats in disarray on eve of convention to nominate Clinton   \n",
       "3                                                  Trump on Twitter (August 8): Opioid crisis, North Korea   \n",
       "4      BREAKING: Biden Won’t Run…Is It Because Biden And Obama Can’t Risk Repercussions Of Exposing Hil...   \n",
       "...                                                                                                    ...   \n",
       "44893                                                                     The Battle against Islamic State   \n",
       "44894         HILLARY IS FURIOUS OVER EMAIL HACKS…Openly Threatens War With Russia…Media Is SILENT [VIDEO]   \n",
       "44895                            Miami Mayor Doesn’t Know History: Blames Hurricane Irma On Climate Change   \n",
       "44896                                            UK foreign secretary says Hariri should return to Lebanon   \n",
       "44897  WATCH: G.W. BUSH Gushes Over Kimmel’s Anti-Trump Oscar’s Monologue…Refused To Speak Out Against ...   \n",
       "\n",
       "                                                                                                      text  \\\n",
       "0      MOSCOW (Reuters) - A Russian court ordered the detention of a man on Saturday on suspicion of tr...   \n",
       "1                                      This guy is crazy! The last thing Americans needs is higher taxes!    \n",
       "2      PHILADELPHIA (Reuters) - The head of the Democratic Party resigned on Sunday amid a furor over e...   \n",
       "3      The following statements were posted to the verified Twitter accounts of U.S. President Donald T...   \n",
       "4      This announcement seems to indicate that the Obama regime already knows Hillary is going to be w...   \n",
       "...                                                                                                    ...   \n",
       "44893  (Reuters) - It was an awkward coalition riven by political and sectarian differences, facing an ...   \n",
       "44894  But the media s concerned Trump is the threat to our national security with his  reckless words....   \n",
       "44895  Miami s mayor decided to jump into the discussion about whether climate change is the reason for...   \n",
       "44896  BEIRUT (Reuters) - British Foreign Secretary Boris Johnson said on Sunday he hopes Saad al-Harir...   \n",
       "44897  George W. Bush heaped praise on Jimmy Kimmel for his anti-Trump opening monologue at the Oscars ...   \n",
       "\n",
       "               subject                 date  label  \n",
       "0            worldnews  September 23, 2017       1  \n",
       "1             politics         Oct 18, 2015      0  \n",
       "2         politicsNews       July 24, 2016       1  \n",
       "3         politicsNews      August 8, 2017       1  \n",
       "4      Government News         Oct 21, 2015      0  \n",
       "...                ...                  ...    ...  \n",
       "44893        worldnews    December 4, 2017       1  \n",
       "44894         politics          Sep 3, 2016      0  \n",
       "44895         politics          Sep 9, 2017      0  \n",
       "44896        worldnews   November 12, 2017       1  \n",
       "44897         politics          Mar 3, 2017      0  \n",
       "\n",
       "[44898 rows x 5 columns]"
      ]
     },
     "execution_count": 22,
     "metadata": {},
     "output_type": "execute_result"
    }
   ],
   "source": [
    "final_news_df"
   ]
  },
  {
   "cell_type": "code",
   "execution_count": null,
   "id": "2b1f7dad",
   "metadata": {},
   "outputs": [],
   "source": []
  },
  {
   "cell_type": "markdown",
   "id": "f3404a02",
   "metadata": {},
   "source": [
    "## (5.) Feature Engineering"
   ]
  },
  {
   "cell_type": "code",
   "execution_count": 23,
   "id": "d5d2873e",
   "metadata": {},
   "outputs": [],
   "source": [
    "import string\n",
    "from nltk.tokenize import word_tokenize\n",
    "import re\n",
    "import nltk\n",
    "from nltk.corpus import stopwords"
   ]
  },
  {
   "cell_type": "markdown",
   "id": "4d390d5d",
   "metadata": {},
   "source": [
    "### (i.) Punctuation_count"
   ]
  },
  {
   "cell_type": "markdown",
   "id": "a8aa9eeb",
   "metadata": {},
   "source": [
    "string.punctuation\n",
    "\n",
    "'!\"#$%&\\'()*+,-./:;<=>?@[\\\\]^_`{|}~'"
   ]
  },
  {
   "cell_type": "code",
   "execution_count": 24,
   "id": "9498c551",
   "metadata": {},
   "outputs": [],
   "source": [
    "def punct_count(text):\n",
    "    \n",
    "    text_length = sum([1 for x in text if x in string.punctuation])\n",
    "    \n",
    "    return text_length"
   ]
  },
  {
   "cell_type": "code",
   "execution_count": 25,
   "id": "bc802843",
   "metadata": {},
   "outputs": [],
   "source": [
    "final_news_df['punct_count'] = final_news_df['text'].apply(lambda x : punct_count(x))"
   ]
  },
  {
   "cell_type": "code",
   "execution_count": null,
   "id": "b4071f03",
   "metadata": {},
   "outputs": [],
   "source": []
  },
  {
   "cell_type": "markdown",
   "id": "9577a462",
   "metadata": {},
   "source": [
    "### (ii.) text_body_length"
   ]
  },
  {
   "cell_type": "code",
   "execution_count": 26,
   "id": "782c40fe",
   "metadata": {},
   "outputs": [],
   "source": [
    "final_news_df['text_body_length'] = final_news_df['text'].apply(lambda x: len(x) - x.count(\" \"))"
   ]
  },
  {
   "cell_type": "code",
   "execution_count": null,
   "id": "12db6d5e",
   "metadata": {},
   "outputs": [],
   "source": []
  },
  {
   "cell_type": "code",
   "execution_count": 27,
   "id": "de7b2f25",
   "metadata": {},
   "outputs": [
    {
     "data": {
      "text/html": [
       "<div>\n",
       "<style scoped>\n",
       "    .dataframe tbody tr th:only-of-type {\n",
       "        vertical-align: middle;\n",
       "    }\n",
       "\n",
       "    .dataframe tbody tr th {\n",
       "        vertical-align: top;\n",
       "    }\n",
       "\n",
       "    .dataframe thead th {\n",
       "        text-align: right;\n",
       "    }\n",
       "</style>\n",
       "<table border=\"1\" class=\"dataframe\">\n",
       "  <thead>\n",
       "    <tr style=\"text-align: right;\">\n",
       "      <th></th>\n",
       "      <th>title</th>\n",
       "      <th>text</th>\n",
       "      <th>subject</th>\n",
       "      <th>date</th>\n",
       "      <th>label</th>\n",
       "      <th>punct_count</th>\n",
       "      <th>text_body_length</th>\n",
       "    </tr>\n",
       "  </thead>\n",
       "  <tbody>\n",
       "    <tr>\n",
       "      <th>0</th>\n",
       "      <td>Russian suspect detained after arson attacks against last tsar film</td>\n",
       "      <td>MOSCOW (Reuters) - A Russian court ordered the detention of a man on Saturday on suspicion of tr...</td>\n",
       "      <td>worldnews</td>\n",
       "      <td>September 23, 2017</td>\n",
       "      <td>1</td>\n",
       "      <td>36</td>\n",
       "      <td>1812</td>\n",
       "    </tr>\n",
       "    <tr>\n",
       "      <th>1</th>\n",
       "      <td>BERNIE SANDERS Makes A Promise To All Americans That You Really Won’t Believe [Video]</td>\n",
       "      <td>This guy is crazy! The last thing Americans needs is higher taxes!</td>\n",
       "      <td>politics</td>\n",
       "      <td>Oct 18, 2015</td>\n",
       "      <td>0</td>\n",
       "      <td>2</td>\n",
       "      <td>55</td>\n",
       "    </tr>\n",
       "    <tr>\n",
       "      <th>2</th>\n",
       "      <td>Democrats in disarray on eve of convention to nominate Clinton</td>\n",
       "      <td>PHILADELPHIA (Reuters) - The head of the Democratic Party resigned on Sunday amid a furor over e...</td>\n",
       "      <td>politicsNews</td>\n",
       "      <td>July 24, 2016</td>\n",
       "      <td>1</td>\n",
       "      <td>115</td>\n",
       "      <td>4788</td>\n",
       "    </tr>\n",
       "    <tr>\n",
       "      <th>3</th>\n",
       "      <td>Trump on Twitter (August 8): Opioid crisis, North Korea</td>\n",
       "      <td>The following statements were posted to the verified Twitter accounts of U.S. President Donald T...</td>\n",
       "      <td>politicsNews</td>\n",
       "      <td>August 8, 2017</td>\n",
       "      <td>1</td>\n",
       "      <td>53</td>\n",
       "      <td>766</td>\n",
       "    </tr>\n",
       "    <tr>\n",
       "      <th>4</th>\n",
       "      <td>BREAKING: Biden Won’t Run…Is It Because Biden And Obama Can’t Risk Repercussions Of Exposing Hil...</td>\n",
       "      <td>This announcement seems to indicate that the Obama regime already knows Hillary is going to be w...</td>\n",
       "      <td>Government News</td>\n",
       "      <td>Oct 21, 2015</td>\n",
       "      <td>0</td>\n",
       "      <td>53</td>\n",
       "      <td>1682</td>\n",
       "    </tr>\n",
       "    <tr>\n",
       "      <th>5</th>\n",
       "      <td>Trump urges China's Xi to convince North Korea to end provocations: White House</td>\n",
       "      <td>WASHINGTON (Reuters) - U.S. President Donald Trump on Wednesday called on Chinese President Xi J...</td>\n",
       "      <td>worldnews</td>\n",
       "      <td>November 29, 2017</td>\n",
       "      <td>1</td>\n",
       "      <td>9</td>\n",
       "      <td>419</td>\n",
       "    </tr>\n",
       "    <tr>\n",
       "      <th>6</th>\n",
       "      <td>JUST IN: Documents Reveal Hillary Clinton “Struck a Deal” to Keep Records Private</td>\n",
       "      <td>Here s yet another reason to be very suspicious of the Obama administration and Hillary Clinton:...</td>\n",
       "      <td>Government News</td>\n",
       "      <td>Dec 14, 2017</td>\n",
       "      <td>0</td>\n",
       "      <td>56</td>\n",
       "      <td>2092</td>\n",
       "    </tr>\n",
       "    <tr>\n",
       "      <th>7</th>\n",
       "      <td>How Kim Davis Got A Seat To Attend State Of The Union Is Just As Pathetic As Kim Davis</td>\n",
       "      <td>If there s one person in this entire nation who does not deserve a seat at the State of the Unio...</td>\n",
       "      <td>News</td>\n",
       "      <td>January 12, 2016</td>\n",
       "      <td>0</td>\n",
       "      <td>46</td>\n",
       "      <td>1660</td>\n",
       "    </tr>\n",
       "    <tr>\n",
       "      <th>8</th>\n",
       "      <td>Twitter Just Apologized For Making Donald Trump President</td>\n",
       "      <td>I think that maybe I wouldn t be here if it wasn t for Twitter,  Donald Trump told Fox News ear...</td>\n",
       "      <td>News</td>\n",
       "      <td>May 20, 2017</td>\n",
       "      <td>0</td>\n",
       "      <td>21</td>\n",
       "      <td>1054</td>\n",
       "    </tr>\n",
       "    <tr>\n",
       "      <th>9</th>\n",
       "      <td>Kremlin says Russia not accused in U.S. case against ex-Trump aides</td>\n",
       "      <td>MOSCOW (Reuters) - The Kremlin said on Tuesday that U.S. charges against President Donald Trump ...</td>\n",
       "      <td>worldnews</td>\n",
       "      <td>October 31, 2017</td>\n",
       "      <td>1</td>\n",
       "      <td>77</td>\n",
       "      <td>3169</td>\n",
       "    </tr>\n",
       "  </tbody>\n",
       "</table>\n",
       "</div>"
      ],
      "text/plain": [
       "                                                                                                 title  \\\n",
       "0                                  Russian suspect detained after arson attacks against last tsar film   \n",
       "1                BERNIE SANDERS Makes A Promise To All Americans That You Really Won’t Believe [Video]   \n",
       "2                                       Democrats in disarray on eve of convention to nominate Clinton   \n",
       "3                                              Trump on Twitter (August 8): Opioid crisis, North Korea   \n",
       "4  BREAKING: Biden Won’t Run…Is It Because Biden And Obama Can’t Risk Repercussions Of Exposing Hil...   \n",
       "5                      Trump urges China's Xi to convince North Korea to end provocations: White House   \n",
       "6                    JUST IN: Documents Reveal Hillary Clinton “Struck a Deal” to Keep Records Private   \n",
       "7               How Kim Davis Got A Seat To Attend State Of The Union Is Just As Pathetic As Kim Davis   \n",
       "8                                            Twitter Just Apologized For Making Donald Trump President   \n",
       "9                                  Kremlin says Russia not accused in U.S. case against ex-Trump aides   \n",
       "\n",
       "                                                                                                  text  \\\n",
       "0  MOSCOW (Reuters) - A Russian court ordered the detention of a man on Saturday on suspicion of tr...   \n",
       "1                                  This guy is crazy! The last thing Americans needs is higher taxes!    \n",
       "2  PHILADELPHIA (Reuters) - The head of the Democratic Party resigned on Sunday amid a furor over e...   \n",
       "3  The following statements were posted to the verified Twitter accounts of U.S. President Donald T...   \n",
       "4  This announcement seems to indicate that the Obama regime already knows Hillary is going to be w...   \n",
       "5  WASHINGTON (Reuters) - U.S. President Donald Trump on Wednesday called on Chinese President Xi J...   \n",
       "6  Here s yet another reason to be very suspicious of the Obama administration and Hillary Clinton:...   \n",
       "7  If there s one person in this entire nation who does not deserve a seat at the State of the Unio...   \n",
       "8   I think that maybe I wouldn t be here if it wasn t for Twitter,  Donald Trump told Fox News ear...   \n",
       "9  MOSCOW (Reuters) - The Kremlin said on Tuesday that U.S. charges against President Donald Trump ...   \n",
       "\n",
       "           subject                 date  label  punct_count  text_body_length  \n",
       "0        worldnews  September 23, 2017       1           36              1812  \n",
       "1         politics         Oct 18, 2015      0            2                55  \n",
       "2     politicsNews       July 24, 2016       1          115              4788  \n",
       "3     politicsNews      August 8, 2017       1           53               766  \n",
       "4  Government News         Oct 21, 2015      0           53              1682  \n",
       "5        worldnews   November 29, 2017       1            9               419  \n",
       "6  Government News         Dec 14, 2017      0           56              2092  \n",
       "7             News     January 12, 2016      0           46              1660  \n",
       "8             News         May 20, 2017      0           21              1054  \n",
       "9        worldnews    October 31, 2017       1           77              3169  "
      ]
     },
     "execution_count": 27,
     "metadata": {},
     "output_type": "execute_result"
    }
   ],
   "source": [
    "final_news_df.head(10)"
   ]
  },
  {
   "cell_type": "code",
   "execution_count": null,
   "id": "ea81e901",
   "metadata": {},
   "outputs": [],
   "source": []
  },
  {
   "cell_type": "code",
   "execution_count": null,
   "id": "3f4b9c56",
   "metadata": {},
   "outputs": [],
   "source": []
  },
  {
   "cell_type": "markdown",
   "id": "adc3bada",
   "metadata": {},
   "source": [
    "### (iii.) Droping Unwanted Data Fields(Features)"
   ]
  },
  {
   "cell_type": "markdown",
   "id": "da1c242c",
   "metadata": {},
   "source": [
    "As the \"Date\" field and the \"Subject\" field does not contribute much into our dataset and machine learning model..!"
   ]
  },
  {
   "cell_type": "code",
   "execution_count": 28,
   "id": "3dac672e",
   "metadata": {},
   "outputs": [],
   "source": [
    "final_news_df.drop(['subject', 'date'], axis=1, inplace= True)"
   ]
  },
  {
   "cell_type": "code",
   "execution_count": null,
   "id": "ecf839e1",
   "metadata": {},
   "outputs": [],
   "source": []
  },
  {
   "cell_type": "code",
   "execution_count": null,
   "id": "04e99f8b",
   "metadata": {},
   "outputs": [],
   "source": []
  },
  {
   "cell_type": "markdown",
   "id": "a88a13e4",
   "metadata": {},
   "source": [
    "## (6.) Data Prepration for Machine Learning Model  (Wrangaling and Cleaning )"
   ]
  },
  {
   "cell_type": "code",
   "execution_count": 29,
   "id": "f8b74c89",
   "metadata": {},
   "outputs": [],
   "source": [
    "## Importing Vectorizer and Initializing Lemmatizer\n",
    "\n",
    "from sklearn.feature_extraction.text import TfidfVectorizer\n",
    "\n",
    "lemmatizer = nltk .WordNetLemmatizer()"
   ]
  },
  {
   "cell_type": "markdown",
   "id": "b7a28003",
   "metadata": {},
   "source": [
    "### (i.) Dropping Data points that has zero(0) value in text_body_lenght "
   ]
  },
  {
   "cell_type": "code",
   "execution_count": null,
   "id": "b386c368",
   "metadata": {},
   "outputs": [],
   "source": []
  },
  {
   "cell_type": "code",
   "execution_count": 30,
   "id": "e037f5d9",
   "metadata": {},
   "outputs": [],
   "source": [
    "zero_value_indexs = final_news_df[final_news_df['text_body_length'] == 0].index\n",
    "\n",
    "final_news_df.drop(index= zero_value_indexs, inplace= True)"
   ]
  },
  {
   "cell_type": "code",
   "execution_count": null,
   "id": "fff6836e",
   "metadata": {},
   "outputs": [],
   "source": []
  },
  {
   "cell_type": "markdown",
   "id": "8bd97f55",
   "metadata": {},
   "source": []
  },
  {
   "cell_type": "markdown",
   "id": "5521bbb7",
   "metadata": {},
   "source": [
    "### (ii.) Cleaning data (Removing punctuation, stopwords and Lemmatizing the text)"
   ]
  },
  {
   "cell_type": "code",
   "execution_count": 31,
   "id": "4377620b",
   "metadata": {},
   "outputs": [],
   "source": [
    "def data_cleaning(text):\n",
    "    \n",
    "    ## converting text into lower case\n",
    "    data = text.lower()\n",
    "    \n",
    "    ## Removing Punctuations\n",
    "    no_punct_data = re.sub(r'\\W+', ' ', data)\n",
    "    \n",
    "    ## tokenizing the text\n",
    "    tokenize_text = re.split(r'\\s', no_punct_data)\n",
    "    \n",
    "    ## Stopwords\n",
    "    stop_words = stopwords.words('english')\n",
    "    \n",
    "    ## Removing Stopwords and Lemmatizing the text\n",
    "    clean_data = \" \".join([lemmatizer.lemmatize(x) for x in tokenize_text if x not in stop_words])\n",
    "    \n",
    "    \n",
    "    return clean_data"
   ]
  },
  {
   "cell_type": "code",
   "execution_count": null,
   "id": "2c885aef",
   "metadata": {},
   "outputs": [],
   "source": []
  },
  {
   "cell_type": "code",
   "execution_count": 32,
   "id": "40de9ffb",
   "metadata": {},
   "outputs": [],
   "source": [
    "final_news_df['text'] = final_news_df['text'].apply(lambda x: data_cleaning(x))"
   ]
  },
  {
   "cell_type": "code",
   "execution_count": 33,
   "id": "16c8b5f0",
   "metadata": {},
   "outputs": [],
   "source": [
    "final_news_df['title'] = final_news_df['title'].apply(lambda x: data_cleaning(x))"
   ]
  },
  {
   "cell_type": "code",
   "execution_count": 34,
   "id": "3141ff0e",
   "metadata": {},
   "outputs": [],
   "source": [
    "# final_news_df.head()"
   ]
  },
  {
   "cell_type": "code",
   "execution_count": null,
   "id": "b4a518d4",
   "metadata": {},
   "outputs": [],
   "source": []
  },
  {
   "cell_type": "markdown",
   "id": "f00f4883",
   "metadata": {},
   "source": [
    "### (iii.) Adding tokenize list of text_body into Dataset"
   ]
  },
  {
   "cell_type": "code",
   "execution_count": 35,
   "id": "d1d24538",
   "metadata": {},
   "outputs": [],
   "source": [
    "final_news_df['tokenized_text'] = final_news_df['text'].apply(lambda x: word_tokenize(x))"
   ]
  },
  {
   "cell_type": "code",
   "execution_count": 36,
   "id": "595bb172",
   "metadata": {},
   "outputs": [
    {
     "data": {
      "text/html": [
       "<div>\n",
       "<style scoped>\n",
       "    .dataframe tbody tr th:only-of-type {\n",
       "        vertical-align: middle;\n",
       "    }\n",
       "\n",
       "    .dataframe tbody tr th {\n",
       "        vertical-align: top;\n",
       "    }\n",
       "\n",
       "    .dataframe thead th {\n",
       "        text-align: right;\n",
       "    }\n",
       "</style>\n",
       "<table border=\"1\" class=\"dataframe\">\n",
       "  <thead>\n",
       "    <tr style=\"text-align: right;\">\n",
       "      <th></th>\n",
       "      <th>title</th>\n",
       "      <th>text</th>\n",
       "      <th>label</th>\n",
       "      <th>punct_count</th>\n",
       "      <th>text_body_length</th>\n",
       "      <th>tokenized_text</th>\n",
       "    </tr>\n",
       "  </thead>\n",
       "  <tbody>\n",
       "    <tr>\n",
       "      <th>0</th>\n",
       "      <td>russian suspect detained arson attack last tsar film</td>\n",
       "      <td>moscow reuters russian court ordered detention man saturday suspicion trying intimidate cinema s...</td>\n",
       "      <td>1</td>\n",
       "      <td>36</td>\n",
       "      <td>1812</td>\n",
       "      <td>[moscow, reuters, russian, court, ordered, detention, man, saturday, suspicion, trying, intimida...</td>\n",
       "    </tr>\n",
       "    <tr>\n",
       "      <th>1</th>\n",
       "      <td>bernie sander make promise american really believe video</td>\n",
       "      <td>guy crazy last thing american need higher tax</td>\n",
       "      <td>0</td>\n",
       "      <td>2</td>\n",
       "      <td>55</td>\n",
       "      <td>[guy, crazy, last, thing, american, need, higher, tax]</td>\n",
       "    </tr>\n",
       "    <tr>\n",
       "      <th>2</th>\n",
       "      <td>democrat disarray eve convention nominate clinton</td>\n",
       "      <td>philadelphia reuters head democratic party resigned sunday amid furor embarrassing leaked email ...</td>\n",
       "      <td>1</td>\n",
       "      <td>115</td>\n",
       "      <td>4788</td>\n",
       "      <td>[philadelphia, reuters, head, democratic, party, resigned, sunday, amid, furor, embarrassing, le...</td>\n",
       "    </tr>\n",
       "    <tr>\n",
       "      <th>3</th>\n",
       "      <td>trump twitter august 8 opioid crisis north korea</td>\n",
       "      <td>following statement posted verified twitter account u president donald trump realdonaldtrump pot...</td>\n",
       "      <td>1</td>\n",
       "      <td>53</td>\n",
       "      <td>766</td>\n",
       "      <td>[following, statement, posted, verified, twitter, account, u, president, donald, trump, realdona...</td>\n",
       "    </tr>\n",
       "    <tr>\n",
       "      <th>4</th>\n",
       "      <td>breaking biden run biden obama risk repercussion exposing hillary video</td>\n",
       "      <td>announcement seems indicate obama regime already know hillary going walking away unscathed bengh...</td>\n",
       "      <td>0</td>\n",
       "      <td>53</td>\n",
       "      <td>1682</td>\n",
       "      <td>[announcement, seems, indicate, obama, regime, already, know, hillary, going, walking, away, uns...</td>\n",
       "    </tr>\n",
       "  </tbody>\n",
       "</table>\n",
       "</div>"
      ],
      "text/plain": [
       "                                                                      title  \\\n",
       "0                      russian suspect detained arson attack last tsar film   \n",
       "1                 bernie sander make promise american really believe video    \n",
       "2                         democrat disarray eve convention nominate clinton   \n",
       "3                          trump twitter august 8 opioid crisis north korea   \n",
       "4  breaking biden run biden obama risk repercussion exposing hillary video    \n",
       "\n",
       "                                                                                                  text  \\\n",
       "0  moscow reuters russian court ordered detention man saturday suspicion trying intimidate cinema s...   \n",
       "1                                                       guy crazy last thing american need higher tax    \n",
       "2  philadelphia reuters head democratic party resigned sunday amid furor embarrassing leaked email ...   \n",
       "3  following statement posted verified twitter account u president donald trump realdonaldtrump pot...   \n",
       "4  announcement seems indicate obama regime already know hillary going walking away unscathed bengh...   \n",
       "\n",
       "   label  punct_count  text_body_length  \\\n",
       "0      1           36              1812   \n",
       "1      0            2                55   \n",
       "2      1          115              4788   \n",
       "3      1           53               766   \n",
       "4      0           53              1682   \n",
       "\n",
       "                                                                                        tokenized_text  \n",
       "0  [moscow, reuters, russian, court, ordered, detention, man, saturday, suspicion, trying, intimida...  \n",
       "1                                               [guy, crazy, last, thing, american, need, higher, tax]  \n",
       "2  [philadelphia, reuters, head, democratic, party, resigned, sunday, amid, furor, embarrassing, le...  \n",
       "3  [following, statement, posted, verified, twitter, account, u, president, donald, trump, realdona...  \n",
       "4  [announcement, seems, indicate, obama, regime, already, know, hillary, going, walking, away, uns...  "
      ]
     },
     "execution_count": 36,
     "metadata": {},
     "output_type": "execute_result"
    }
   ],
   "source": [
    "final_news_df.head()"
   ]
  },
  {
   "cell_type": "code",
   "execution_count": null,
   "id": "130d95f7",
   "metadata": {},
   "outputs": [],
   "source": []
  },
  {
   "cell_type": "markdown",
   "id": "f310bed3",
   "metadata": {},
   "source": [
    "## (7.) Visualizing some key factors of the dataset"
   ]
  },
  {
   "cell_type": "code",
   "execution_count": null,
   "id": "1b4b6ead",
   "metadata": {},
   "outputs": [],
   "source": []
  },
  {
   "cell_type": "markdown",
   "id": "6246cc43",
   "metadata": {},
   "source": [
    "### (i.) Historgam for Text Body lengthh "
   ]
  },
  {
   "cell_type": "code",
   "execution_count": 37,
   "id": "2fd5ff14",
   "metadata": {},
   "outputs": [],
   "source": [
    "import seaborn as sns\n",
    "from nltk.tokenize import word_tokenize\n",
    "import matplotlib.pyplot as plt\n",
    "\n",
    "\n",
    "# wordcloud\n",
    "from wordcloud import WordCloud"
   ]
  },
  {
   "cell_type": "code",
   "execution_count": 38,
   "id": "079de4d6",
   "metadata": {},
   "outputs": [],
   "source": [
    "fake_data = final_news_df[final_news_df['label'] == 0]\n",
    "true_data = final_news_df[final_news_df['label'] == 1]"
   ]
  },
  {
   "cell_type": "code",
   "execution_count": 39,
   "id": "e7887010",
   "metadata": {},
   "outputs": [
    {
     "data": {
      "image/png": "[encoded data removed]",
      "text/plain": [
       "<Figure size 640x480 with 1 Axes>"
      ]
     },
     "metadata": {},
     "output_type": "display_data"
    }
   ],
   "source": [
    "\n",
    "# create histogram of text body lengths for fake news articles\n",
    "plt.hist(fake_data['text_body_length'], bins=10, alpha=0.5, label='Fake', )\n",
    "\n",
    "# create histogram of text body lengths for true news articles\n",
    "plt.hist(true_data['text_body_length'], bins=10, alpha=0.5, label='True')\n",
    "\n",
    "\n",
    "plt.xlabel('Text Body Length')\n",
    "\n",
    "plt.ylabel('Count')\n",
    "\n",
    "plt.legend(loc='upper right')\n",
    "\n",
    "\n",
    "## Saving the plot \n",
    "\n",
    "plt.savefig(\"Hist1.png\")\n",
    "\n",
    "\n",
    "plt.show()\n"
   ]
  },
  {
   "cell_type": "code",
   "execution_count": null,
   "id": "d839ef6d",
   "metadata": {},
   "outputs": [],
   "source": []
  },
  {
   "cell_type": "code",
   "execution_count": null,
   "id": "bd4a5436",
   "metadata": {},
   "outputs": [],
   "source": []
  },
  {
   "cell_type": "code",
   "execution_count": null,
   "id": "d346da12",
   "metadata": {},
   "outputs": [],
   "source": []
  },
  {
   "cell_type": "markdown",
   "id": "1cd8dee9",
   "metadata": {},
   "source": [
    "### (ii.) Word Cloud of Textbody Tokens"
   ]
  },
  {
   "cell_type": "markdown",
   "id": "7e5aa0ec",
   "metadata": {},
   "source": [
    "### (a.) Fake News Tokens WordCloud"
   ]
  },
  {
   "cell_type": "code",
   "execution_count": 40,
   "id": "6d4df759",
   "metadata": {},
   "outputs": [],
   "source": [
    "fake_news_tokens = final_news_df[final_news_df['label'] == 0]['tokenized_text']"
   ]
  },
  {
   "cell_type": "code",
   "execution_count": 41,
   "id": "b4be95e2",
   "metadata": {},
   "outputs": [],
   "source": [
    "fake_news_text =  str([\" \".join(x) for x in fake_news_tokens])"
   ]
  },
  {
   "cell_type": "code",
   "execution_count": null,
   "id": "0721c776",
   "metadata": {},
   "outputs": [],
   "source": [
    "fake_wordcloud = WordCloud(width= 800, height= 400, max_words= 100, collocations= True).generate(fake_news_text)"
   ]
  },
  {
   "cell_type": "code",
   "execution_count": null,
   "id": "dceb94f3",
   "metadata": {},
   "outputs": [],
   "source": [
    "plt.figure(figsize=(12, 8))\n",
    "plt.imshow(fake_wordcloud, interpolation='bilinear')\n",
    "plt.axis('off')\n",
    "plt.savefig(\"FakeWordCloud.png\")\n",
    "plt.show()"
   ]
  },
  {
   "cell_type": "code",
   "execution_count": null,
   "id": "7b7bd09e",
   "metadata": {},
   "outputs": [],
   "source": []
  },
  {
   "cell_type": "markdown",
   "id": "13a28fca",
   "metadata": {},
   "source": [
    "### (b.) True News Tokens WordCloud"
   ]
  },
  {
   "cell_type": "code",
   "execution_count": null,
   "id": "909da705",
   "metadata": {},
   "outputs": [],
   "source": [
    "true_news_tokens = final_news_df[final_news_df['label'] == 1]['tokenized_text']"
   ]
  },
  {
   "cell_type": "code",
   "execution_count": null,
   "id": "6cb70fca",
   "metadata": {},
   "outputs": [],
   "source": [
    "true_news_text =  str([\" \".join(x) for x in true_news_tokens])"
   ]
  },
  {
   "cell_type": "code",
   "execution_count": null,
   "id": "bbaafbea",
   "metadata": {},
   "outputs": [],
   "source": [
    "true_wordcloud = WordCloud(width= 800, height= 400, max_words= 100, collocations= True).generate(true_news_text)"
   ]
  },
  {
   "cell_type": "code",
   "execution_count": null,
   "id": "e3a5fc02",
   "metadata": {},
   "outputs": [],
   "source": [
    "plt.figure(figsize=(12, 8))\n",
    "plt.imshow(true_wordcloud, interpolation='bilinear')\n",
    "plt.title = \"\"\n",
    "plt.axis('off')\n",
    "plt.show()"
   ]
  },
  {
   "cell_type": "code",
   "execution_count": null,
   "id": "8cfa28e0",
   "metadata": {},
   "outputs": [],
   "source": []
  },
  {
   "cell_type": "code",
   "execution_count": null,
   "id": "8e29692d",
   "metadata": {},
   "outputs": [],
   "source": []
  },
  {
   "cell_type": "markdown",
   "id": "a23596dd",
   "metadata": {},
   "source": [
    "## (8.) Spliting Data into Train and Test Sets"
   ]
  },
  {
   "cell_type": "code",
   "execution_count": null,
   "id": "11100f8b",
   "metadata": {},
   "outputs": [],
   "source": [
    "from sklearn.model_selection import train_test_split"
   ]
  },
  {
   "cell_type": "code",
   "execution_count": null,
   "id": "6900015e",
   "metadata": {},
   "outputs": [],
   "source": [
    "X = final_news_df['text']\n",
    "Y = final_news_df['label']"
   ]
  },
  {
   "cell_type": "code",
   "execution_count": null,
   "id": "12696602",
   "metadata": {},
   "outputs": [],
   "source": [
    "#Split data into train and test set\n",
    "X_train, X_test, y_train, y_test = train_test_split(X, Y, test_size=0.2, random_state=42)"
   ]
  },
  {
   "cell_type": "code",
   "execution_count": null,
   "id": "4773ae0d",
   "metadata": {},
   "outputs": [],
   "source": []
  },
  {
   "cell_type": "markdown",
   "id": "1e50134b",
   "metadata": {},
   "source": [
    "#### (i.) Shape of Train and Test data"
   ]
  },
  {
   "cell_type": "code",
   "execution_count": null,
   "id": "1f23b869",
   "metadata": {},
   "outputs": [],
   "source": [
    "print(X_train.shape , X_test.shape)"
   ]
  },
  {
   "cell_type": "code",
   "execution_count": null,
   "id": "d619d285",
   "metadata": {},
   "outputs": [],
   "source": []
  },
  {
   "cell_type": "markdown",
   "id": "1fb9db70",
   "metadata": {},
   "source": [
    "## (9.) Text Vectorization"
   ]
  },
  {
   "cell_type": "code",
   "execution_count": null,
   "id": "807902f5",
   "metadata": {},
   "outputs": [],
   "source": [
    "## We are using TFIDF Vectorizer.\n",
    "\n",
    "from sklearn.feature_extraction.text import TfidfVectorizer"
   ]
  },
  {
   "cell_type": "code",
   "execution_count": null,
   "id": "e128cbf9",
   "metadata": {},
   "outputs": [],
   "source": [
    "vectorizer = TfidfVectorizer(max_features=50000, lowercase= False, ngram_range=(1,2))"
   ]
  },
  {
   "cell_type": "code",
   "execution_count": null,
   "id": "db8476e8",
   "metadata": {},
   "outputs": [],
   "source": [
    "X_train_vect = vectorizer.fit_transform(X_train)\n",
    "\n",
    "X_train_vect = X_train_vect.toarray()"
   ]
  },
  {
   "cell_type": "code",
   "execution_count": null,
   "id": "3ed3d92e",
   "metadata": {},
   "outputs": [],
   "source": [
    "X_test_vect = vectorizer.transform(X_test)\n",
    "\n",
    "X_test_vect = X_test_vect.toarray()"
   ]
  },
  {
   "cell_type": "code",
   "execution_count": null,
   "id": "0e811d44",
   "metadata": {},
   "outputs": [],
   "source": []
  },
  {
   "cell_type": "markdown",
   "id": "8136518b",
   "metadata": {},
   "source": [
    "### (i.) Shape of vectorized Train and Test data"
   ]
  },
  {
   "cell_type": "code",
   "execution_count": null,
   "id": "ddb09cec",
   "metadata": {},
   "outputs": [],
   "source": [
    "print(X_train_vect.shape, X_test_vect.shape)"
   ]
  },
  {
   "cell_type": "code",
   "execution_count": null,
   "id": "fe4cf124",
   "metadata": {},
   "outputs": [],
   "source": []
  },
  {
   "cell_type": "markdown",
   "id": "02cf548c",
   "metadata": {},
   "source": [
    "### (ii.) Saving Vectorized Data into Datasets"
   ]
  },
  {
   "cell_type": "code",
   "execution_count": null,
   "id": "c6eb7030",
   "metadata": {},
   "outputs": [],
   "source": [
    "training_data = pd.DataFrame(X_train_vect , columns=vectorizer.get_feature_names_out())\n",
    "testing_data = pd.DataFrame(X_test_vect , columns= vectorizer.get_feature_names_out())"
   ]
  },
  {
   "cell_type": "code",
   "execution_count": null,
   "id": "a67cfbb0",
   "metadata": {},
   "outputs": [],
   "source": [
    "training_data.head(5)"
   ]
  },
  {
   "cell_type": "code",
   "execution_count": null,
   "id": "3d4d053f",
   "metadata": {},
   "outputs": [],
   "source": []
  },
  {
   "cell_type": "markdown",
   "id": "6d289e55",
   "metadata": {},
   "source": [
    "## (10.) Initializign Model and Training Model"
   ]
  },
  {
   "cell_type": "code",
   "execution_count": null,
   "id": "fb3564d2",
   "metadata": {},
   "outputs": [],
   "source": []
  },
  {
   "cell_type": "code",
   "execution_count": null,
   "id": "3f75ba4d",
   "metadata": {},
   "outputs": [],
   "source": [
    "from sklearn.naive_bayes import MultinomialNB\n",
    "from sklearn.metrics import accuracy_score"
   ]
  },
  {
   "cell_type": "code",
   "execution_count": null,
   "id": "e18190a7",
   "metadata": {},
   "outputs": [],
   "source": [
    "# Train a Multinomial Naive Bayes model on the training data\n",
    "\n",
    "model = MultinomialNB()\n",
    "\n",
    "model.fit(training_data, y_train)"
   ]
  },
  {
   "cell_type": "code",
   "execution_count": null,
   "id": "4327926b",
   "metadata": {},
   "outputs": [],
   "source": []
  },
  {
   "cell_type": "code",
   "execution_count": null,
   "id": "8305093a",
   "metadata": {},
   "outputs": [],
   "source": [
    "# Make predictions on the Testing data using the trained model\n",
    "y_pred = model.predict(testing_data)\n",
    "\n",
    "# Evaluate the accuracy of the model\n",
    "testdata_accuracy = accuracy_score(y_test, y_pred)\n",
    "\n",
    "print(\"Test set Accuracy:\", testdata_accuracy * 100)"
   ]
  },
  {
   "cell_type": "code",
   "execution_count": null,
   "id": "ac5dacbe",
   "metadata": {},
   "outputs": [],
   "source": []
  },
  {
   "cell_type": "code",
   "execution_count": null,
   "id": "1f4f5771",
   "metadata": {},
   "outputs": [],
   "source": [
    "# Make predictions on the Training data using the trained model\n",
    "y_train_pred = model.predict(training_data)\n",
    "\n",
    "# Evaluate the accuracy of the model\n",
    "traindata_accuracy = accuracy_score(y_train, y_train_pred)\n",
    "\n",
    "print(\"Training set Accuracy:\", traindata_accuracy)"
   ]
  },
  {
   "cell_type": "code",
   "execution_count": null,
   "id": "cec66011",
   "metadata": {},
   "outputs": [],
   "source": []
  },
  {
   "cell_type": "code",
   "execution_count": null,
   "id": "8b0fc183",
   "metadata": {},
   "outputs": [],
   "source": [
    "model.score(training_data, y_train)"
   ]
  },
  {
   "cell_type": "code",
   "execution_count": null,
   "id": "e801c2ae",
   "metadata": {},
   "outputs": [],
   "source": [
    "model.score(testing_data, y_test)"
   ]
  },
  {
   "cell_type": "code",
   "execution_count": null,
   "id": "614f622b",
   "metadata": {},
   "outputs": [],
   "source": []
  },
  {
   "cell_type": "markdown",
   "id": "c53e563e",
   "metadata": {},
   "source": [
    "## (11.) Saving Model"
   ]
  },
  {
   "cell_type": "code",
   "execution_count": null,
   "id": "335a14ad",
   "metadata": {},
   "outputs": [],
   "source": [
    "import joblib\n",
    "\n",
    "joblib.dump(model, 'model.pkl')"
   ]
  },
  {
   "cell_type": "code",
   "execution_count": null,
   "id": "93c62359",
   "metadata": {},
   "outputs": [],
   "source": [
    "new_data = data_cleaning(str(\"ChatGPT is generating fake news stories — attributed to real journalists. I set out to separate fact from fiction.\"))"
   ]
  },
  {
   "cell_type": "code",
   "execution_count": null,
   "id": "77e3cf93",
   "metadata": {},
   "outputs": [],
   "source": [
    "model = joblib.load('model.pkl')\n",
    "\n",
    "\n",
    "new_vect_data = vectorizer.transform([new_data]).toarray()\n",
    "\n",
    "# df = pd.DataFrame(new_vect_data, vectorizer.get_feature_names_out)\n",
    "\n",
    "predicted_labels = model.predict(new_vect_data)\n",
    "\n",
    "print(predicted_labels)\n",
    "\n",
    "if predicted_labels[0] == 0:\n",
    "    \n",
    "    print(\"This is a Fake News\")\n",
    "\n",
    "else:\n",
    "\n",
    "    print(\"This is a True News\")\n",
    "    "
   ]
  },
  {
   "cell_type": "code",
   "execution_count": null,
   "id": "35a7d454",
   "metadata": {},
   "outputs": [],
   "source": []
  }
 ],
 "metadata": {
  "kernelspec": {
   "display_name": "Python 3 (ipykernel)",
   "language": "python",
   "name": "python3"
  },
  "language_info": {
   "codemirror_mode": {
    "name": "ipython",
    "version": 3
   },
   "file_extension": ".py",
   "mimetype": "text/x-python",
   "name": "python",
   "nbconvert_exporter": "python",
   "pygments_lexer": "ipython3",
   "version": "3.11.0"
  }
 },
 "nbformat": 4,
 "nbformat_minor": 5
}
