{
 "cells": [
  {
   "cell_type": "markdown",
   "id": "1ad3d026",
   "metadata": {},
   "source": [
    "### Importing Required Libraries"
   ]
  },
  {
   "cell_type": "code",
   "execution_count": 1,
   "id": "70021984",
   "metadata": {},
   "outputs": [],
   "source": [
    "import pandas as pd\n",
    "import numpy as np\n",
    "import matplotlib.pyplot as plt\n",
    "import seaborn as sns"
   ]
  },
  {
   "cell_type": "markdown",
   "id": "cb0c9d4b",
   "metadata": {},
   "source": [
    "### Loading Dataset"
   ]
  },
  {
   "cell_type": "code",
   "execution_count": 2,
   "id": "d3ef523b",
   "metadata": {},
   "outputs": [],
   "source": [
    "pd.set_option('display.max_colwidth', 100)\n",
    "\n",
    "true_news_df = pd.read_csv('True.csv')\n",
    "fake_news_df = pd.read_csv('Fake.csv')"
   ]
  },
  {
   "cell_type": "code",
   "execution_count": 3,
   "id": "215c263e",
   "metadata": {},
   "outputs": [
    {
     "data": {
      "text/html": [
       "<div>\n",
       "<style scoped>\n",
       "    .dataframe tbody tr th:only-of-type {\n",
       "        vertical-align: middle;\n",
       "    }\n",
       "\n",
       "    .dataframe tbody tr th {\n",
       "        vertical-align: top;\n",
       "    }\n",
       "\n",
       "    .dataframe thead th {\n",
       "        text-align: right;\n",
       "    }\n",
       "</style>\n",
       "<table border=\"1\" class=\"dataframe\">\n",
       "  <thead>\n",
       "    <tr style=\"text-align: right;\">\n",
       "      <th></th>\n",
       "      <th>title</th>\n",
       "      <th>text</th>\n",
       "      <th>subject</th>\n",
       "      <th>date</th>\n",
       "    </tr>\n",
       "  </thead>\n",
       "  <tbody>\n",
       "    <tr>\n",
       "      <th>0</th>\n",
       "      <td>As U.S. budget fight looms, Republicans flip their fiscal script</td>\n",
       "      <td>WASHINGTON (Reuters) - The head of a conservative Republican faction in the U.S. Congress, who v...</td>\n",
       "      <td>politicsNews</td>\n",
       "      <td>December 31, 2017</td>\n",
       "    </tr>\n",
       "    <tr>\n",
       "      <th>1</th>\n",
       "      <td>U.S. military to accept transgender recruits on Monday: Pentagon</td>\n",
       "      <td>WASHINGTON (Reuters) - Transgender people will be allowed for the first time to enlist in the U....</td>\n",
       "      <td>politicsNews</td>\n",
       "      <td>December 29, 2017</td>\n",
       "    </tr>\n",
       "    <tr>\n",
       "      <th>2</th>\n",
       "      <td>Senior U.S. Republican senator: 'Let Mr. Mueller do his job'</td>\n",
       "      <td>WASHINGTON (Reuters) - The special counsel investigation of links between Russia and President T...</td>\n",
       "      <td>politicsNews</td>\n",
       "      <td>December 31, 2017</td>\n",
       "    </tr>\n",
       "    <tr>\n",
       "      <th>3</th>\n",
       "      <td>FBI Russia probe helped by Australian diplomat tip-off: NYT</td>\n",
       "      <td>WASHINGTON (Reuters) - Trump campaign adviser George Papadopoulos told an Australian diplomat in...</td>\n",
       "      <td>politicsNews</td>\n",
       "      <td>December 30, 2017</td>\n",
       "    </tr>\n",
       "    <tr>\n",
       "      <th>4</th>\n",
       "      <td>Trump wants Postal Service to charge 'much more' for Amazon shipments</td>\n",
       "      <td>SEATTLE/WASHINGTON (Reuters) - President Donald Trump called on the U.S. Postal Service on Frida...</td>\n",
       "      <td>politicsNews</td>\n",
       "      <td>December 29, 2017</td>\n",
       "    </tr>\n",
       "    <tr>\n",
       "      <th>5</th>\n",
       "      <td>White House, Congress prepare for talks on spending, immigration</td>\n",
       "      <td>WEST PALM BEACH, Fla./WASHINGTON (Reuters) - The White House said on Friday it was set to kick o...</td>\n",
       "      <td>politicsNews</td>\n",
       "      <td>December 29, 2017</td>\n",
       "    </tr>\n",
       "    <tr>\n",
       "      <th>6</th>\n",
       "      <td>Trump says Russia probe will be fair, but timeline unclear: NYT</td>\n",
       "      <td>WEST PALM BEACH, Fla (Reuters) - President Donald Trump said on Thursday he believes he will be ...</td>\n",
       "      <td>politicsNews</td>\n",
       "      <td>December 29, 2017</td>\n",
       "    </tr>\n",
       "    <tr>\n",
       "      <th>7</th>\n",
       "      <td>Factbox: Trump on Twitter (Dec 29) - Approval rating, Amazon</td>\n",
       "      <td>The following statements were posted to the verified Twitter accounts of U.S. President Donald T...</td>\n",
       "      <td>politicsNews</td>\n",
       "      <td>December 29, 2017</td>\n",
       "    </tr>\n",
       "    <tr>\n",
       "      <th>8</th>\n",
       "      <td>Trump on Twitter (Dec 28) - Global Warming</td>\n",
       "      <td>The following statements were posted to the verified Twitter accounts of U.S. President Donald T...</td>\n",
       "      <td>politicsNews</td>\n",
       "      <td>December 29, 2017</td>\n",
       "    </tr>\n",
       "    <tr>\n",
       "      <th>9</th>\n",
       "      <td>Alabama official to certify Senator-elect Jones today despite challenge: CNN</td>\n",
       "      <td>WASHINGTON (Reuters) - Alabama Secretary of State John Merrill said he will certify Democratic S...</td>\n",
       "      <td>politicsNews</td>\n",
       "      <td>December 28, 2017</td>\n",
       "    </tr>\n",
       "  </tbody>\n",
       "</table>\n",
       "</div>"
      ],
      "text/plain": [
       "                                                                          title  \\\n",
       "0              As U.S. budget fight looms, Republicans flip their fiscal script   \n",
       "1              U.S. military to accept transgender recruits on Monday: Pentagon   \n",
       "2                  Senior U.S. Republican senator: 'Let Mr. Mueller do his job'   \n",
       "3                   FBI Russia probe helped by Australian diplomat tip-off: NYT   \n",
       "4         Trump wants Postal Service to charge 'much more' for Amazon shipments   \n",
       "5              White House, Congress prepare for talks on spending, immigration   \n",
       "6               Trump says Russia probe will be fair, but timeline unclear: NYT   \n",
       "7                  Factbox: Trump on Twitter (Dec 29) - Approval rating, Amazon   \n",
       "8                                    Trump on Twitter (Dec 28) - Global Warming   \n",
       "9  Alabama official to certify Senator-elect Jones today despite challenge: CNN   \n",
       "\n",
       "                                                                                                  text  \\\n",
       "0  WASHINGTON (Reuters) - The head of a conservative Republican faction in the U.S. Congress, who v...   \n",
       "1  WASHINGTON (Reuters) - Transgender people will be allowed for the first time to enlist in the U....   \n",
       "2  WASHINGTON (Reuters) - The special counsel investigation of links between Russia and President T...   \n",
       "3  WASHINGTON (Reuters) - Trump campaign adviser George Papadopoulos told an Australian diplomat in...   \n",
       "4  SEATTLE/WASHINGTON (Reuters) - President Donald Trump called on the U.S. Postal Service on Frida...   \n",
       "5  WEST PALM BEACH, Fla./WASHINGTON (Reuters) - The White House said on Friday it was set to kick o...   \n",
       "6  WEST PALM BEACH, Fla (Reuters) - President Donald Trump said on Thursday he believes he will be ...   \n",
       "7  The following statements were posted to the verified Twitter accounts of U.S. President Donald T...   \n",
       "8  The following statements were posted to the verified Twitter accounts of U.S. President Donald T...   \n",
       "9  WASHINGTON (Reuters) - Alabama Secretary of State John Merrill said he will certify Democratic S...   \n",
       "\n",
       "        subject                date  \n",
       "0  politicsNews  December 31, 2017   \n",
       "1  politicsNews  December 29, 2017   \n",
       "2  politicsNews  December 31, 2017   \n",
       "3  politicsNews  December 30, 2017   \n",
       "4  politicsNews  December 29, 2017   \n",
       "5  politicsNews  December 29, 2017   \n",
       "6  politicsNews  December 29, 2017   \n",
       "7  politicsNews  December 29, 2017   \n",
       "8  politicsNews  December 29, 2017   \n",
       "9  politicsNews  December 28, 2017   "
      ]
     },
     "execution_count": 3,
     "metadata": {},
     "output_type": "execute_result"
    }
   ],
   "source": [
    "true_news_df.head(10)"
   ]
  },
  {
   "cell_type": "code",
   "execution_count": 4,
   "id": "d6b9f371",
   "metadata": {},
   "outputs": [
    {
     "data": {
      "text/html": [
       "<div>\n",
       "<style scoped>\n",
       "    .dataframe tbody tr th:only-of-type {\n",
       "        vertical-align: middle;\n",
       "    }\n",
       "\n",
       "    .dataframe tbody tr th {\n",
       "        vertical-align: top;\n",
       "    }\n",
       "\n",
       "    .dataframe thead th {\n",
       "        text-align: right;\n",
       "    }\n",
       "</style>\n",
       "<table border=\"1\" class=\"dataframe\">\n",
       "  <thead>\n",
       "    <tr style=\"text-align: right;\">\n",
       "      <th></th>\n",
       "      <th>title</th>\n",
       "      <th>text</th>\n",
       "      <th>subject</th>\n",
       "      <th>date</th>\n",
       "    </tr>\n",
       "  </thead>\n",
       "  <tbody>\n",
       "    <tr>\n",
       "      <th>0</th>\n",
       "      <td>Donald Trump Sends Out Embarrassing New Year’s Eve Message; This is Disturbing</td>\n",
       "      <td>Donald Trump just couldn t wish all Americans a Happy New Year and leave it at that. Instead, he...</td>\n",
       "      <td>News</td>\n",
       "      <td>December 31, 2017</td>\n",
       "    </tr>\n",
       "    <tr>\n",
       "      <th>1</th>\n",
       "      <td>Drunk Bragging Trump Staffer Started Russian Collusion Investigation</td>\n",
       "      <td>House Intelligence Committee Chairman Devin Nunes is going to have a bad day. He s been under th...</td>\n",
       "      <td>News</td>\n",
       "      <td>December 31, 2017</td>\n",
       "    </tr>\n",
       "    <tr>\n",
       "      <th>2</th>\n",
       "      <td>Sheriff David Clarke Becomes An Internet Joke For Threatening To Poke People ‘In The Eye’</td>\n",
       "      <td>On Friday, it was revealed that former Milwaukee Sheriff David Clarke, who was being considered ...</td>\n",
       "      <td>News</td>\n",
       "      <td>December 30, 2017</td>\n",
       "    </tr>\n",
       "    <tr>\n",
       "      <th>3</th>\n",
       "      <td>Trump Is So Obsessed He Even Has Obama’s Name Coded Into His Website (IMAGES)</td>\n",
       "      <td>On Christmas day, Donald Trump announced that he would  be back to work  the following day, but ...</td>\n",
       "      <td>News</td>\n",
       "      <td>December 29, 2017</td>\n",
       "    </tr>\n",
       "    <tr>\n",
       "      <th>4</th>\n",
       "      <td>Pope Francis Just Called Out Donald Trump During His Christmas Speech</td>\n",
       "      <td>Pope Francis used his annual Christmas Day message to rebuke Donald Trump without even mentionin...</td>\n",
       "      <td>News</td>\n",
       "      <td>December 25, 2017</td>\n",
       "    </tr>\n",
       "    <tr>\n",
       "      <th>5</th>\n",
       "      <td>Racist Alabama Cops Brutalize Black Boy While He Is In Handcuffs (GRAPHIC IMAGES)</td>\n",
       "      <td>The number of cases of cops brutalizing and killing people of color seems to see no end. Now, we...</td>\n",
       "      <td>News</td>\n",
       "      <td>December 25, 2017</td>\n",
       "    </tr>\n",
       "    <tr>\n",
       "      <th>6</th>\n",
       "      <td>Fresh Off The Golf Course, Trump Lashes Out At FBI Deputy Director And James Comey</td>\n",
       "      <td>Donald Trump spent a good portion of his day at his golf club, marking the 84th day he s done so...</td>\n",
       "      <td>News</td>\n",
       "      <td>December 23, 2017</td>\n",
       "    </tr>\n",
       "    <tr>\n",
       "      <th>7</th>\n",
       "      <td>Trump Said Some INSANELY Racist Stuff Inside The Oval Office, And Witnesses Back It Up</td>\n",
       "      <td>In the wake of yet another court decision that derailed Donald Trump s plan to bar Muslims from ...</td>\n",
       "      <td>News</td>\n",
       "      <td>December 23, 2017</td>\n",
       "    </tr>\n",
       "    <tr>\n",
       "      <th>8</th>\n",
       "      <td>Former CIA Director Slams Trump Over UN Bullying, Openly Suggests He’s Acting Like A Dictator (...</td>\n",
       "      <td>Many people have raised the alarm regarding the fact that Donald Trump is dangerously close to b...</td>\n",
       "      <td>News</td>\n",
       "      <td>December 22, 2017</td>\n",
       "    </tr>\n",
       "    <tr>\n",
       "      <th>9</th>\n",
       "      <td>WATCH: Brand-New Pro-Trump Ad Features So Much A** Kissing It Will Make You Sick</td>\n",
       "      <td>Just when you might have thought we d get a break from watching people kiss Donald Trump s ass a...</td>\n",
       "      <td>News</td>\n",
       "      <td>December 21, 2017</td>\n",
       "    </tr>\n",
       "  </tbody>\n",
       "</table>\n",
       "</div>"
      ],
      "text/plain": [
       "                                                                                                 title  \\\n",
       "0                       Donald Trump Sends Out Embarrassing New Year’s Eve Message; This is Disturbing   \n",
       "1                                 Drunk Bragging Trump Staffer Started Russian Collusion Investigation   \n",
       "2            Sheriff David Clarke Becomes An Internet Joke For Threatening To Poke People ‘In The Eye’   \n",
       "3                        Trump Is So Obsessed He Even Has Obama’s Name Coded Into His Website (IMAGES)   \n",
       "4                                Pope Francis Just Called Out Donald Trump During His Christmas Speech   \n",
       "5                    Racist Alabama Cops Brutalize Black Boy While He Is In Handcuffs (GRAPHIC IMAGES)   \n",
       "6                   Fresh Off The Golf Course, Trump Lashes Out At FBI Deputy Director And James Comey   \n",
       "7               Trump Said Some INSANELY Racist Stuff Inside The Oval Office, And Witnesses Back It Up   \n",
       "8   Former CIA Director Slams Trump Over UN Bullying, Openly Suggests He’s Acting Like A Dictator (...   \n",
       "9                     WATCH: Brand-New Pro-Trump Ad Features So Much A** Kissing It Will Make You Sick   \n",
       "\n",
       "                                                                                                  text  \\\n",
       "0  Donald Trump just couldn t wish all Americans a Happy New Year and leave it at that. Instead, he...   \n",
       "1  House Intelligence Committee Chairman Devin Nunes is going to have a bad day. He s been under th...   \n",
       "2  On Friday, it was revealed that former Milwaukee Sheriff David Clarke, who was being considered ...   \n",
       "3  On Christmas day, Donald Trump announced that he would  be back to work  the following day, but ...   \n",
       "4  Pope Francis used his annual Christmas Day message to rebuke Donald Trump without even mentionin...   \n",
       "5  The number of cases of cops brutalizing and killing people of color seems to see no end. Now, we...   \n",
       "6  Donald Trump spent a good portion of his day at his golf club, marking the 84th day he s done so...   \n",
       "7  In the wake of yet another court decision that derailed Donald Trump s plan to bar Muslims from ...   \n",
       "8  Many people have raised the alarm regarding the fact that Donald Trump is dangerously close to b...   \n",
       "9  Just when you might have thought we d get a break from watching people kiss Donald Trump s ass a...   \n",
       "\n",
       "  subject               date  \n",
       "0    News  December 31, 2017  \n",
       "1    News  December 31, 2017  \n",
       "2    News  December 30, 2017  \n",
       "3    News  December 29, 2017  \n",
       "4    News  December 25, 2017  \n",
       "5    News  December 25, 2017  \n",
       "6    News  December 23, 2017  \n",
       "7    News  December 23, 2017  \n",
       "8    News  December 22, 2017  \n",
       "9    News  December 21, 2017  "
      ]
     },
     "execution_count": 4,
     "metadata": {},
     "output_type": "execute_result"
    }
   ],
   "source": [
    "fake_news_df.head(10)"
   ]
  },
  {
   "cell_type": "code",
   "execution_count": null,
   "id": "567e145e",
   "metadata": {},
   "outputs": [],
   "source": []
  },
  {
   "cell_type": "markdown",
   "id": "abe7d8e1",
   "metadata": {},
   "source": [
    "## 1. Shapes of both datasets"
   ]
  },
  {
   "cell_type": "code",
   "execution_count": 5,
   "id": "2b0ce16e",
   "metadata": {},
   "outputs": [
    {
     "name": "stdout",
     "output_type": "stream",
     "text": [
      "Fake News:  (23481, 4)\n",
      "True News:  (23481, 4)\n"
     ]
    }
   ],
   "source": [
    "print(\"Fake News: \",fake_news_df.shape)\n",
    "print(\"True News: \",fake_news_df.shape)"
   ]
  },
  {
   "cell_type": "code",
   "execution_count": null,
   "id": "24112b72",
   "metadata": {},
   "outputs": [],
   "source": []
  },
  {
   "cell_type": "markdown",
   "id": "2dcb8fba",
   "metadata": {},
   "source": [
    "## 2. Exploring Datatypes and Data Description"
   ]
  },
  {
   "cell_type": "code",
   "execution_count": 6,
   "id": "47c32e67",
   "metadata": {},
   "outputs": [
    {
     "name": "stdout",
     "output_type": "stream",
     "text": [
      "<class 'pandas.core.frame.DataFrame'>\n",
      "RangeIndex: 23481 entries, 0 to 23480\n",
      "Data columns (total 4 columns):\n",
      " #   Column   Non-Null Count  Dtype \n",
      "---  ------   --------------  ----- \n",
      " 0   title    23481 non-null  object\n",
      " 1   text     23481 non-null  object\n",
      " 2   subject  23481 non-null  object\n",
      " 3   date     23481 non-null  object\n",
      "dtypes: object(4)\n",
      "memory usage: 733.9+ KB\n"
     ]
    }
   ],
   "source": [
    "## Data Types and Null Values...\n",
    "\n",
    "fake_news_df.info()"
   ]
  },
  {
   "cell_type": "code",
   "execution_count": 7,
   "id": "8a07578c",
   "metadata": {},
   "outputs": [
    {
     "name": "stdout",
     "output_type": "stream",
     "text": [
      "<class 'pandas.core.frame.DataFrame'>\n",
      "RangeIndex: 21417 entries, 0 to 21416\n",
      "Data columns (total 4 columns):\n",
      " #   Column   Non-Null Count  Dtype \n",
      "---  ------   --------------  ----- \n",
      " 0   title    21417 non-null  object\n",
      " 1   text     21417 non-null  object\n",
      " 2   subject  21417 non-null  object\n",
      " 3   date     21417 non-null  object\n",
      "dtypes: object(4)\n",
      "memory usage: 669.4+ KB\n"
     ]
    }
   ],
   "source": [
    "## Data Types and Null Values...\n",
    "\n",
    "true_news_df.info()"
   ]
  },
  {
   "cell_type": "code",
   "execution_count": null,
   "id": "e939ac0b",
   "metadata": {},
   "outputs": [],
   "source": []
  },
  {
   "cell_type": "markdown",
   "id": "868aaeb4",
   "metadata": {},
   "source": [
    "### (i.) Fake News Description"
   ]
  },
  {
   "cell_type": "code",
   "execution_count": 8,
   "id": "2ee57bf3",
   "metadata": {},
   "outputs": [
    {
     "data": {
      "text/html": [
       "<div>\n",
       "<style scoped>\n",
       "    .dataframe tbody tr th:only-of-type {\n",
       "        vertical-align: middle;\n",
       "    }\n",
       "\n",
       "    .dataframe tbody tr th {\n",
       "        vertical-align: top;\n",
       "    }\n",
       "\n",
       "    .dataframe thead th {\n",
       "        text-align: right;\n",
       "    }\n",
       "</style>\n",
       "<table border=\"1\" class=\"dataframe\">\n",
       "  <thead>\n",
       "    <tr style=\"text-align: right;\">\n",
       "      <th></th>\n",
       "      <th>title</th>\n",
       "      <th>text</th>\n",
       "      <th>subject</th>\n",
       "      <th>date</th>\n",
       "    </tr>\n",
       "  </thead>\n",
       "  <tbody>\n",
       "    <tr>\n",
       "      <th>count</th>\n",
       "      <td>23481</td>\n",
       "      <td>23481</td>\n",
       "      <td>23481</td>\n",
       "      <td>23481</td>\n",
       "    </tr>\n",
       "    <tr>\n",
       "      <th>unique</th>\n",
       "      <td>17903</td>\n",
       "      <td>17455</td>\n",
       "      <td>6</td>\n",
       "      <td>1681</td>\n",
       "    </tr>\n",
       "    <tr>\n",
       "      <th>top</th>\n",
       "      <td>MEDIA IGNORES Time That Bill Clinton FIRED His FBI Director On Day Before Vince Foster Was Found...</td>\n",
       "      <td></td>\n",
       "      <td>News</td>\n",
       "      <td>May 10, 2017</td>\n",
       "    </tr>\n",
       "    <tr>\n",
       "      <th>freq</th>\n",
       "      <td>6</td>\n",
       "      <td>626</td>\n",
       "      <td>9050</td>\n",
       "      <td>46</td>\n",
       "    </tr>\n",
       "  </tbody>\n",
       "</table>\n",
       "</div>"
      ],
      "text/plain": [
       "                                                                                                      title  \\\n",
       "count                                                                                                 23481   \n",
       "unique                                                                                                17903   \n",
       "top     MEDIA IGNORES Time That Bill Clinton FIRED His FBI Director On Day Before Vince Foster Was Found...   \n",
       "freq                                                                                                      6   \n",
       "\n",
       "         text subject          date  \n",
       "count   23481   23481         23481  \n",
       "unique  17455       6          1681  \n",
       "top              News  May 10, 2017  \n",
       "freq      626    9050            46  "
      ]
     },
     "execution_count": 8,
     "metadata": {},
     "output_type": "execute_result"
    }
   ],
   "source": [
    "fake_news_df.describe()"
   ]
  },
  {
   "cell_type": "code",
   "execution_count": null,
   "id": "d9058a17",
   "metadata": {},
   "outputs": [],
   "source": []
  },
  {
   "cell_type": "markdown",
   "id": "bf2629b7",
   "metadata": {},
   "source": [
    "### (ii.) True News Description"
   ]
  },
  {
   "cell_type": "code",
   "execution_count": 9,
   "id": "eb8e0784",
   "metadata": {},
   "outputs": [
    {
     "data": {
      "text/html": [
       "<div>\n",
       "<style scoped>\n",
       "    .dataframe tbody tr th:only-of-type {\n",
       "        vertical-align: middle;\n",
       "    }\n",
       "\n",
       "    .dataframe tbody tr th {\n",
       "        vertical-align: top;\n",
       "    }\n",
       "\n",
       "    .dataframe thead th {\n",
       "        text-align: right;\n",
       "    }\n",
       "</style>\n",
       "<table border=\"1\" class=\"dataframe\">\n",
       "  <thead>\n",
       "    <tr style=\"text-align: right;\">\n",
       "      <th></th>\n",
       "      <th>title</th>\n",
       "      <th>text</th>\n",
       "      <th>subject</th>\n",
       "      <th>date</th>\n",
       "    </tr>\n",
       "  </thead>\n",
       "  <tbody>\n",
       "    <tr>\n",
       "      <th>count</th>\n",
       "      <td>21417</td>\n",
       "      <td>21417</td>\n",
       "      <td>21417</td>\n",
       "      <td>21417</td>\n",
       "    </tr>\n",
       "    <tr>\n",
       "      <th>unique</th>\n",
       "      <td>20826</td>\n",
       "      <td>21192</td>\n",
       "      <td>2</td>\n",
       "      <td>716</td>\n",
       "    </tr>\n",
       "    <tr>\n",
       "      <th>top</th>\n",
       "      <td>Factbox: Trump fills top jobs for his administration</td>\n",
       "      <td>(Reuters) - Highlights for U.S. President Donald Trump’s administration on Thursday: The United ...</td>\n",
       "      <td>politicsNews</td>\n",
       "      <td>December 20, 2017</td>\n",
       "    </tr>\n",
       "    <tr>\n",
       "      <th>freq</th>\n",
       "      <td>14</td>\n",
       "      <td>8</td>\n",
       "      <td>11272</td>\n",
       "      <td>182</td>\n",
       "    </tr>\n",
       "  </tbody>\n",
       "</table>\n",
       "</div>"
      ],
      "text/plain": [
       "                                                       title  \\\n",
       "count                                                  21417   \n",
       "unique                                                 20826   \n",
       "top     Factbox: Trump fills top jobs for his administration   \n",
       "freq                                                      14   \n",
       "\n",
       "                                                                                                       text  \\\n",
       "count                                                                                                 21417   \n",
       "unique                                                                                                21192   \n",
       "top     (Reuters) - Highlights for U.S. President Donald Trump’s administration on Thursday: The United ...   \n",
       "freq                                                                                                      8   \n",
       "\n",
       "             subject                date  \n",
       "count          21417               21417  \n",
       "unique             2                 716  \n",
       "top     politicsNews  December 20, 2017   \n",
       "freq           11272                 182  "
      ]
     },
     "execution_count": 9,
     "metadata": {},
     "output_type": "execute_result"
    }
   ],
   "source": [
    "true_news_df.describe()"
   ]
  },
  {
   "cell_type": "code",
   "execution_count": null,
   "id": "7af8dc80",
   "metadata": {},
   "outputs": [],
   "source": []
  },
  {
   "cell_type": "markdown",
   "id": "3e8d3804",
   "metadata": {},
   "source": [
    "### (iii.) Unique Subjects "
   ]
  },
  {
   "cell_type": "code",
   "execution_count": 10,
   "id": "89a4be75",
   "metadata": {},
   "outputs": [
    {
     "name": "stdout",
     "output_type": "stream",
     "text": [
      "Fake News Subjects: ['News' 'politics' 'Government News' 'left-news' 'US_News' 'Middle-east']\n",
      "True News Subjects: ['politicsNews' 'worldnews']\n"
     ]
    }
   ],
   "source": [
    "\n",
    "print(\"Fake News Subjects:\", fake_news_df['subject'].unique())\n",
    "print(\"True News Subjects:\", true_news_df['subject'].unique())\n"
   ]
  },
  {
   "cell_type": "code",
   "execution_count": null,
   "id": "7169c995",
   "metadata": {},
   "outputs": [],
   "source": []
  },
  {
   "cell_type": "markdown",
   "id": "b28e251d",
   "metadata": {},
   "source": [
    "### (iv.) Dropping Null Values"
   ]
  },
  {
   "cell_type": "markdown",
   "id": "8bb31976",
   "metadata": {},
   "source": [
    "From below description it is clear that we do not have any null values in the dataset, meaning that feature in each row contains\n",
    "some values."
   ]
  },
  {
   "cell_type": "code",
   "execution_count": 11,
   "id": "f1e52e0f",
   "metadata": {},
   "outputs": [
    {
     "data": {
      "text/plain": [
       "title      0\n",
       "text       0\n",
       "subject    0\n",
       "date       0\n",
       "dtype: int64"
      ]
     },
     "execution_count": 11,
     "metadata": {},
     "output_type": "execute_result"
    }
   ],
   "source": [
    "fake_news_df.isnull().sum()"
   ]
  },
  {
   "cell_type": "code",
   "execution_count": 12,
   "id": "1c5d8df3",
   "metadata": {},
   "outputs": [
    {
     "data": {
      "text/plain": [
       "title      0\n",
       "text       0\n",
       "subject    0\n",
       "date       0\n",
       "dtype: int64"
      ]
     },
     "execution_count": 12,
     "metadata": {},
     "output_type": "execute_result"
    }
   ],
   "source": [
    "true_news_df.isnull().sum()"
   ]
  },
  {
   "cell_type": "markdown",
   "id": "3e14c9a6",
   "metadata": {},
   "source": [
    "### (v.) Droping Duplicate Values"
   ]
  },
  {
   "cell_type": "code",
   "execution_count": 13,
   "id": "a60a202d",
   "metadata": {},
   "outputs": [
    {
     "data": {
      "text/html": [
       "<div>\n",
       "<style scoped>\n",
       "    .dataframe tbody tr th:only-of-type {\n",
       "        vertical-align: middle;\n",
       "    }\n",
       "\n",
       "    .dataframe tbody tr th {\n",
       "        vertical-align: top;\n",
       "    }\n",
       "\n",
       "    .dataframe thead th {\n",
       "        text-align: right;\n",
       "    }\n",
       "</style>\n",
       "<table border=\"1\" class=\"dataframe\">\n",
       "  <thead>\n",
       "    <tr style=\"text-align: right;\">\n",
       "      <th></th>\n",
       "      <th>title</th>\n",
       "      <th>text</th>\n",
       "      <th>subject</th>\n",
       "      <th>date</th>\n",
       "    </tr>\n",
       "  </thead>\n",
       "  <tbody>\n",
       "    <tr>\n",
       "      <th>0</th>\n",
       "      <td>Donald Trump Sends Out Embarrassing New Year’s Eve Message; This is Disturbing</td>\n",
       "      <td>Donald Trump just couldn t wish all Americans a Happy New Year and leave it at that. Instead, he...</td>\n",
       "      <td>News</td>\n",
       "      <td>December 31, 2017</td>\n",
       "    </tr>\n",
       "    <tr>\n",
       "      <th>1</th>\n",
       "      <td>Drunk Bragging Trump Staffer Started Russian Collusion Investigation</td>\n",
       "      <td>House Intelligence Committee Chairman Devin Nunes is going to have a bad day. He s been under th...</td>\n",
       "      <td>News</td>\n",
       "      <td>December 31, 2017</td>\n",
       "    </tr>\n",
       "    <tr>\n",
       "      <th>2</th>\n",
       "      <td>Sheriff David Clarke Becomes An Internet Joke For Threatening To Poke People ‘In The Eye’</td>\n",
       "      <td>On Friday, it was revealed that former Milwaukee Sheriff David Clarke, who was being considered ...</td>\n",
       "      <td>News</td>\n",
       "      <td>December 30, 2017</td>\n",
       "    </tr>\n",
       "    <tr>\n",
       "      <th>3</th>\n",
       "      <td>Trump Is So Obsessed He Even Has Obama’s Name Coded Into His Website (IMAGES)</td>\n",
       "      <td>On Christmas day, Donald Trump announced that he would  be back to work  the following day, but ...</td>\n",
       "      <td>News</td>\n",
       "      <td>December 29, 2017</td>\n",
       "    </tr>\n",
       "    <tr>\n",
       "      <th>4</th>\n",
       "      <td>Pope Francis Just Called Out Donald Trump During His Christmas Speech</td>\n",
       "      <td>Pope Francis used his annual Christmas Day message to rebuke Donald Trump without even mentionin...</td>\n",
       "      <td>News</td>\n",
       "      <td>December 25, 2017</td>\n",
       "    </tr>\n",
       "    <tr>\n",
       "      <th>...</th>\n",
       "      <td>...</td>\n",
       "      <td>...</td>\n",
       "      <td>...</td>\n",
       "      <td>...</td>\n",
       "    </tr>\n",
       "    <tr>\n",
       "      <th>23476</th>\n",
       "      <td>McPain: John McCain Furious That Iran Treated US Sailors Well</td>\n",
       "      <td>21st Century Wire says As 21WIRE reported earlier this week, the unlikely  mishap  of two US Nav...</td>\n",
       "      <td>Middle-east</td>\n",
       "      <td>January 16, 2016</td>\n",
       "    </tr>\n",
       "    <tr>\n",
       "      <th>23477</th>\n",
       "      <td>JUSTICE? Yahoo Settles E-mail Privacy Class-action: $4M for Lawyers, $0 for Users</td>\n",
       "      <td>21st Century Wire says It s a familiar theme. Whenever there is a dispute or a change of law, an...</td>\n",
       "      <td>Middle-east</td>\n",
       "      <td>January 16, 2016</td>\n",
       "    </tr>\n",
       "    <tr>\n",
       "      <th>23478</th>\n",
       "      <td>Sunnistan: US and Allied ‘Safe Zone’ Plan to Take Territorial Booty in Northern Syria</td>\n",
       "      <td>Patrick Henningsen  21st Century WireRemember when the Obama Administration told the world how i...</td>\n",
       "      <td>Middle-east</td>\n",
       "      <td>January 15, 2016</td>\n",
       "    </tr>\n",
       "    <tr>\n",
       "      <th>23479</th>\n",
       "      <td>How to Blow $700 Million: Al Jazeera America Finally Calls it Quits</td>\n",
       "      <td>21st Century Wire says Al Jazeera America will go down in history as one of the biggest failures...</td>\n",
       "      <td>Middle-east</td>\n",
       "      <td>January 14, 2016</td>\n",
       "    </tr>\n",
       "    <tr>\n",
       "      <th>23480</th>\n",
       "      <td>10 U.S. Navy Sailors Held by Iranian Military – Signs of a Neocon Political Stunt</td>\n",
       "      <td>21st Century Wire says As 21WIRE predicted in its new year s look ahead, we have a new  hostage ...</td>\n",
       "      <td>Middle-east</td>\n",
       "      <td>January 12, 2016</td>\n",
       "    </tr>\n",
       "  </tbody>\n",
       "</table>\n",
       "<p>23478 rows × 4 columns</p>\n",
       "</div>"
      ],
      "text/plain": [
       "                                                                                            title  \\\n",
       "0                  Donald Trump Sends Out Embarrassing New Year’s Eve Message; This is Disturbing   \n",
       "1                            Drunk Bragging Trump Staffer Started Russian Collusion Investigation   \n",
       "2       Sheriff David Clarke Becomes An Internet Joke For Threatening To Poke People ‘In The Eye’   \n",
       "3                   Trump Is So Obsessed He Even Has Obama’s Name Coded Into His Website (IMAGES)   \n",
       "4                           Pope Francis Just Called Out Donald Trump During His Christmas Speech   \n",
       "...                                                                                           ...   \n",
       "23476                               McPain: John McCain Furious That Iran Treated US Sailors Well   \n",
       "23477           JUSTICE? Yahoo Settles E-mail Privacy Class-action: $4M for Lawyers, $0 for Users   \n",
       "23478       Sunnistan: US and Allied ‘Safe Zone’ Plan to Take Territorial Booty in Northern Syria   \n",
       "23479                         How to Blow $700 Million: Al Jazeera America Finally Calls it Quits   \n",
       "23480           10 U.S. Navy Sailors Held by Iranian Military – Signs of a Neocon Political Stunt   \n",
       "\n",
       "                                                                                                      text  \\\n",
       "0      Donald Trump just couldn t wish all Americans a Happy New Year and leave it at that. Instead, he...   \n",
       "1      House Intelligence Committee Chairman Devin Nunes is going to have a bad day. He s been under th...   \n",
       "2      On Friday, it was revealed that former Milwaukee Sheriff David Clarke, who was being considered ...   \n",
       "3      On Christmas day, Donald Trump announced that he would  be back to work  the following day, but ...   \n",
       "4      Pope Francis used his annual Christmas Day message to rebuke Donald Trump without even mentionin...   \n",
       "...                                                                                                    ...   \n",
       "23476  21st Century Wire says As 21WIRE reported earlier this week, the unlikely  mishap  of two US Nav...   \n",
       "23477  21st Century Wire says It s a familiar theme. Whenever there is a dispute or a change of law, an...   \n",
       "23478  Patrick Henningsen  21st Century WireRemember when the Obama Administration told the world how i...   \n",
       "23479  21st Century Wire says Al Jazeera America will go down in history as one of the biggest failures...   \n",
       "23480  21st Century Wire says As 21WIRE predicted in its new year s look ahead, we have a new  hostage ...   \n",
       "\n",
       "           subject               date  \n",
       "0             News  December 31, 2017  \n",
       "1             News  December 31, 2017  \n",
       "2             News  December 30, 2017  \n",
       "3             News  December 29, 2017  \n",
       "4             News  December 25, 2017  \n",
       "...            ...                ...  \n",
       "23476  Middle-east   January 16, 2016  \n",
       "23477  Middle-east   January 16, 2016  \n",
       "23478  Middle-east   January 15, 2016  \n",
       "23479  Middle-east   January 14, 2016  \n",
       "23480  Middle-east   January 12, 2016  \n",
       "\n",
       "[23478 rows x 4 columns]"
      ]
     },
     "execution_count": 13,
     "metadata": {},
     "output_type": "execute_result"
    }
   ],
   "source": [
    "fake_news_df.drop_duplicates()"
   ]
  },
  {
   "cell_type": "code",
   "execution_count": 14,
   "id": "ebaf5a4f",
   "metadata": {},
   "outputs": [
    {
     "data": {
      "text/html": [
       "<div>\n",
       "<style scoped>\n",
       "    .dataframe tbody tr th:only-of-type {\n",
       "        vertical-align: middle;\n",
       "    }\n",
       "\n",
       "    .dataframe tbody tr th {\n",
       "        vertical-align: top;\n",
       "    }\n",
       "\n",
       "    .dataframe thead th {\n",
       "        text-align: right;\n",
       "    }\n",
       "</style>\n",
       "<table border=\"1\" class=\"dataframe\">\n",
       "  <thead>\n",
       "    <tr style=\"text-align: right;\">\n",
       "      <th></th>\n",
       "      <th>title</th>\n",
       "      <th>text</th>\n",
       "      <th>subject</th>\n",
       "      <th>date</th>\n",
       "    </tr>\n",
       "  </thead>\n",
       "  <tbody>\n",
       "    <tr>\n",
       "      <th>0</th>\n",
       "      <td>As U.S. budget fight looms, Republicans flip their fiscal script</td>\n",
       "      <td>WASHINGTON (Reuters) - The head of a conservative Republican faction in the U.S. Congress, who v...</td>\n",
       "      <td>politicsNews</td>\n",
       "      <td>December 31, 2017</td>\n",
       "    </tr>\n",
       "    <tr>\n",
       "      <th>1</th>\n",
       "      <td>U.S. military to accept transgender recruits on Monday: Pentagon</td>\n",
       "      <td>WASHINGTON (Reuters) - Transgender people will be allowed for the first time to enlist in the U....</td>\n",
       "      <td>politicsNews</td>\n",
       "      <td>December 29, 2017</td>\n",
       "    </tr>\n",
       "    <tr>\n",
       "      <th>2</th>\n",
       "      <td>Senior U.S. Republican senator: 'Let Mr. Mueller do his job'</td>\n",
       "      <td>WASHINGTON (Reuters) - The special counsel investigation of links between Russia and President T...</td>\n",
       "      <td>politicsNews</td>\n",
       "      <td>December 31, 2017</td>\n",
       "    </tr>\n",
       "    <tr>\n",
       "      <th>3</th>\n",
       "      <td>FBI Russia probe helped by Australian diplomat tip-off: NYT</td>\n",
       "      <td>WASHINGTON (Reuters) - Trump campaign adviser George Papadopoulos told an Australian diplomat in...</td>\n",
       "      <td>politicsNews</td>\n",
       "      <td>December 30, 2017</td>\n",
       "    </tr>\n",
       "    <tr>\n",
       "      <th>4</th>\n",
       "      <td>Trump wants Postal Service to charge 'much more' for Amazon shipments</td>\n",
       "      <td>SEATTLE/WASHINGTON (Reuters) - President Donald Trump called on the U.S. Postal Service on Frida...</td>\n",
       "      <td>politicsNews</td>\n",
       "      <td>December 29, 2017</td>\n",
       "    </tr>\n",
       "    <tr>\n",
       "      <th>...</th>\n",
       "      <td>...</td>\n",
       "      <td>...</td>\n",
       "      <td>...</td>\n",
       "      <td>...</td>\n",
       "    </tr>\n",
       "    <tr>\n",
       "      <th>21412</th>\n",
       "      <td>'Fully committed' NATO backs new U.S. approach on Afghanistan</td>\n",
       "      <td>BRUSSELS (Reuters) - NATO allies on Tuesday welcomed President Donald Trump s decision to commit...</td>\n",
       "      <td>worldnews</td>\n",
       "      <td>August 22, 2017</td>\n",
       "    </tr>\n",
       "    <tr>\n",
       "      <th>21413</th>\n",
       "      <td>LexisNexis withdrew two products from Chinese market</td>\n",
       "      <td>LONDON (Reuters) - LexisNexis, a provider of legal, regulatory and business information, said on...</td>\n",
       "      <td>worldnews</td>\n",
       "      <td>August 22, 2017</td>\n",
       "    </tr>\n",
       "    <tr>\n",
       "      <th>21414</th>\n",
       "      <td>Minsk cultural hub becomes haven from authorities</td>\n",
       "      <td>MINSK (Reuters) - In the shadow of disused Soviet-era factories in Minsk, a street lined with ec...</td>\n",
       "      <td>worldnews</td>\n",
       "      <td>August 22, 2017</td>\n",
       "    </tr>\n",
       "    <tr>\n",
       "      <th>21415</th>\n",
       "      <td>Vatican upbeat on possibility of Pope Francis visiting Russia</td>\n",
       "      <td>MOSCOW (Reuters) - Vatican Secretary of State Cardinal Pietro Parolin said on Tuesday that there...</td>\n",
       "      <td>worldnews</td>\n",
       "      <td>August 22, 2017</td>\n",
       "    </tr>\n",
       "    <tr>\n",
       "      <th>21416</th>\n",
       "      <td>Indonesia to buy $1.14 billion worth of Russian jets</td>\n",
       "      <td>JAKARTA (Reuters) - Indonesia will buy 11 Sukhoi fighter jets worth $1.14 billion from Russia in...</td>\n",
       "      <td>worldnews</td>\n",
       "      <td>August 22, 2017</td>\n",
       "    </tr>\n",
       "  </tbody>\n",
       "</table>\n",
       "<p>21211 rows × 4 columns</p>\n",
       "</div>"
      ],
      "text/plain": [
       "                                                                       title  \\\n",
       "0           As U.S. budget fight looms, Republicans flip their fiscal script   \n",
       "1           U.S. military to accept transgender recruits on Monday: Pentagon   \n",
       "2               Senior U.S. Republican senator: 'Let Mr. Mueller do his job'   \n",
       "3                FBI Russia probe helped by Australian diplomat tip-off: NYT   \n",
       "4      Trump wants Postal Service to charge 'much more' for Amazon shipments   \n",
       "...                                                                      ...   \n",
       "21412          'Fully committed' NATO backs new U.S. approach on Afghanistan   \n",
       "21413                   LexisNexis withdrew two products from Chinese market   \n",
       "21414                      Minsk cultural hub becomes haven from authorities   \n",
       "21415          Vatican upbeat on possibility of Pope Francis visiting Russia   \n",
       "21416                   Indonesia to buy $1.14 billion worth of Russian jets   \n",
       "\n",
       "                                                                                                      text  \\\n",
       "0      WASHINGTON (Reuters) - The head of a conservative Republican faction in the U.S. Congress, who v...   \n",
       "1      WASHINGTON (Reuters) - Transgender people will be allowed for the first time to enlist in the U....   \n",
       "2      WASHINGTON (Reuters) - The special counsel investigation of links between Russia and President T...   \n",
       "3      WASHINGTON (Reuters) - Trump campaign adviser George Papadopoulos told an Australian diplomat in...   \n",
       "4      SEATTLE/WASHINGTON (Reuters) - President Donald Trump called on the U.S. Postal Service on Frida...   \n",
       "...                                                                                                    ...   \n",
       "21412  BRUSSELS (Reuters) - NATO allies on Tuesday welcomed President Donald Trump s decision to commit...   \n",
       "21413  LONDON (Reuters) - LexisNexis, a provider of legal, regulatory and business information, said on...   \n",
       "21414  MINSK (Reuters) - In the shadow of disused Soviet-era factories in Minsk, a street lined with ec...   \n",
       "21415  MOSCOW (Reuters) - Vatican Secretary of State Cardinal Pietro Parolin said on Tuesday that there...   \n",
       "21416  JAKARTA (Reuters) - Indonesia will buy 11 Sukhoi fighter jets worth $1.14 billion from Russia in...   \n",
       "\n",
       "            subject                date  \n",
       "0      politicsNews  December 31, 2017   \n",
       "1      politicsNews  December 29, 2017   \n",
       "2      politicsNews  December 31, 2017   \n",
       "3      politicsNews  December 30, 2017   \n",
       "4      politicsNews  December 29, 2017   \n",
       "...             ...                 ...  \n",
       "21412     worldnews    August 22, 2017   \n",
       "21413     worldnews    August 22, 2017   \n",
       "21414     worldnews    August 22, 2017   \n",
       "21415     worldnews    August 22, 2017   \n",
       "21416     worldnews    August 22, 2017   \n",
       "\n",
       "[21211 rows x 4 columns]"
      ]
     },
     "execution_count": 14,
     "metadata": {},
     "output_type": "execute_result"
    }
   ],
   "source": [
    "duplicates = true_news_df.drop_duplicates()\n",
    "\n",
    "duplicates"
   ]
  },
  {
   "cell_type": "markdown",
   "id": "059c7a6a",
   "metadata": {},
   "source": [
    "## 3. Adding Lables to Fake_News and True_News Datasets"
   ]
  },
  {
   "cell_type": "code",
   "execution_count": 15,
   "id": "b6217a23",
   "metadata": {},
   "outputs": [],
   "source": [
    "fake_news_df['label'] = 0\n",
    "true_news_df['label'] = 1"
   ]
  },
  {
   "cell_type": "code",
   "execution_count": 16,
   "id": "cecb6ea7",
   "metadata": {},
   "outputs": [
    {
     "data": {
      "text/html": [
       "<div>\n",
       "<style scoped>\n",
       "    .dataframe tbody tr th:only-of-type {\n",
       "        vertical-align: middle;\n",
       "    }\n",
       "\n",
       "    .dataframe tbody tr th {\n",
       "        vertical-align: top;\n",
       "    }\n",
       "\n",
       "    .dataframe thead th {\n",
       "        text-align: right;\n",
       "    }\n",
       "</style>\n",
       "<table border=\"1\" class=\"dataframe\">\n",
       "  <thead>\n",
       "    <tr style=\"text-align: right;\">\n",
       "      <th></th>\n",
       "      <th>title</th>\n",
       "      <th>text</th>\n",
       "      <th>subject</th>\n",
       "      <th>date</th>\n",
       "      <th>label</th>\n",
       "    </tr>\n",
       "  </thead>\n",
       "  <tbody>\n",
       "    <tr>\n",
       "      <th>0</th>\n",
       "      <td>Donald Trump Sends Out Embarrassing New Year’s Eve Message; This is Disturbing</td>\n",
       "      <td>Donald Trump just couldn t wish all Americans a Happy New Year and leave it at that. Instead, he...</td>\n",
       "      <td>News</td>\n",
       "      <td>December 31, 2017</td>\n",
       "      <td>0</td>\n",
       "    </tr>\n",
       "    <tr>\n",
       "      <th>1</th>\n",
       "      <td>Drunk Bragging Trump Staffer Started Russian Collusion Investigation</td>\n",
       "      <td>House Intelligence Committee Chairman Devin Nunes is going to have a bad day. He s been under th...</td>\n",
       "      <td>News</td>\n",
       "      <td>December 31, 2017</td>\n",
       "      <td>0</td>\n",
       "    </tr>\n",
       "    <tr>\n",
       "      <th>2</th>\n",
       "      <td>Sheriff David Clarke Becomes An Internet Joke For Threatening To Poke People ‘In The Eye’</td>\n",
       "      <td>On Friday, it was revealed that former Milwaukee Sheriff David Clarke, who was being considered ...</td>\n",
       "      <td>News</td>\n",
       "      <td>December 30, 2017</td>\n",
       "      <td>0</td>\n",
       "    </tr>\n",
       "    <tr>\n",
       "      <th>3</th>\n",
       "      <td>Trump Is So Obsessed He Even Has Obama’s Name Coded Into His Website (IMAGES)</td>\n",
       "      <td>On Christmas day, Donald Trump announced that he would  be back to work  the following day, but ...</td>\n",
       "      <td>News</td>\n",
       "      <td>December 29, 2017</td>\n",
       "      <td>0</td>\n",
       "    </tr>\n",
       "    <tr>\n",
       "      <th>4</th>\n",
       "      <td>Pope Francis Just Called Out Donald Trump During His Christmas Speech</td>\n",
       "      <td>Pope Francis used his annual Christmas Day message to rebuke Donald Trump without even mentionin...</td>\n",
       "      <td>News</td>\n",
       "      <td>December 25, 2017</td>\n",
       "      <td>0</td>\n",
       "    </tr>\n",
       "  </tbody>\n",
       "</table>\n",
       "</div>"
      ],
      "text/plain": [
       "                                                                                        title  \\\n",
       "0              Donald Trump Sends Out Embarrassing New Year’s Eve Message; This is Disturbing   \n",
       "1                        Drunk Bragging Trump Staffer Started Russian Collusion Investigation   \n",
       "2   Sheriff David Clarke Becomes An Internet Joke For Threatening To Poke People ‘In The Eye’   \n",
       "3               Trump Is So Obsessed He Even Has Obama’s Name Coded Into His Website (IMAGES)   \n",
       "4                       Pope Francis Just Called Out Donald Trump During His Christmas Speech   \n",
       "\n",
       "                                                                                                  text  \\\n",
       "0  Donald Trump just couldn t wish all Americans a Happy New Year and leave it at that. Instead, he...   \n",
       "1  House Intelligence Committee Chairman Devin Nunes is going to have a bad day. He s been under th...   \n",
       "2  On Friday, it was revealed that former Milwaukee Sheriff David Clarke, who was being considered ...   \n",
       "3  On Christmas day, Donald Trump announced that he would  be back to work  the following day, but ...   \n",
       "4  Pope Francis used his annual Christmas Day message to rebuke Donald Trump without even mentionin...   \n",
       "\n",
       "  subject               date  label  \n",
       "0    News  December 31, 2017      0  \n",
       "1    News  December 31, 2017      0  \n",
       "2    News  December 30, 2017      0  \n",
       "3    News  December 29, 2017      0  \n",
       "4    News  December 25, 2017      0  "
      ]
     },
     "execution_count": 16,
     "metadata": {},
     "output_type": "execute_result"
    }
   ],
   "source": [
    "fake_news_df.head()"
   ]
  },
  {
   "cell_type": "code",
   "execution_count": 17,
   "id": "390c804e",
   "metadata": {},
   "outputs": [
    {
     "data": {
      "text/html": [
       "<div>\n",
       "<style scoped>\n",
       "    .dataframe tbody tr th:only-of-type {\n",
       "        vertical-align: middle;\n",
       "    }\n",
       "\n",
       "    .dataframe tbody tr th {\n",
       "        vertical-align: top;\n",
       "    }\n",
       "\n",
       "    .dataframe thead th {\n",
       "        text-align: right;\n",
       "    }\n",
       "</style>\n",
       "<table border=\"1\" class=\"dataframe\">\n",
       "  <thead>\n",
       "    <tr style=\"text-align: right;\">\n",
       "      <th></th>\n",
       "      <th>title</th>\n",
       "      <th>text</th>\n",
       "      <th>subject</th>\n",
       "      <th>date</th>\n",
       "      <th>label</th>\n",
       "    </tr>\n",
       "  </thead>\n",
       "  <tbody>\n",
       "    <tr>\n",
       "      <th>0</th>\n",
       "      <td>As U.S. budget fight looms, Republicans flip their fiscal script</td>\n",
       "      <td>WASHINGTON (Reuters) - The head of a conservative Republican faction in the U.S. Congress, who v...</td>\n",
       "      <td>politicsNews</td>\n",
       "      <td>December 31, 2017</td>\n",
       "      <td>1</td>\n",
       "    </tr>\n",
       "    <tr>\n",
       "      <th>1</th>\n",
       "      <td>U.S. military to accept transgender recruits on Monday: Pentagon</td>\n",
       "      <td>WASHINGTON (Reuters) - Transgender people will be allowed for the first time to enlist in the U....</td>\n",
       "      <td>politicsNews</td>\n",
       "      <td>December 29, 2017</td>\n",
       "      <td>1</td>\n",
       "    </tr>\n",
       "    <tr>\n",
       "      <th>2</th>\n",
       "      <td>Senior U.S. Republican senator: 'Let Mr. Mueller do his job'</td>\n",
       "      <td>WASHINGTON (Reuters) - The special counsel investigation of links between Russia and President T...</td>\n",
       "      <td>politicsNews</td>\n",
       "      <td>December 31, 2017</td>\n",
       "      <td>1</td>\n",
       "    </tr>\n",
       "    <tr>\n",
       "      <th>3</th>\n",
       "      <td>FBI Russia probe helped by Australian diplomat tip-off: NYT</td>\n",
       "      <td>WASHINGTON (Reuters) - Trump campaign adviser George Papadopoulos told an Australian diplomat in...</td>\n",
       "      <td>politicsNews</td>\n",
       "      <td>December 30, 2017</td>\n",
       "      <td>1</td>\n",
       "    </tr>\n",
       "    <tr>\n",
       "      <th>4</th>\n",
       "      <td>Trump wants Postal Service to charge 'much more' for Amazon shipments</td>\n",
       "      <td>SEATTLE/WASHINGTON (Reuters) - President Donald Trump called on the U.S. Postal Service on Frida...</td>\n",
       "      <td>politicsNews</td>\n",
       "      <td>December 29, 2017</td>\n",
       "      <td>1</td>\n",
       "    </tr>\n",
       "  </tbody>\n",
       "</table>\n",
       "</div>"
      ],
      "text/plain": [
       "                                                                   title  \\\n",
       "0       As U.S. budget fight looms, Republicans flip their fiscal script   \n",
       "1       U.S. military to accept transgender recruits on Monday: Pentagon   \n",
       "2           Senior U.S. Republican senator: 'Let Mr. Mueller do his job'   \n",
       "3            FBI Russia probe helped by Australian diplomat tip-off: NYT   \n",
       "4  Trump wants Postal Service to charge 'much more' for Amazon shipments   \n",
       "\n",
       "                                                                                                  text  \\\n",
       "0  WASHINGTON (Reuters) - The head of a conservative Republican faction in the U.S. Congress, who v...   \n",
       "1  WASHINGTON (Reuters) - Transgender people will be allowed for the first time to enlist in the U....   \n",
       "2  WASHINGTON (Reuters) - The special counsel investigation of links between Russia and President T...   \n",
       "3  WASHINGTON (Reuters) - Trump campaign adviser George Papadopoulos told an Australian diplomat in...   \n",
       "4  SEATTLE/WASHINGTON (Reuters) - President Donald Trump called on the U.S. Postal Service on Frida...   \n",
       "\n",
       "        subject                date  label  \n",
       "0  politicsNews  December 31, 2017       1  \n",
       "1  politicsNews  December 29, 2017       1  \n",
       "2  politicsNews  December 31, 2017       1  \n",
       "3  politicsNews  December 30, 2017       1  \n",
       "4  politicsNews  December 29, 2017       1  "
      ]
     },
     "execution_count": 17,
     "metadata": {},
     "output_type": "execute_result"
    }
   ],
   "source": [
    "true_news_df.head()"
   ]
  },
  {
   "cell_type": "code",
   "execution_count": null,
   "id": "eb77374c",
   "metadata": {},
   "outputs": [],
   "source": []
  },
  {
   "cell_type": "markdown",
   "id": "3347774e",
   "metadata": {},
   "source": [
    "## 4. Concating both the Data-Framses to make a single Dataset (Final_News)"
   ]
  },
  {
   "cell_type": "code",
   "execution_count": 18,
   "id": "ab0dfed7",
   "metadata": {},
   "outputs": [],
   "source": [
    "final_news_df = pd.concat([fake_news_df, true_news_df], axis = 0)"
   ]
  },
  {
   "cell_type": "code",
   "execution_count": 19,
   "id": "a994d6b6",
   "metadata": {},
   "outputs": [],
   "source": [
    "final_news_df = final_news_df.sample(frac= 1)"
   ]
  },
  {
   "cell_type": "code",
   "execution_count": 20,
   "id": "b593c5b2",
   "metadata": {},
   "outputs": [],
   "source": [
    "final_news_df.reset_index(inplace= True)"
   ]
  },
  {
   "cell_type": "code",
   "execution_count": 21,
   "id": "c3ce6268",
   "metadata": {},
   "outputs": [],
   "source": [
    "final_news_df.drop(final_news_df.columns[0], axis=1, inplace= True)"
   ]
  },
  {
   "cell_type": "code",
   "execution_count": 22,
   "id": "7e1f0b68",
   "metadata": {},
   "outputs": [
    {
     "data": {
      "text/html": [
       "<div>\n",
       "<style scoped>\n",
       "    .dataframe tbody tr th:only-of-type {\n",
       "        vertical-align: middle;\n",
       "    }\n",
       "\n",
       "    .dataframe tbody tr th {\n",
       "        vertical-align: top;\n",
       "    }\n",
       "\n",
       "    .dataframe thead th {\n",
       "        text-align: right;\n",
       "    }\n",
       "</style>\n",
       "<table border=\"1\" class=\"dataframe\">\n",
       "  <thead>\n",
       "    <tr style=\"text-align: right;\">\n",
       "      <th></th>\n",
       "      <th>title</th>\n",
       "      <th>text</th>\n",
       "      <th>subject</th>\n",
       "      <th>date</th>\n",
       "      <th>label</th>\n",
       "    </tr>\n",
       "  </thead>\n",
       "  <tbody>\n",
       "    <tr>\n",
       "      <th>0</th>\n",
       "      <td>Trump Spokeswoman Slips Up, Says Trump’s Immigration Plan Won’t Work (VIDEO)</td>\n",
       "      <td>We are all getting whiplash from Donald Trump s constant flip-flopping on his immigration policy...</td>\n",
       "      <td>News</td>\n",
       "      <td>September 6, 2016</td>\n",
       "      <td>0</td>\n",
       "    </tr>\n",
       "    <tr>\n",
       "      <th>1</th>\n",
       "      <td>Kansas is latest U.S. state to challenge Obama transgender directive</td>\n",
       "      <td>(Reuters) - Kansas vowed on Wednesday to sue the Obama administration over a directive telling U...</td>\n",
       "      <td>politicsNews</td>\n",
       "      <td>June 1, 2016</td>\n",
       "      <td>1</td>\n",
       "    </tr>\n",
       "    <tr>\n",
       "      <th>2</th>\n",
       "      <td>Saviors or profiteers? Bangladesh fishermen rescue Rohingya, for a price</td>\n",
       "      <td>SHAMLAPUR, Bangladesh (Reuters) - For tens of thousands of Rohingya Muslims, an informal fleet o...</td>\n",
       "      <td>worldnews</td>\n",
       "      <td>September 15, 2017</td>\n",
       "      <td>1</td>\n",
       "    </tr>\n",
       "    <tr>\n",
       "      <th>3</th>\n",
       "      <td>Spain aims to avoid economic damage to Catalonia through direct rule: PM</td>\n",
       "      <td>MADRID (Reuters) - Spain s central government aims to avoid further economic damage to the wealt...</td>\n",
       "      <td>worldnews</td>\n",
       "      <td>October 25, 2017</td>\n",
       "      <td>1</td>\n",
       "    </tr>\n",
       "    <tr>\n",
       "      <th>4</th>\n",
       "      <td>Venezuela says debt refinancing under way, S&amp;P calls selective default</td>\n",
       "      <td>CARACAS/NEW YORK (Reuters) - Venezuela s cash-strapped government insisted it had successfully b...</td>\n",
       "      <td>worldnews</td>\n",
       "      <td>November 14, 2017</td>\n",
       "      <td>1</td>\n",
       "    </tr>\n",
       "    <tr>\n",
       "      <th>...</th>\n",
       "      <td>...</td>\n",
       "      <td>...</td>\n",
       "      <td>...</td>\n",
       "      <td>...</td>\n",
       "      <td>...</td>\n",
       "    </tr>\n",
       "    <tr>\n",
       "      <th>44893</th>\n",
       "      <td>Trump, Fox News Push ‘World War’ After Attack In Nice, France (VIDEO)</td>\n",
       "      <td>Fox News Channel host Bill O Reilly and Republican presidential nominee believe that the horrifi...</td>\n",
       "      <td>News</td>\n",
       "      <td>July 14, 2016</td>\n",
       "      <td>0</td>\n",
       "    </tr>\n",
       "    <tr>\n",
       "      <th>44894</th>\n",
       "      <td>Virginia governor says confident campaign donor was legitimate</td>\n",
       "      <td>WASHINGTON (Reuters) - Terry McAuliffe, Virginia’s Democratic governor, said on Tuesday said he ...</td>\n",
       "      <td>politicsNews</td>\n",
       "      <td>May 23, 2016</td>\n",
       "      <td>1</td>\n",
       "    </tr>\n",
       "    <tr>\n",
       "      <th>44895</th>\n",
       "      <td>Trump visit could be 'turning point' on North Korea policy, says Moon</td>\n",
       "      <td>SEOUL (Reuters) - South Korea President Moon Jae-in said he hoped a visit by U.S President Donal...</td>\n",
       "      <td>worldnews</td>\n",
       "      <td>November 7, 2017</td>\n",
       "      <td>1</td>\n",
       "    </tr>\n",
       "    <tr>\n",
       "      <th>44896</th>\n",
       "      <td>WATCH: INDOCTRINATED COLLEGE STUDENTS Are Stunned By Ugly Truth About Hillary: “Which candidate ...</td>\n",
       "      <td>Would Hillary s  every day Americans  answer these questions the same way as these indoctrinated...</td>\n",
       "      <td>politics</td>\n",
       "      <td>Jun 23, 2016</td>\n",
       "      <td>0</td>\n",
       "    </tr>\n",
       "    <tr>\n",
       "      <th>44897</th>\n",
       "      <td>Guantanamo shrinking but Obama goal of closing prison still elusive</td>\n",
       "      <td>GUANTANAMO BAY U.S. NAVAL BASE, Cuba (Reuters) - Observed from behind a one-way mirror and heavy...</td>\n",
       "      <td>politicsNews</td>\n",
       "      <td>April 21, 2016</td>\n",
       "      <td>1</td>\n",
       "    </tr>\n",
       "  </tbody>\n",
       "</table>\n",
       "<p>44898 rows × 5 columns</p>\n",
       "</div>"
      ],
      "text/plain": [
       "                                                                                                     title  \\\n",
       "0                             Trump Spokeswoman Slips Up, Says Trump’s Immigration Plan Won’t Work (VIDEO)   \n",
       "1                                     Kansas is latest U.S. state to challenge Obama transgender directive   \n",
       "2                                 Saviors or profiteers? Bangladesh fishermen rescue Rohingya, for a price   \n",
       "3                                 Spain aims to avoid economic damage to Catalonia through direct rule: PM   \n",
       "4                                   Venezuela says debt refinancing under way, S&P calls selective default   \n",
       "...                                                                                                    ...   \n",
       "44893                                Trump, Fox News Push ‘World War’ After Attack In Nice, France (VIDEO)   \n",
       "44894                                       Virginia governor says confident campaign donor was legitimate   \n",
       "44895                                Trump visit could be 'turning point' on North Korea policy, says Moon   \n",
       "44896  WATCH: INDOCTRINATED COLLEGE STUDENTS Are Stunned By Ugly Truth About Hillary: “Which candidate ...   \n",
       "44897                                  Guantanamo shrinking but Obama goal of closing prison still elusive   \n",
       "\n",
       "                                                                                                      text  \\\n",
       "0      We are all getting whiplash from Donald Trump s constant flip-flopping on his immigration policy...   \n",
       "1      (Reuters) - Kansas vowed on Wednesday to sue the Obama administration over a directive telling U...   \n",
       "2      SHAMLAPUR, Bangladesh (Reuters) - For tens of thousands of Rohingya Muslims, an informal fleet o...   \n",
       "3      MADRID (Reuters) - Spain s central government aims to avoid further economic damage to the wealt...   \n",
       "4      CARACAS/NEW YORK (Reuters) - Venezuela s cash-strapped government insisted it had successfully b...   \n",
       "...                                                                                                    ...   \n",
       "44893  Fox News Channel host Bill O Reilly and Republican presidential nominee believe that the horrifi...   \n",
       "44894  WASHINGTON (Reuters) - Terry McAuliffe, Virginia’s Democratic governor, said on Tuesday said he ...   \n",
       "44895  SEOUL (Reuters) - South Korea President Moon Jae-in said he hoped a visit by U.S President Donal...   \n",
       "44896  Would Hillary s  every day Americans  answer these questions the same way as these indoctrinated...   \n",
       "44897  GUANTANAMO BAY U.S. NAVAL BASE, Cuba (Reuters) - Observed from behind a one-way mirror and heavy...   \n",
       "\n",
       "            subject                 date  label  \n",
       "0              News    September 6, 2016      0  \n",
       "1      politicsNews        June 1, 2016       1  \n",
       "2         worldnews  September 15, 2017       1  \n",
       "3         worldnews    October 25, 2017       1  \n",
       "4         worldnews   November 14, 2017       1  \n",
       "...             ...                  ...    ...  \n",
       "44893          News        July 14, 2016      0  \n",
       "44894  politicsNews        May 23, 2016       1  \n",
       "44895     worldnews    November 7, 2017       1  \n",
       "44896      politics         Jun 23, 2016      0  \n",
       "44897  politicsNews      April 21, 2016       1  \n",
       "\n",
       "[44898 rows x 5 columns]"
      ]
     },
     "execution_count": 22,
     "metadata": {},
     "output_type": "execute_result"
    }
   ],
   "source": [
    "final_news_df"
   ]
  },
  {
   "cell_type": "code",
   "execution_count": null,
   "id": "2b1f7dad",
   "metadata": {},
   "outputs": [],
   "source": []
  },
  {
   "cell_type": "markdown",
   "id": "f3404a02",
   "metadata": {},
   "source": [
    "## 5. Feature Engineering"
   ]
  },
  {
   "cell_type": "code",
   "execution_count": 23,
   "id": "d5d2873e",
   "metadata": {},
   "outputs": [],
   "source": [
    "import string\n",
    "from nltk.tokenize import word_tokenize\n",
    "import re\n",
    "import nltk\n",
    "from nltk.corpus import stopwords"
   ]
  },
  {
   "cell_type": "markdown",
   "id": "4d390d5d",
   "metadata": {},
   "source": [
    "### (i.) Punctuation_count"
   ]
  },
  {
   "cell_type": "markdown",
   "id": "a8aa9eeb",
   "metadata": {},
   "source": [
    "string.punctuation\n",
    "\n",
    "'!\"#$%&\\'()*+,-./:;<=>?@[\\\\]^_`{|}~'"
   ]
  },
  {
   "cell_type": "code",
   "execution_count": 24,
   "id": "9498c551",
   "metadata": {},
   "outputs": [],
   "source": [
    "def punct_count(text):\n",
    "    \n",
    "    text_length = sum([1 for x in text if x in string.punctuation])\n",
    "    \n",
    "    return text_length"
   ]
  },
  {
   "cell_type": "code",
   "execution_count": 25,
   "id": "bc802843",
   "metadata": {},
   "outputs": [],
   "source": [
    "final_news_df['punct_count'] = final_news_df['text'].apply(lambda x : punct_count(x))"
   ]
  },
  {
   "cell_type": "code",
   "execution_count": null,
   "id": "b4071f03",
   "metadata": {},
   "outputs": [],
   "source": []
  },
  {
   "cell_type": "markdown",
   "id": "9577a462",
   "metadata": {},
   "source": [
    "### (ii.) text_body_length"
   ]
  },
  {
   "cell_type": "code",
   "execution_count": 26,
   "id": "782c40fe",
   "metadata": {},
   "outputs": [],
   "source": [
    "final_news_df['text_body_length'] = final_news_df['text'].apply(lambda x: len(x) - x.count(\" \"))"
   ]
  },
  {
   "cell_type": "code",
   "execution_count": null,
   "id": "12db6d5e",
   "metadata": {},
   "outputs": [],
   "source": []
  },
  {
   "cell_type": "code",
   "execution_count": 27,
   "id": "de7b2f25",
   "metadata": {},
   "outputs": [
    {
     "data": {
      "text/html": [
       "<div>\n",
       "<style scoped>\n",
       "    .dataframe tbody tr th:only-of-type {\n",
       "        vertical-align: middle;\n",
       "    }\n",
       "\n",
       "    .dataframe tbody tr th {\n",
       "        vertical-align: top;\n",
       "    }\n",
       "\n",
       "    .dataframe thead th {\n",
       "        text-align: right;\n",
       "    }\n",
       "</style>\n",
       "<table border=\"1\" class=\"dataframe\">\n",
       "  <thead>\n",
       "    <tr style=\"text-align: right;\">\n",
       "      <th></th>\n",
       "      <th>title</th>\n",
       "      <th>text</th>\n",
       "      <th>subject</th>\n",
       "      <th>date</th>\n",
       "      <th>label</th>\n",
       "      <th>punct_count</th>\n",
       "      <th>text_body_length</th>\n",
       "    </tr>\n",
       "  </thead>\n",
       "  <tbody>\n",
       "    <tr>\n",
       "      <th>0</th>\n",
       "      <td>Trump Spokeswoman Slips Up, Says Trump’s Immigration Plan Won’t Work (VIDEO)</td>\n",
       "      <td>We are all getting whiplash from Donald Trump s constant flip-flopping on his immigration policy...</td>\n",
       "      <td>News</td>\n",
       "      <td>September 6, 2016</td>\n",
       "      <td>0</td>\n",
       "      <td>50</td>\n",
       "      <td>1840</td>\n",
       "    </tr>\n",
       "    <tr>\n",
       "      <th>1</th>\n",
       "      <td>Kansas is latest U.S. state to challenge Obama transgender directive</td>\n",
       "      <td>(Reuters) - Kansas vowed on Wednesday to sue the Obama administration over a directive telling U...</td>\n",
       "      <td>politicsNews</td>\n",
       "      <td>June 1, 2016</td>\n",
       "      <td>1</td>\n",
       "      <td>53</td>\n",
       "      <td>2236</td>\n",
       "    </tr>\n",
       "    <tr>\n",
       "      <th>2</th>\n",
       "      <td>Saviors or profiteers? Bangladesh fishermen rescue Rohingya, for a price</td>\n",
       "      <td>SHAMLAPUR, Bangladesh (Reuters) - For tens of thousands of Rohingya Muslims, an informal fleet o...</td>\n",
       "      <td>worldnews</td>\n",
       "      <td>September 15, 2017</td>\n",
       "      <td>1</td>\n",
       "      <td>130</td>\n",
       "      <td>4374</td>\n",
       "    </tr>\n",
       "    <tr>\n",
       "      <th>3</th>\n",
       "      <td>Spain aims to avoid economic damage to Catalonia through direct rule: PM</td>\n",
       "      <td>MADRID (Reuters) - Spain s central government aims to avoid further economic damage to the wealt...</td>\n",
       "      <td>worldnews</td>\n",
       "      <td>October 25, 2017</td>\n",
       "      <td>1</td>\n",
       "      <td>8</td>\n",
       "      <td>408</td>\n",
       "    </tr>\n",
       "    <tr>\n",
       "      <th>4</th>\n",
       "      <td>Venezuela says debt refinancing under way, S&amp;P calls selective default</td>\n",
       "      <td>CARACAS/NEW YORK (Reuters) - Venezuela s cash-strapped government insisted it had successfully b...</td>\n",
       "      <td>worldnews</td>\n",
       "      <td>November 14, 2017</td>\n",
       "      <td>1</td>\n",
       "      <td>130</td>\n",
       "      <td>4603</td>\n",
       "    </tr>\n",
       "    <tr>\n",
       "      <th>5</th>\n",
       "      <td>Soccer star Weah and VP Boakai near Liberia presidential run-off</td>\n",
       "      <td>MONROVIA (Reuters) - Liberian former soccer star George Weah and Vice President Joseph Boakai we...</td>\n",
       "      <td>worldnews</td>\n",
       "      <td>October 14, 2017</td>\n",
       "      <td>1</td>\n",
       "      <td>57</td>\n",
       "      <td>2110</td>\n",
       "    </tr>\n",
       "    <tr>\n",
       "      <th>6</th>\n",
       "      <td>AN INSIDE LOOK AT OBAMA’S 5-STAR SUMMER VACATION RETREAT: Meanwhile…62% Of Americans Won’t Be Ta...</td>\n",
       "      <td>About 62 percent of Americans say they won t be taking a vacation this summer at all. Out of tha...</td>\n",
       "      <td>left-news</td>\n",
       "      <td>Jul 7, 2015</td>\n",
       "      <td>0</td>\n",
       "      <td>41</td>\n",
       "      <td>1370</td>\n",
       "    </tr>\n",
       "    <tr>\n",
       "      <th>7</th>\n",
       "      <td>YEA BABY! Trump Reverses Obama Pro-Abortion “Parting Gift” To Planned Parenthood</td>\n",
       "      <td>President Trump just signed a law overturning a last-minute Obama-era regulation forcing states ...</td>\n",
       "      <td>politics</td>\n",
       "      <td>Apr 14, 2017</td>\n",
       "      <td>0</td>\n",
       "      <td>55</td>\n",
       "      <td>1538</td>\n",
       "    </tr>\n",
       "    <tr>\n",
       "      <th>8</th>\n",
       "      <td>Trump fills homeland security, environment, China ambassador jobs</td>\n",
       "      <td>WASHINGTON (Reuters) - President-elect Donald Trump on Wednesday picked a fossil fuel industry d...</td>\n",
       "      <td>politicsNews</td>\n",
       "      <td>December 7, 2016</td>\n",
       "      <td>1</td>\n",
       "      <td>93</td>\n",
       "      <td>3694</td>\n",
       "    </tr>\n",
       "    <tr>\n",
       "      <th>9</th>\n",
       "      <td>Russia's Lavrov tells Tillerson U.S. 'aggressive rhetoric' on Korea unacceptable</td>\n",
       "      <td>MOSCOW (Reuters) - Russian Foreign Minister Sergei Lavrov told U.S. Secretary of State Rex Tille...</td>\n",
       "      <td>worldnews</td>\n",
       "      <td>December 26, 2017</td>\n",
       "      <td>1</td>\n",
       "      <td>10</td>\n",
       "      <td>328</td>\n",
       "    </tr>\n",
       "  </tbody>\n",
       "</table>\n",
       "</div>"
      ],
      "text/plain": [
       "                                                                                                 title  \\\n",
       "0                         Trump Spokeswoman Slips Up, Says Trump’s Immigration Plan Won’t Work (VIDEO)   \n",
       "1                                 Kansas is latest U.S. state to challenge Obama transgender directive   \n",
       "2                             Saviors or profiteers? Bangladesh fishermen rescue Rohingya, for a price   \n",
       "3                             Spain aims to avoid economic damage to Catalonia through direct rule: PM   \n",
       "4                               Venezuela says debt refinancing under way, S&P calls selective default   \n",
       "5                                     Soccer star Weah and VP Boakai near Liberia presidential run-off   \n",
       "6  AN INSIDE LOOK AT OBAMA’S 5-STAR SUMMER VACATION RETREAT: Meanwhile…62% Of Americans Won’t Be Ta...   \n",
       "7                     YEA BABY! Trump Reverses Obama Pro-Abortion “Parting Gift” To Planned Parenthood   \n",
       "8                                    Trump fills homeland security, environment, China ambassador jobs   \n",
       "9                     Russia's Lavrov tells Tillerson U.S. 'aggressive rhetoric' on Korea unacceptable   \n",
       "\n",
       "                                                                                                  text  \\\n",
       "0  We are all getting whiplash from Donald Trump s constant flip-flopping on his immigration policy...   \n",
       "1  (Reuters) - Kansas vowed on Wednesday to sue the Obama administration over a directive telling U...   \n",
       "2  SHAMLAPUR, Bangladesh (Reuters) - For tens of thousands of Rohingya Muslims, an informal fleet o...   \n",
       "3  MADRID (Reuters) - Spain s central government aims to avoid further economic damage to the wealt...   \n",
       "4  CARACAS/NEW YORK (Reuters) - Venezuela s cash-strapped government insisted it had successfully b...   \n",
       "5  MONROVIA (Reuters) - Liberian former soccer star George Weah and Vice President Joseph Boakai we...   \n",
       "6  About 62 percent of Americans say they won t be taking a vacation this summer at all. Out of tha...   \n",
       "7  President Trump just signed a law overturning a last-minute Obama-era regulation forcing states ...   \n",
       "8  WASHINGTON (Reuters) - President-elect Donald Trump on Wednesday picked a fossil fuel industry d...   \n",
       "9  MOSCOW (Reuters) - Russian Foreign Minister Sergei Lavrov told U.S. Secretary of State Rex Tille...   \n",
       "\n",
       "        subject                 date  label  punct_count  text_body_length  \n",
       "0          News    September 6, 2016      0           50              1840  \n",
       "1  politicsNews        June 1, 2016       1           53              2236  \n",
       "2     worldnews  September 15, 2017       1          130              4374  \n",
       "3     worldnews    October 25, 2017       1            8               408  \n",
       "4     worldnews   November 14, 2017       1          130              4603  \n",
       "5     worldnews    October 14, 2017       1           57              2110  \n",
       "6     left-news          Jul 7, 2015      0           41              1370  \n",
       "7      politics         Apr 14, 2017      0           55              1538  \n",
       "8  politicsNews    December 7, 2016       1           93              3694  \n",
       "9     worldnews   December 26, 2017       1           10               328  "
      ]
     },
     "execution_count": 27,
     "metadata": {},
     "output_type": "execute_result"
    }
   ],
   "source": [
    "final_news_df.head(10)"
   ]
  },
  {
   "cell_type": "code",
   "execution_count": null,
   "id": "ea81e901",
   "metadata": {},
   "outputs": [],
   "source": []
  },
  {
   "cell_type": "markdown",
   "id": "5990b8b5",
   "metadata": {},
   "source": [
    "## 6. Data Preprocessing (Wrangaling and Cleaning )"
   ]
  },
  {
   "cell_type": "code",
   "execution_count": 28,
   "id": "3f4b9c56",
   "metadata": {},
   "outputs": [],
   "source": [
    "## Importing Vectorizer and Initializing Lemmatizer\n",
    "\n",
    "from sklearn.feature_extraction.text import TfidfVectorizer\n",
    "\n",
    "lemmatizer = nltk .WordNetLemmatizer()"
   ]
  },
  {
   "cell_type": "markdown",
   "id": "adc3bada",
   "metadata": {},
   "source": [
    "### (i.) Droping Unwanted Data Fields(Features)"
   ]
  },
  {
   "cell_type": "markdown",
   "id": "da1c242c",
   "metadata": {},
   "source": [
    "As the \"Date\" field and the \"Subject\" field does not contribute much into our dataset and machine learning model..!"
   ]
  },
  {
   "cell_type": "code",
   "execution_count": 29,
   "id": "3dac672e",
   "metadata": {},
   "outputs": [],
   "source": [
    "final_news_df.drop(['subject', 'date'], axis=1, inplace= True)"
   ]
  },
  {
   "cell_type": "code",
   "execution_count": null,
   "id": "ecf839e1",
   "metadata": {},
   "outputs": [],
   "source": []
  },
  {
   "cell_type": "markdown",
   "id": "b7a28003",
   "metadata": {},
   "source": [
    "### (ii.) Dropping Data points that has zero(0) value in text_body_lenght "
   ]
  },
  {
   "cell_type": "code",
   "execution_count": null,
   "id": "b386c368",
   "metadata": {},
   "outputs": [],
   "source": []
  },
  {
   "cell_type": "code",
   "execution_count": 30,
   "id": "e037f5d9",
   "metadata": {},
   "outputs": [],
   "source": [
    "zero_value_indexs = final_news_df[final_news_df['text_body_length'] == 0].index\n",
    "\n",
    "final_news_df.drop(index= zero_value_indexs, inplace= True)"
   ]
  },
  {
   "cell_type": "code",
   "execution_count": null,
   "id": "fff6836e",
   "metadata": {},
   "outputs": [],
   "source": []
  },
  {
   "cell_type": "markdown",
   "id": "5521bbb7",
   "metadata": {},
   "source": [
    "### (iii.) Cleaning data (Removing punctuation, stopwords and Lemmatizing the text)"
   ]
  },
  {
   "cell_type": "code",
   "execution_count": 31,
   "id": "4377620b",
   "metadata": {},
   "outputs": [],
   "source": [
    "def data_clean(text):\n",
    "    \n",
    "    ## converting text into lower case\n",
    "    data = text.lower()\n",
    "    \n",
    "    ## Removing Punctuations\n",
    "    no_punct_data = re.sub(r'\\W+', ' ', data)\n",
    "    \n",
    "    ## tokenizing the text\n",
    "    tokenize_text = re.split(r'\\s', no_punct_data)\n",
    "    \n",
    "    ## Stopwords\n",
    "    stop_words = stopwords.words('english')\n",
    "    \n",
    "    ## Removing Stopwords and Lemmatizing the text\n",
    "    clean_data = \" \".join([lemmatizer.lemmatize(x) for x in tokenize_text if x not in stop_words])\n",
    "    \n",
    "    \n",
    "    return clean_data"
   ]
  },
  {
   "cell_type": "code",
   "execution_count": null,
   "id": "2c885aef",
   "metadata": {},
   "outputs": [],
   "source": []
  },
  {
   "cell_type": "code",
   "execution_count": 32,
   "id": "40de9ffb",
   "metadata": {},
   "outputs": [],
   "source": [
    "final_news_df['text'] = final_news_df['text'].apply(lambda x: data_clean(x))"
   ]
  },
  {
   "cell_type": "code",
   "execution_count": 33,
   "id": "16c8b5f0",
   "metadata": {},
   "outputs": [],
   "source": [
    "final_news_df['title'] = final_news_df['title'].apply(lambda x: data_clean(x))"
   ]
  },
  {
   "cell_type": "code",
   "execution_count": 34,
   "id": "3141ff0e",
   "metadata": {},
   "outputs": [],
   "source": [
    "# final_news_df.head()"
   ]
  },
  {
   "cell_type": "code",
   "execution_count": null,
   "id": "b4a518d4",
   "metadata": {},
   "outputs": [],
   "source": []
  },
  {
   "cell_type": "markdown",
   "id": "f00f4883",
   "metadata": {},
   "source": [
    "### (iv.) Adding tokenize list of text_body into Dataset"
   ]
  },
  {
   "cell_type": "code",
   "execution_count": 35,
   "id": "d1d24538",
   "metadata": {},
   "outputs": [],
   "source": [
    "final_news_df['tokenized_text'] = final_news_df['text'].apply(lambda x: word_tokenize(x))"
   ]
  },
  {
   "cell_type": "code",
   "execution_count": 36,
   "id": "595bb172",
   "metadata": {},
   "outputs": [
    {
     "data": {
      "text/html": [
       "<div>\n",
       "<style scoped>\n",
       "    .dataframe tbody tr th:only-of-type {\n",
       "        vertical-align: middle;\n",
       "    }\n",
       "\n",
       "    .dataframe tbody tr th {\n",
       "        vertical-align: top;\n",
       "    }\n",
       "\n",
       "    .dataframe thead th {\n",
       "        text-align: right;\n",
       "    }\n",
       "</style>\n",
       "<table border=\"1\" class=\"dataframe\">\n",
       "  <thead>\n",
       "    <tr style=\"text-align: right;\">\n",
       "      <th></th>\n",
       "      <th>title</th>\n",
       "      <th>text</th>\n",
       "      <th>label</th>\n",
       "      <th>punct_count</th>\n",
       "      <th>text_body_length</th>\n",
       "      <th>tokenized_text</th>\n",
       "    </tr>\n",
       "  </thead>\n",
       "  <tbody>\n",
       "    <tr>\n",
       "      <th>0</th>\n",
       "      <td>trump spokeswoman slip say trump immigration plan work video</td>\n",
       "      <td>getting whiplash donald trump constant flip flopping immigration policy last week trump touting ...</td>\n",
       "      <td>0</td>\n",
       "      <td>50</td>\n",
       "      <td>1840</td>\n",
       "      <td>[getting, whiplash, donald, trump, constant, flip, flopping, immigration, policy, last, week, tr...</td>\n",
       "    </tr>\n",
       "    <tr>\n",
       "      <th>1</th>\n",
       "      <td>kansa latest u state challenge obama transgender directive</td>\n",
       "      <td>reuters kansa vowed wednesday sue obama administration directive telling u public school allow ...</td>\n",
       "      <td>1</td>\n",
       "      <td>53</td>\n",
       "      <td>2236</td>\n",
       "      <td>[reuters, kansa, vowed, wednesday, sue, obama, administration, directive, telling, u, public, sc...</td>\n",
       "    </tr>\n",
       "    <tr>\n",
       "      <th>2</th>\n",
       "      <td>savior profiteer bangladesh fisherman rescue rohingya price</td>\n",
       "      <td>shamlapur bangladesh reuters ten thousand rohingya muslim informal fleet small wooden fishing bo...</td>\n",
       "      <td>1</td>\n",
       "      <td>130</td>\n",
       "      <td>4374</td>\n",
       "      <td>[shamlapur, bangladesh, reuters, ten, thousand, rohingya, muslim, informal, fleet, small, wooden...</td>\n",
       "    </tr>\n",
       "    <tr>\n",
       "      <th>3</th>\n",
       "      <td>spain aim avoid economic damage catalonia direct rule pm</td>\n",
       "      <td>madrid reuters spain central government aim avoid economic damage wealthy northeastern region ca...</td>\n",
       "      <td>1</td>\n",
       "      <td>8</td>\n",
       "      <td>408</td>\n",
       "      <td>[madrid, reuters, spain, central, government, aim, avoid, economic, damage, wealthy, northeaster...</td>\n",
       "    </tr>\n",
       "    <tr>\n",
       "      <th>4</th>\n",
       "      <td>venezuela say debt refinancing way p call selective default</td>\n",
       "      <td>caracas new york reuters venezuela cash strapped government insisted successfully begun effort r...</td>\n",
       "      <td>1</td>\n",
       "      <td>130</td>\n",
       "      <td>4603</td>\n",
       "      <td>[caracas, new, york, reuters, venezuela, cash, strapped, government, insisted, successfully, beg...</td>\n",
       "    </tr>\n",
       "  </tbody>\n",
       "</table>\n",
       "</div>"
      ],
      "text/plain": [
       "                                                            title  \\\n",
       "0   trump spokeswoman slip say trump immigration plan work video    \n",
       "1      kansa latest u state challenge obama transgender directive   \n",
       "2     savior profiteer bangladesh fisherman rescue rohingya price   \n",
       "3        spain aim avoid economic damage catalonia direct rule pm   \n",
       "4     venezuela say debt refinancing way p call selective default   \n",
       "\n",
       "                                                                                                  text  \\\n",
       "0  getting whiplash donald trump constant flip flopping immigration policy last week trump touting ...   \n",
       "1   reuters kansa vowed wednesday sue obama administration directive telling u public school allow ...   \n",
       "2  shamlapur bangladesh reuters ten thousand rohingya muslim informal fleet small wooden fishing bo...   \n",
       "3  madrid reuters spain central government aim avoid economic damage wealthy northeastern region ca...   \n",
       "4  caracas new york reuters venezuela cash strapped government insisted successfully begun effort r...   \n",
       "\n",
       "   label  punct_count  text_body_length  \\\n",
       "0      0           50              1840   \n",
       "1      1           53              2236   \n",
       "2      1          130              4374   \n",
       "3      1            8               408   \n",
       "4      1          130              4603   \n",
       "\n",
       "                                                                                        tokenized_text  \n",
       "0  [getting, whiplash, donald, trump, constant, flip, flopping, immigration, policy, last, week, tr...  \n",
       "1  [reuters, kansa, vowed, wednesday, sue, obama, administration, directive, telling, u, public, sc...  \n",
       "2  [shamlapur, bangladesh, reuters, ten, thousand, rohingya, muslim, informal, fleet, small, wooden...  \n",
       "3  [madrid, reuters, spain, central, government, aim, avoid, economic, damage, wealthy, northeaster...  \n",
       "4  [caracas, new, york, reuters, venezuela, cash, strapped, government, insisted, successfully, beg...  "
      ]
     },
     "execution_count": 36,
     "metadata": {},
     "output_type": "execute_result"
    }
   ],
   "source": [
    "final_news_df.head()"
   ]
  },
  {
   "cell_type": "code",
   "execution_count": null,
   "id": "130d95f7",
   "metadata": {},
   "outputs": [],
   "source": []
  },
  {
   "cell_type": "markdown",
   "id": "f310bed3",
   "metadata": {},
   "source": [
    "### Visualizing some key factors of the dataset"
   ]
  },
  {
   "cell_type": "code",
   "execution_count": 37,
   "id": "2fd5ff14",
   "metadata": {},
   "outputs": [],
   "source": [
    "import seaborn as sns\n",
    "from nltk.tokenize import word_tokenize"
   ]
  },
  {
   "cell_type": "code",
   "execution_count": 44,
   "id": "c7924e4e",
   "metadata": {},
   "outputs": [],
   "source": [
    "# np.where(final_news_df['text_body_length'] == 0)"
   ]
  },
  {
   "cell_type": "code",
   "execution_count": 83,
   "id": "e7887010",
   "metadata": {},
   "outputs": [],
   "source": [
    "# # Create histogram of text body lengths\n",
    "# plt.hist(final_news_df['text_body_length'], bins=30)\n",
    "# plt.xlabel('Text Length')\n",
    "# plt.ylabel('Frequency')\n",
    "# plt.title('Distribution of Text Body Lengths')\n",
    "# plt.show()"
   ]
  },
  {
   "cell_type": "code",
   "execution_count": null,
   "id": "bd4a5436",
   "metadata": {},
   "outputs": [],
   "source": []
  },
  {
   "cell_type": "markdown",
   "id": "a23596dd",
   "metadata": {},
   "source": [
    "## 7. Spliting Data into Train and Test Sets"
   ]
  },
  {
   "cell_type": "code",
   "execution_count": 60,
   "id": "11100f8b",
   "metadata": {},
   "outputs": [],
   "source": [
    "from sklearn.model_selection import train_test_split"
   ]
  },
  {
   "cell_type": "code",
   "execution_count": 66,
   "id": "6900015e",
   "metadata": {},
   "outputs": [],
   "source": [
    "X = final_news_df['text']\n",
    "Y = final_news_df['label']"
   ]
  },
  {
   "cell_type": "code",
   "execution_count": 67,
   "id": "12696602",
   "metadata": {},
   "outputs": [],
   "source": [
    "#Split data into train and test set\n",
    "X_train, X_test, y_train, y_test = train_test_split(X, Y, test_size=0.2, random_state=42)"
   ]
  },
  {
   "cell_type": "code",
   "execution_count": null,
   "id": "4773ae0d",
   "metadata": {},
   "outputs": [],
   "source": []
  },
  {
   "cell_type": "markdown",
   "id": "1fb9db70",
   "metadata": {},
   "source": [
    "## 8. Text Vectorization"
   ]
  },
  {
   "cell_type": "code",
   "execution_count": 68,
   "id": "807902f5",
   "metadata": {},
   "outputs": [],
   "source": [
    "## We are using TFIDF Vectorizer.\n",
    "from sklearn.feature_extraction.text import TfidfVectorizer\n",
    "\n",
    "vectorizer = TfidfVectorizer(max_features=50000, lowercase= False, ngram_range=(1,2))"
   ]
  },
  {
   "cell_type": "code",
   "execution_count": 69,
   "id": "db8476e8",
   "metadata": {},
   "outputs": [],
   "source": [
    "X_train_vect = vectorizer.fit_transform(X_train)"
   ]
  },
  {
   "cell_type": "code",
   "execution_count": null,
   "id": "3ed3d92e",
   "metadata": {},
   "outputs": [],
   "source": []
  },
  {
   "cell_type": "markdown",
   "id": "6d289e55",
   "metadata": {},
   "source": [
    "## 9. Initializign Model and Training Model"
   ]
  },
  {
   "cell_type": "code",
   "execution_count": 74,
   "id": "3f75ba4d",
   "metadata": {},
   "outputs": [],
   "source": [
    "from sklearn.naive_bayes import MultinomialNB\n",
    "from sklearn.metrics import accuracy_score"
   ]
  },
  {
   "cell_type": "code",
   "execution_count": 71,
   "id": "e18190a7",
   "metadata": {},
   "outputs": [
    {
     "data": {
      "text/html": [
       "<style>#sk-container-id-1 {color: black;background-color: white;}#sk-container-id-1 pre{padding: 0;}#sk-container-id-1 div.sk-toggleable {background-color: white;}#sk-container-id-1 label.sk-toggleable__label {cursor: pointer;display: block;width: 100%;margin-bottom: 0;padding: 0.3em;box-sizing: border-box;text-align: center;}#sk-container-id-1 label.sk-toggleable__label-arrow:before {content: \"▸\";float: left;margin-right: 0.25em;color: #696969;}#sk-container-id-1 label.sk-toggleable__label-arrow:hover:before {color: black;}#sk-container-id-1 div.sk-estimator:hover label.sk-toggleable__label-arrow:before {color: black;}#sk-container-id-1 div.sk-toggleable__content {max-height: 0;max-width: 0;overflow: hidden;text-align: left;background-color: #f0f8ff;}#sk-container-id-1 div.sk-toggleable__content pre {margin: 0.2em;color: black;border-radius: 0.25em;background-color: #f0f8ff;}#sk-container-id-1 input.sk-toggleable__control:checked~div.sk-toggleable__content {max-height: 200px;max-width: 100%;overflow: auto;}#sk-container-id-1 input.sk-toggleable__control:checked~label.sk-toggleable__label-arrow:before {content: \"▾\";}#sk-container-id-1 div.sk-estimator input.sk-toggleable__control:checked~label.sk-toggleable__label {background-color: #d4ebff;}#sk-container-id-1 div.sk-label input.sk-toggleable__control:checked~label.sk-toggleable__label {background-color: #d4ebff;}#sk-container-id-1 input.sk-hidden--visually {border: 0;clip: rect(1px 1px 1px 1px);clip: rect(1px, 1px, 1px, 1px);height: 1px;margin: -1px;overflow: hidden;padding: 0;position: absolute;width: 1px;}#sk-container-id-1 div.sk-estimator {font-family: monospace;background-color: #f0f8ff;border: 1px dotted black;border-radius: 0.25em;box-sizing: border-box;margin-bottom: 0.5em;}#sk-container-id-1 div.sk-estimator:hover {background-color: #d4ebff;}#sk-container-id-1 div.sk-parallel-item::after {content: \"\";width: 100%;border-bottom: 1px solid gray;flex-grow: 1;}#sk-container-id-1 div.sk-label:hover label.sk-toggleable__label {background-color: #d4ebff;}#sk-container-id-1 div.sk-serial::before {content: \"\";position: absolute;border-left: 1px solid gray;box-sizing: border-box;top: 0;bottom: 0;left: 50%;z-index: 0;}#sk-container-id-1 div.sk-serial {display: flex;flex-direction: column;align-items: center;background-color: white;padding-right: 0.2em;padding-left: 0.2em;position: relative;}#sk-container-id-1 div.sk-item {position: relative;z-index: 1;}#sk-container-id-1 div.sk-parallel {display: flex;align-items: stretch;justify-content: center;background-color: white;position: relative;}#sk-container-id-1 div.sk-item::before, #sk-container-id-1 div.sk-parallel-item::before {content: \"\";position: absolute;border-left: 1px solid gray;box-sizing: border-box;top: 0;bottom: 0;left: 50%;z-index: -1;}#sk-container-id-1 div.sk-parallel-item {display: flex;flex-direction: column;z-index: 1;position: relative;background-color: white;}#sk-container-id-1 div.sk-parallel-item:first-child::after {align-self: flex-end;width: 50%;}#sk-container-id-1 div.sk-parallel-item:last-child::after {align-self: flex-start;width: 50%;}#sk-container-id-1 div.sk-parallel-item:only-child::after {width: 0;}#sk-container-id-1 div.sk-dashed-wrapped {border: 1px dashed gray;margin: 0 0.4em 0.5em 0.4em;box-sizing: border-box;padding-bottom: 0.4em;background-color: white;}#sk-container-id-1 div.sk-label label {font-family: monospace;font-weight: bold;display: inline-block;line-height: 1.2em;}#sk-container-id-1 div.sk-label-container {text-align: center;}#sk-container-id-1 div.sk-container {/* jupyter's `normalize.less` sets `[hidden] { display: none; }` but bootstrap.min.css set `[hidden] { display: none !important; }` so we also need the `!important` here to be able to override the default hidden behavior on the sphinx rendered scikit-learn.org. See: https://github.com/scikit-learn/scikit-learn/issues/21755 */display: inline-block !important;position: relative;}#sk-container-id-1 div.sk-text-repr-fallback {display: none;}</style><div id=\"sk-container-id-1\" class=\"sk-top-container\"><div class=\"sk-text-repr-fallback\"><pre>MultinomialNB()</pre><b>In a Jupyter environment, please rerun this cell to show the HTML representation or trust the notebook. <br />On GitHub, the HTML representation is unable to render, please try loading this page with nbviewer.org.</b></div><div class=\"sk-container\" hidden><div class=\"sk-item\"><div class=\"sk-estimator sk-toggleable\"><input class=\"sk-toggleable__control sk-hidden--visually\" id=\"sk-estimator-id-1\" type=\"checkbox\" checked><label for=\"sk-estimator-id-1\" class=\"sk-toggleable__label sk-toggleable__label-arrow\">MultinomialNB</label><div class=\"sk-toggleable__content\"><pre>MultinomialNB()</pre></div></div></div></div></div>"
      ],
      "text/plain": [
       "MultinomialNB()"
      ]
     },
     "execution_count": 71,
     "metadata": {},
     "output_type": "execute_result"
    }
   ],
   "source": [
    "# Train a Multinomial Naive Bayes model on the training data\n",
    "\n",
    "model = MultinomialNB()\n",
    "\n",
    "model.fit(X_train_vect, y_train)"
   ]
  },
  {
   "cell_type": "code",
   "execution_count": 80,
   "id": "8305093a",
   "metadata": {},
   "outputs": [
    {
     "name": "stdout",
     "output_type": "stream",
     "text": [
      "Test set Accuracy: 0.9542579625028236\n"
     ]
    }
   ],
   "source": [
    "X_test_vect = vectorizer.transform(X_test)\n",
    "\n",
    "# Make predictions on the Testing data using the trained model\n",
    "y_pred = model.predict(X_test_vect)\n",
    "\n",
    "# Evaluate the accuracy of the model\n",
    "testdata_accuracy = accuracy_score(y_test, y_pred)\n",
    "\n",
    "print(\"Test set Accuracy:\", testdata_accuracy)"
   ]
  },
  {
   "cell_type": "code",
   "execution_count": 84,
   "id": "1f4f5771",
   "metadata": {},
   "outputs": [
    {
     "name": "stdout",
     "output_type": "stream",
     "text": [
      "Training set Accuracy: 0.9588569169514021\n"
     ]
    }
   ],
   "source": [
    "# Make predictions on the Training data using the trained model\n",
    "y_train_pred = model.predict(X_train_vect)\n",
    "\n",
    "# Evaluate the accuracy of the model\n",
    "traindata_accuracy = accuracy_score(y_train, y_train_pred)\n",
    "\n",
    "print(\"Training set Accuracy:\", traindata_accuracy)"
   ]
  },
  {
   "cell_type": "code",
   "execution_count": null,
   "id": "cec66011",
   "metadata": {},
   "outputs": [],
   "source": []
  },
  {
   "cell_type": "code",
   "execution_count": 81,
   "id": "8b0fc183",
   "metadata": {},
   "outputs": [
    {
     "data": {
      "text/plain": [
       "0.9588569169514021"
      ]
     },
     "execution_count": 81,
     "metadata": {},
     "output_type": "execute_result"
    }
   ],
   "source": [
    "model.score(X_train_vect, y_train)"
   ]
  },
  {
   "cell_type": "code",
   "execution_count": 82,
   "id": "e801c2ae",
   "metadata": {},
   "outputs": [
    {
     "data": {
      "text/plain": [
       "0.9542579625028236"
      ]
     },
     "execution_count": 82,
     "metadata": {},
     "output_type": "execute_result"
    }
   ],
   "source": [
    "model.score(X_test_vect, y_test)"
   ]
  },
  {
   "cell_type": "code",
   "execution_count": null,
   "id": "614f622b",
   "metadata": {},
   "outputs": [],
   "source": []
  },
  {
   "cell_type": "markdown",
   "id": "c53e563e",
   "metadata": {},
   "source": [
    "## 10. Saving Model"
   ]
  },
  {
   "cell_type": "code",
   "execution_count": 85,
   "id": "335a14ad",
   "metadata": {},
   "outputs": [
    {
     "data": {
      "text/plain": [
       "['model.pkl']"
      ]
     },
     "execution_count": 85,
     "metadata": {},
     "output_type": "execute_result"
    }
   ],
   "source": [
    "import joblib\n",
    "\n",
    "joblib.dump(model, 'model.pkl')"
   ]
  },
  {
   "cell_type": "code",
   "execution_count": 94,
   "id": "77e3cf93",
   "metadata": {},
   "outputs": [],
   "source": [
    "# model = joblib.load('model.pkl')\n",
    "\n",
    "\n",
    "# new_data = [\"On Sunday, December 4, 2016, a shooting incident occurred at a pizza shop in northwestern Washington D.C. during the middle of the day. This was in a busy but peaceful shopping district, and the shop was filled with families. A man brought a rifle into the shop and began shooting. Fortunately, no one was hurt, and the suspect was arrested, but the motive for this crime and the circumstances that triggered it were shocking.\"]\n",
    "\n",
    "\n",
    "# predicted_labels = model.predict(new_data)\n",
    "\n",
    "# predicted_labels"
   ]
  },
  {
   "cell_type": "code",
   "execution_count": null,
   "id": "35a7d454",
   "metadata": {},
   "outputs": [],
   "source": []
  }
 ],
 "metadata": {
  "kernelspec": {
   "display_name": "Python 3 (ipykernel)",
   "language": "python",
   "name": "python3"
  },
  "language_info": {
   "codemirror_mode": {
    "name": "ipython",
    "version": 3
   },
   "file_extension": ".py",
   "mimetype": "text/x-python",
   "name": "python",
   "nbconvert_exporter": "python",
   "pygments_lexer": "ipython3",
   "version": "3.11.0"
  }
 },
 "nbformat": 4,
 "nbformat_minor": 5
}
